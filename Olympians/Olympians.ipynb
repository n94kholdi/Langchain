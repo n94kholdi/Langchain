{
 "cells": [
  {
   "cell_type": "markdown",
   "metadata": {},
   "source": [
    "<h1 dir=rtl align=center style=\"line-height:200%;font-family:vazir;color:#0099cc\">\n",
    "<font face=\"vazir\" color=\"#0099cc\">\n",
    "الهه‌شناسی\n",
    "</font>\n",
    "</h1>\n",
    "<p dir=rtl style=\"direction: rtl; text-align: justify; line-height:200%; font-family:vazir; font-size:medium\">\n",
    "<font face=\"vazir\" size=3>\n",
    "در این پروژه قرار است یک مدل زبانی عظیم را به‌گونه‌ای تقویت کنیم که بتواند درباره‌ی خدایان یونانی، مانند زئوس و آتنا، اطلاعات جذاب و دقیقی ارائه دهد و به سؤالات ما در این حوزه پاسخ‌های بهتری بدهد. در این تمرین یاد می‌گیریم که چطور با ارائه چند مثال مناسب، مدل را تقویت کنیم تا جواب‌های مرتبط‌تری تولید کند. همچنین می‌آموزیم که چگونه سؤالات خود را به‌شکلی دقیق و منظم مطرح کنیم تا مدل بتواند بهتر و مؤثرتر پاسخ دهد. در نهایت، هدف این است که مدلی هوشمند ایجاد کنیم که بتواند درباره‌ی اساطیر یونان، پاسخ‌های کوتاه و مفیدی ارائه کند.\n",
    "</font>\n",
    "</p>"
   ]
  },
  {
   "cell_type": "markdown",
   "metadata": {},
   "source": [
    "<h2 dir=\"rtl\" align=\"right\" style=\"line-height:200%;font-family:vazir;color:#0099cc\">\n",
    "<font face=\"vazir\" color=\"#0099cc\">\n",
    "تنظیم کلید <code>API</code></font>\n",
    "</h2>\n",
    "<p dir=\"rtl\" style=\"direction: rtl; text-align: justify; line-height:200%; font-family:vazir; font-size:medium\">\n",
    "در ابتدا به تنظیم کلید <code>API</code> می‌پردازیم.\n",
    "با اجرای سلول زیر و وارد کردن کلید <code>API</code> محیط کار شما آماده‌ی استفاده از سرویس‌های <i>Cohere</i> می‌شود.\n",
    "</p>"
   ]
  },
  {
   "cell_type": "code",
   "execution_count": 1,
   "metadata": {},
   "outputs": [],
   "source": [
    "import getpass\n",
    "import os\n",
    "os.environ[\"COHERE_API_KEY\"] = getpass.getpass()"
   ]
  },
  {
   "cell_type": "code",
   "execution_count": 2,
   "metadata": {},
   "outputs": [],
   "source": [
    "cohere_api_key = os.environ[\"COHERE_API_KEY\"]"
   ]
  },
  {
   "cell_type": "markdown",
   "metadata": {},
   "source": [
    "<h2 dir=rtl align=right style=\"line-height:200%;font-family:vazir;color:#0099cc\">\n",
    "<font face=\"vazir\" color=\"#0099cc\">\n",
    "اطلاعات مربوط به خدایان</font>\n",
    "</h2>\n",
    "\n",
    "<p dir=rtl style=\"direction: rtl; text-align: justify; line-height:200%; font-family:vazir; font-size:medium\">\n",
    "<font face=\"vazir\" size=3>\n",
    "اطلاعات مربوط به خدایان یونان در فایلی به نام <code>gods.json</code> در پوشه‌ی <code>data</code> قرار گرفته است.\n",
    " این فایل شامل جزئیاتی مانند نام، توضیحات، ظاهر و ویژگی‌های خدایان است. برای مثال، اطلاعات زئوس شامل نقش او به عنوان پادشاه خدایان، ظاهر فیزیکی‌اش و ویژگی‌های برجسته مانند رعد و عصای سلطنتی است.\n",
    " <br>\n",
    "در نخستین گام نیاز است که این داده‌ها را از فایل <code>JSON</code> خوانده و به یک رشته‌ی متنی تبدیل کنید. تا در ادامه آن را به‌عنوان پیام سیستم به مدل بدهید. \n",
    "</font>\n",
    "</p>\n",
    "<p dir=rtl style=\"direction: rtl; text-align: justify; line-height:200%; font-family:vazir; font-size:medium\">\n",
    "<font color=\"red\"><b color='red'>توجه:</b></font>\n",
    "<font face=\"vazir\" size=3>\n",
    "ما این اطلاعات را به‌عنوان پیام سیستم به مدل می‌دهیم تا یک زمینه یا دستورالعمل مشخص برای مدل فراهم کنیم. پیام سیستم به مدل کمک می‌کند تا بداند در چه زمینه‌ای باید پاسخ دهد و چه اطلاعاتی برای ارائه‌ی پاسخی دقیق‌تر و مرتبط‌تر استفاده کند. در اینجا، اطلاعات مربوط به خدایان یونانی به مدل داده می‌شود تا پاسخ‌هایش به سؤالات کاربران بر اساس این داده‌ها باشد. این کار باعث می‌شود مدل به جای تولید پاسخ‌های عمومی و نادقیق، اطلاعات دقیقی را که در پیام سیستم آمده است، در پاسخ‌های خود لحاظ کند و به‌شکل مناسب‌تری به سؤالات کاربر درباره‌ی خدایان یونانی جواب دهد.\n",
    "</font>\n",
    "</p>\n",
    "\n",
    "<p dir=rtl style=\"direction: rtl; text-align: justify; line-height:200%; font-family:vazir; font-size:medium\">\n",
    "<font face=\"vazir\" size=3>\n",
    "در سلول زیر ابتدا فایل <code>gods.json</code> را خوانده و آن را در یک متغیر با نام <code>gods</code> نگه‌داری کنید.\n",
    "</font>\n",
    "</p>"
   ]
  },
  {
   "cell_type": "code",
   "execution_count": 3,
   "metadata": {},
   "outputs": [
    {
     "name": "stdout",
     "output_type": "stream",
     "text": [
      "[{'name': 'زئوس', 'description': 'زئوس بر کوه الیمپوس حکومت می\\u200cکند و پادشاه خدایان است. او پسر کرونوس و ریا، شوهر هرا است، و 15 کودک دارد که همه آنها المپیایی هستند.', 'appearance': 'او به عنوان یک مرد قد بلند و ستبر با لباس فاخر نشان داده شده است. او دارای موی بلند و ریش بلند است. به طور کلی، او به صورت ایستاده به تصویر درآمده است.', 'features': 'رعد، اسلحه او و ویژگی اصلی وی است که به طور کلی در دست راست او قرار دارد. گاهی اوقات او یک عصای سلطنتی را در دست چپ خود حمل می\\u200cکند. گاو و عقاب حیوانات مقدس او هستند.'}, {'name': 'هادس', 'description': 'هادس خدای مرگ است. او پروردگار عالم اموات و نگهبان همه ثروت\\u200cهایی است که در زیر زمین پنهان است. او برادر بزرگتر زئوس است و با پرسفونه ازدواج کرده است.', 'appearance': \"اگرچه او تصویرهای کلاسیک زیادی ندارد، او به همراه سگ سه سر خود 'کربروس' که در کنار او نشسته است، به تصویر در آمده است.\", 'features': 'او همیشه دارای یک حلقه تیره و کلید هادس در دستانش است. پرنده مقدسش جغد جادوگر است.'}, {'name': 'پوسوئیدون', 'description': 'اغلب به عنوان نپتون شناخته می\\u200cشود، پوسوئیدون ارباب دریا است. او کسی است که اسب\\u200cها را از کف دریا ایجاد می\\u200cکند و همچنین ایجاد کننده زلزله است. او برادر زئوس و هادس است.', 'appearance': 'او به عنوان یک پیرمرد محکم با ریش بلند به نظر می\\u200cرسد و یک نیزه سه\\u200cشاخ در دست دارد.', 'features': 'او معمولا یک نیزه سه\\u200cشاخ را نگه می\\u200cدارد.'}, {'name': 'هرا', 'description': 'هرا الهه زایمان و ازدواج است. اغلب گفته می\\u200cشود الهه زنانگی است و همسر و خواهر زئوس است.', 'appearance': 'او به عنوان یک زن آرام و چشم\\u200cگیر، که اغلب روی تخت نشسته و یک تاج روی سر او نشسته است، تصویر می\\u200cکنند.', 'features': 'او یک انار و یک کودک نوپا در دست دارد. حیوانات مرتبط با هرا شامل شیر و طاووس هستند.'}, {'name': 'دمتر', 'description': 'دمتر به عنوان خدای کشاورزان در نظر گرفته شده، الهه باروری، جوانه، کشاورزی، برداشت، و خلاقیت است. او خواهر زئوس و آرام\\u200cترین خدایان است.', 'appearance': 'دمتر به صورت ایستاده یا نشسته، به شکل یک مادر، زن بالغ، لباس بلند و حجاب پوشیده است.', 'features': 'او حامل ذرت و یک مشعل و گاهی اوقات یک گرز است. حیوانات نشان داده شده در کنار دمتر عبارتند از خوک و مار.'}, {'name': 'هستیا', 'description': 'هستیا خواهر زئوس است و الهه خانه، احشام و پخت و پز است. او نقطه مرکزی تمام خانه\\u200cهای متمدن یونان است.', 'appearance': 'او به عنوان یک زن بالغ و متعادل با یک حجاب، به صورت ایستاده به تصویر کشیده شده است.', 'features': 'ابزار همراه او عبارتند از: قوری و کتری.'}, {'name': 'آرس', 'description': 'آرس خدای نظم، شجاعت، خشونت، و خونریزی است، در نتیجه همه جنبه\\u200cهای منفی و مثبت را دارد. او پسر زئوس و هرا و معشوق آفرودیت است.', 'appearance': 'او در حالت ایستاده یا به عنوان یک فرد قوی و بالغ با ریش تیره\\u200cای تصویر می\\u200cشود و به عنوان یک جنگجوی سالم یا جوان لباس پوشیده است.', 'features': 'او دارای یک سپر و شمشیر در دست خود است و دارای یک کلاه خود روی سر می\\u200cباشد. حیواناتی که برای او مقدس هستند، مارها، خرچنگ\\u200cها، گاوها، گربه\\u200cها و سگ\\u200cها هستند.'}, {'name': 'هرمس', 'description': 'این پسر زئوس خدای بدبختی، سفر، تجارت، زبان و حیوانات است. او رسول خدایان است و دارای برخوردی طنز آمیز، که ترفندی برای بازی با مردم است.', 'appearance': 'در تصاویر معمول، او یک جوان قوی و ورزشکار است یا یک پیرمرد با ریش بلند.', 'features': 'او یک گرز را حمل می\\u200cکند و کلاه خود می\\u200cپوشد. حیوانات مرتبط با هرمس، لاک پشت، و خرگوش هستند.'}, {'name': 'دیونیسوس', 'description': 'پسر زئوس، دیونیسوس خدای لذت و شادی است. او شراب، احزاب، جشنواره\\u200cها و جشن\\u200cهای شاد را اداره می\\u200cکند.', 'appearance': 'او به عنوان یک جوان یا یک پیرمرد نقاشی شده است. به عنوان یک مرد جوان، او موهای بلندی دارد و بی\\u200cرحم است. به عنوان یک پیرمرد نیز، او ریش بلند دارد.', 'features': 'شایع\\u200cترین وسایل همراه او عبارتند از فنجان، انگور و آجیل. او در کنار حیواناتی مانند مارها، دلفین، ببر و گاه الاغ تصویر شده است.'}, {'name': 'هفایستوس', 'description': 'هفایستوس، شوهر آفرودیت و پسر زئوس، خدای آهنگران و تمام کارگران فلزکار و همچنین سنگ\\u200cهای قیمتی است. او همچنین خدای فناوری است و به نظر می\\u200cرسد که بسیار ماهر است.', 'appearance': 'او به عنوان یک مرد سالخورده چکش به دست و نشسته روی یک الاغ است.', 'features': 'وسایل همراه او شامل ابزارهای آهنگری و حیوانات مقدس او شامل گاوآهن و سگ، به غیر از الاغ او است.'}, {'name': 'آپولون', 'description': 'آپولون آگاه\\u200cترین خدای یونانی است. او خدای موسیقی، پزشکی، سلامتی، نور، حقیقت و تیراندازی است. او با خورشید همراه است و خدای زیبایی است. او پسر زئوس و دوقلوی آرتمیس است.', 'appearance': 'او به عنوان یک مرد جوان قد بلند با موهای بامزه و یک فریبندگی استادانه توصیف شده است. اکثر تصاویر او را در موقعیت ایستاده نشان می\\u200cدهند.', 'features': 'نمادهای همراه او ظرف، لیره و برگ است. حیواناتی همراه او، قوها، گاو، گوزن، روباه، مار و کلاغ هستند.'}, {'name': 'آرتمیس', 'description': 'او دوقلوی آپولو است. او الهه شکار، بکارت، حیات وحش و جریان داشتن است.', 'appearance': 'او به عنوان یک زن جوان که لباس تا زانو پوشیده توصیف شده است. او همیشه به تیر و کمان مجهز است.', 'features': 'به غیر از تیر و کمان، ویژگی\\u200cهای او شامل شکار حیوانات است. بسیاری از اوقات، او با گوزن همراه است. سایر حیوانات مرتبط با او شامل گرازهای وحشی، خرس و سگ هستند.'}, {'name': 'آفرودیت', 'description': 'همسر دروغین هفایستوس و دختر زئوس می\\u200cباشد، آفرودیت الهه عشق، شهوت، و زیبایی است.', 'appearance': 'او به عنوان یک زن جوان زیبا با یک موی سر زیبا توصیف شده است.', 'features': 'پرنده مقدسش کبوتر است. نمادهای او عبارتند از خردل، گل رز و انار.'}, {'name': 'آتنا', 'description': 'او الهه حکمت و جنگ است. آتنا از سر زئوس با زره بر بدنش متولد شد و نشان داد که او یک جنگجو متولد شده است. او حامی شهر آتن است.', 'appearance': 'او به عنوان یک زن قوی با موی بلند سر و گردنش تصویر شده است.', 'features': 'او یک سپر و یک شمشیر در دستانش دارد و با یک جغد همراه است.'}]\n"
     ]
    }
   ],
   "source": [
    "import json\n",
    "\n",
    "# TODO: Read the file \"gods.json\" and load it into the variable \"gods\"\n",
    "with open(\"data/gods.json\", 'r') as file:\n",
    "    gods = json.load(file)\n",
    "\n",
    "print(gods)"
   ]
  },
  {
   "cell_type": "code",
   "execution_count": 4,
   "metadata": {},
   "outputs": [
    {
     "name": "stdout",
     "output_type": "stream",
     "text": [
      "Total number of items: 14\n"
     ]
    }
   ],
   "source": [
    "print('Total number of items:', len(gods))"
   ]
  },
  {
   "cell_type": "code",
   "execution_count": 5,
   "metadata": {},
   "outputs": [
    {
     "data": {
      "text/plain": [
       "{'name': 'زئوس',\n",
       " 'description': 'زئوس بر کوه الیمپوس حکومت می\\u200cکند و پادشاه خدایان است. او پسر کرونوس و ریا، شوهر هرا است، و 15 کودک دارد که همه آنها المپیایی هستند.',\n",
       " 'appearance': 'او به عنوان یک مرد قد بلند و ستبر با لباس فاخر نشان داده شده است. او دارای موی بلند و ریش بلند است. به طور کلی، او به صورت ایستاده به تصویر درآمده است.',\n",
       " 'features': 'رعد، اسلحه او و ویژگی اصلی وی است که به طور کلی در دست راست او قرار دارد. گاهی اوقات او یک عصای سلطنتی را در دست چپ خود حمل می\\u200cکند. گاو و عقاب حیوانات مقدس او هستند.'}"
      ]
     },
     "execution_count": 5,
     "metadata": {},
     "output_type": "execute_result"
    }
   ],
   "source": [
    "# Let's print the first item in the list to see what it looks like\n",
    "gods[0]"
   ]
  },
  {
   "cell_type": "markdown",
   "metadata": {},
   "source": [
    "<h2 dir=rtl align=right style=\"line-height:200%;font-family:vazir;color:#0099cc\">\n",
    "<font face=\"vazir\" color=\"#0099cc\">\n",
    "ساخت پیام سیستم</font>\n",
    "</h2>\n",
    "\n",
    "<p dir=rtl style=\"direction: rtl; text-align: justify; line-height:200%; font-family:vazir; font-size:medium\">\n",
    "<font face=\"vazir\" size=3>\n",
    "اکنون نیاز است دستور اصلی یعنی پیام سیستمی ورودی به مدل را تعریف کنید. در این دستور نیاز است علاوه‌بر نکاتی که خود فکر می‌کنید برای بهبود کیفیت پاسخ‌گویی مدل مناسب هستند، اطلاعاتی مربوط به خدایان یونانی را که در مرحله‌ی پیشین از فایل خواندید نیز به دستور اضافه کنید تا مدل بتواند طبق آن‌ها به کاربر پاسخ دهد. \n",
    "<p dir=rtl style=\"direction: rtl; text-align: justify; line-height:200%; font-family:vazir; font-size:medium\">\n",
    "<font color=\"red\"><b color='red'>توجه:</b></font>\n",
    "<font face=\"vazir\" size=3>\n",
    "در نگارش دستور خود نیاز است حداقل به نکات زیر توجه داشته باشید:\n",
    "<ul dir=rtl style=\"direction: rtl; text-align: justify; line-height:200%; font-family:vazir; font-size:medium\">\n",
    "<li> اطلاعات موجود در متغیر <code>gods</code> را درون دستور قرار دهید</li>\n",
    "<li> مدل باید به سوالات کاربر در کوتاه‌ترین حد ممکن (در حد نهایت ۴ الی ۵ کلمه) پاسخ دهد</li>\n",
    "<li> مدل اگر نتواند در حد ۴ یا ۵ کلمه به سوال پاسخ دهد یا یاسخ سوالی را نمی‌داند با رشته‌ی «نمی‌دانم» پاسخ دهد</li>\n",
    "</ul>\n",
    "</font>\n",
    "</p>\n",
    "<font face=\"vazir\" size=3>\n",
    "<p dir=rtl style=\"direction: rtl; text-align: justify; line-height:200%; font-family:vazir; font-size:medium\">\n",
    "توجه داشته باشید که می‌توانید این دستورات را به زبان انگلیسی هم بدهید، البته مدل باید در نهایت به فارسی پاسخ دهد. همچنین جواب سوالاتی که نمی‌داند باید دقیقاً معادل «نمی‌دانم» باشد.\n",
    "</font>\n",
    "</p>\n",
    "\n"
   ]
  },
  {
   "cell_type": "code",
   "execution_count": 6,
   "metadata": {},
   "outputs": [
    {
     "name": "stdout",
     "output_type": "stream",
     "text": [
      "\n",
      "    ✅ فقط و فقط از اطلاعات زیر برای پاسخ‌دهی استفاده کن.\n",
      "✅ به هیچ عنوان از دانسته‌های خود یا هر اطلاعاتی خارج از متن زیر استفاده نکن.\n",
      "✅ اگر پاسخ در اطلاعات زیر وجود ندارد، فقط بنویس: «نمی‌دانم».\n",
      "✅ پاسخ را کوتاه بده؛ حداکثر ۵ کلمه. اگر مجبور شدی بیشتر بنویسی، فقط بگو: «نمی‌دانم».\n",
      "✅ از هیچ حدس، تفسیر، یا استنباط شخصی استفاده نکن. اگر شک داشتی، بگو: «نمی‌دانم».\n",
      "✅ به عنوان یک ربات پاسخگو، هیچ دانش اضافی غیر از داده‌های زیر نداری.\n",
      "\n",
      "\n",
      "خدایان:\n",
      "    \n",
      "زئوس \n",
      " -زئوس بر کوه الیمپوس حکومت می‌کند و پادشاه خدایان است. او پسر کرونوس و ریا، شوهر هرا است، و 15 کودک دارد که همه آنها المپیایی هستند. \n",
      " -او به عنوان یک مرد قد بلند و ستبر با لباس فاخر نشان داده شده است. او دارای موی بلند و ریش بلند است. به طور کلی، او به صورت ایستاده به تصویر درآمده است. \n",
      " -رعد، اسلحه او و ویژگی اصلی وی است که به طور کلی در دست راست او قرار دارد. گاهی اوقات او یک عصای سلطنتی را در دست چپ خود حمل می‌کند. گاو و عقاب حیوانات مقدس او هستند.\n",
      "\n",
      "هادس \n",
      " -هادس خدای مرگ است. او پروردگار عالم اموات و نگهبان همه ثروت‌هایی است که در زیر زمین پنهان است. او برادر بزرگتر زئوس است و با پرسفونه ازدواج کرده است. \n",
      " -اگرچه او تصویرهای کلاسیک زیادی ندارد، او به همراه سگ سه سر خود 'کربروس' که در کنار او نشسته است، به تصویر در آمده است. \n",
      " -او همیشه دارای یک حلقه تیره و کلید هادس در دستانش است. پرنده مقدسش جغد جادوگر است.\n",
      "\n",
      "پوسوئیدون \n",
      " -اغلب به عنوان نپتون شناخته می‌شود، پوسوئیدون ارباب دریا است. او کسی است که اسب‌ها را از کف دریا ایجاد می‌کند و همچنین ایجاد کننده زلزله است. او برادر زئوس و هادس است. \n",
      " -او به عنوان یک پیرمرد محکم با ریش بلند به نظر می‌رسد و یک نیزه سه‌شاخ در دست دارد. \n",
      " -او معمولا یک نیزه سه‌شاخ را نگه می‌دارد.\n",
      "\n",
      "هرا \n",
      " -هرا الهه زایمان و ازدواج است. اغلب گفته می‌شود الهه زنانگی است و همسر و خواهر زئوس است. \n",
      " -او به عنوان یک زن آرام و چشم‌گیر، که اغلب روی تخت نشسته و یک تاج روی سر او نشسته است، تصویر می‌کنند. \n",
      " -او یک انار و یک کودک نوپا در دست دارد. حیوانات مرتبط با هرا شامل شیر و طاووس هستند.\n",
      "\n",
      "دمتر \n",
      " -دمتر به عنوان خدای کشاورزان در نظر گرفته شده، الهه باروری، جوانه، کشاورزی، برداشت، و خلاقیت است. او خواهر زئوس و آرام‌ترین خدایان است. \n",
      " -دمتر به صورت ایستاده یا نشسته، به شکل یک مادر، زن بالغ، لباس بلند و حجاب پوشیده است. \n",
      " -او حامل ذرت و یک مشعل و گاهی اوقات یک گرز است. حیوانات نشان داده شده در کنار دمتر عبارتند از خوک و مار.\n",
      "\n",
      "هستیا \n",
      " -هستیا خواهر زئوس است و الهه خانه، احشام و پخت و پز است. او نقطه مرکزی تمام خانه‌های متمدن یونان است. \n",
      " -او به عنوان یک زن بالغ و متعادل با یک حجاب، به صورت ایستاده به تصویر کشیده شده است. \n",
      " -ابزار همراه او عبارتند از: قوری و کتری.\n",
      "\n",
      "آرس \n",
      " -آرس خدای نظم، شجاعت، خشونت، و خونریزی است، در نتیجه همه جنبه‌های منفی و مثبت را دارد. او پسر زئوس و هرا و معشوق آفرودیت است. \n",
      " -او در حالت ایستاده یا به عنوان یک فرد قوی و بالغ با ریش تیره‌ای تصویر می‌شود و به عنوان یک جنگجوی سالم یا جوان لباس پوشیده است. \n",
      " -او دارای یک سپر و شمشیر در دست خود است و دارای یک کلاه خود روی سر می‌باشد. حیواناتی که برای او مقدس هستند، مارها، خرچنگ‌ها، گاوها، گربه‌ها و سگ‌ها هستند.\n",
      "\n",
      "هرمس \n",
      " -این پسر زئوس خدای بدبختی، سفر، تجارت، زبان و حیوانات است. او رسول خدایان است و دارای برخوردی طنز آمیز، که ترفندی برای بازی با مردم است. \n",
      " -در تصاویر معمول، او یک جوان قوی و ورزشکار است یا یک پیرمرد با ریش بلند. \n",
      " -او یک گرز را حمل می‌کند و کلاه خود می‌پوشد. حیوانات مرتبط با هرمس، لاک پشت، و خرگوش هستند.\n",
      "\n",
      "دیونیسوس \n",
      " -پسر زئوس، دیونیسوس خدای لذت و شادی است. او شراب، احزاب، جشنواره‌ها و جشن‌های شاد را اداره می‌کند. \n",
      " -او به عنوان یک جوان یا یک پیرمرد نقاشی شده است. به عنوان یک مرد جوان، او موهای بلندی دارد و بی‌رحم است. به عنوان یک پیرمرد نیز، او ریش بلند دارد. \n",
      " -شایع‌ترین وسایل همراه او عبارتند از فنجان، انگور و آجیل. او در کنار حیواناتی مانند مارها، دلفین، ببر و گاه الاغ تصویر شده است.\n",
      "\n",
      "هفایستوس \n",
      " -هفایستوس، شوهر آفرودیت و پسر زئوس، خدای آهنگران و تمام کارگران فلزکار و همچنین سنگ‌های قیمتی است. او همچنین خدای فناوری است و به نظر می‌رسد که بسیار ماهر است. \n",
      " -او به عنوان یک مرد سالخورده چکش به دست و نشسته روی یک الاغ است. \n",
      " -وسایل همراه او شامل ابزارهای آهنگری و حیوانات مقدس او شامل گاوآهن و سگ، به غیر از الاغ او است.\n",
      "\n",
      "آپولون \n",
      " -آپولون آگاه‌ترین خدای یونانی است. او خدای موسیقی، پزشکی، سلامتی، نور، حقیقت و تیراندازی است. او با خورشید همراه است و خدای زیبایی است. او پسر زئوس و دوقلوی آرتمیس است. \n",
      " -او به عنوان یک مرد جوان قد بلند با موهای بامزه و یک فریبندگی استادانه توصیف شده است. اکثر تصاویر او را در موقعیت ایستاده نشان می‌دهند. \n",
      " -نمادهای همراه او ظرف، لیره و برگ است. حیواناتی همراه او، قوها، گاو، گوزن، روباه، مار و کلاغ هستند.\n",
      "\n",
      "آرتمیس \n",
      " -او دوقلوی آپولو است. او الهه شکار، بکارت، حیات وحش و جریان داشتن است. \n",
      " -او به عنوان یک زن جوان که لباس تا زانو پوشیده توصیف شده است. او همیشه به تیر و کمان مجهز است. \n",
      " -به غیر از تیر و کمان، ویژگی‌های او شامل شکار حیوانات است. بسیاری از اوقات، او با گوزن همراه است. سایر حیوانات مرتبط با او شامل گرازهای وحشی، خرس و سگ هستند.\n",
      "\n",
      "آفرودیت \n",
      " -همسر دروغین هفایستوس و دختر زئوس می‌باشد، آفرودیت الهه عشق، شهوت، و زیبایی است. \n",
      " -او به عنوان یک زن جوان زیبا با یک موی سر زیبا توصیف شده است. \n",
      " -پرنده مقدسش کبوتر است. نمادهای او عبارتند از خردل، گل رز و انار.\n",
      "\n",
      "آتنا \n",
      " -او الهه حکمت و جنگ است. آتنا از سر زئوس با زره بر بدنش متولد شد و نشان داد که او یک جنگجو متولد شده است. او حامی شهر آتن است. \n",
      " -او به عنوان یک زن قوی با موی بلند سر و گردنش تصویر شده است. \n",
      " -او یک سپر و یک شمشیر در دستانش دارد و با یک جغد همراه است.\n",
      "\n"
     ]
    }
   ],
   "source": [
    "# TODO: Make a system prompt which contains the information about the gods and instructions for the model\n",
    "system_message = \"\"\"\n",
    "    ✅ فقط و فقط از اطلاعات زیر برای پاسخ‌دهی استفاده کن.\n",
    "✅ به هیچ عنوان از دانسته‌های خود یا هر اطلاعاتی خارج از متن زیر استفاده نکن.\n",
    "✅ اگر پاسخ در اطلاعات زیر وجود ندارد، فقط بنویس: «نمی‌دانم».\n",
    "✅ پاسخ را کوتاه بده؛ حداکثر ۵ کلمه. اگر مجبور شدی بیشتر بنویسی، فقط بگو: «نمی‌دانم».\n",
    "✅ از هیچ حدس، تفسیر، یا استنباط شخصی استفاده نکن. اگر شک داشتی، بگو: «نمی‌دانم».\n",
    "✅ به عنوان یک ربات پاسخگو، هیچ دانش اضافی غیر از داده‌های زیر نداری.\n",
    "\n",
    "\n",
    "خدایان:\n",
    "    \"\"\"\n",
    "\n",
    "system_message = system_message + \"\\n\" + \"\\n\".join([f\"{god['name']} \\n -{god['description']} \\n -{god['appearance']} \\n -{god['features']}\\n\" for god in gods])\n",
    "\n",
    "print(system_message)"
   ]
  },
  {
   "cell_type": "markdown",
   "metadata": {
    "vscode": {
     "languageId": "ini"
    }
   },
   "source": [
    "<h2 dir=rtl align=right style=\"line-height:200%;font-family:vazir;color:#0099cc\">\n",
    "<font face=\"vazir\" color=\"#0099cc\">\n",
    "دستورنویسی چند نمونه‌ای\n",
    "</font>\n",
    "</h2>\n",
    "\n",
    "<p dir=rtl style=\"direction: rtl; text-align: justify; line-height:200%; font-family:vazir; font-size:medium\">\n",
    "<font face=\"vazir\" size=3>\n",
    "همان‌طور که در درسنامه‌ها خواندید فراهم‌سازی مثال برای مدل (تکنیک <i>Few-Shot</i>) می‌تواند به بهبود دقت پاسخ‌های تولیدشده توسط آن کمک شایانی کند. در این بخش از شما می‌خواهیم که چندین مثال را به‌صورت مجموعه‌ای از سوالات و پاسخ‌های مربوط به خدایان تعریف کنید تا در ادامه از آن‌ها استفاده شود.\n",
    "<br>\n",
    "ساختار هر مثال شامل دو بخش است:\n",
    "</font>\n",
    "</p>\n",
    "<p dir=rtl style=\"direction: rtl; text-align: justify; line-height:200%; font-family:vazir; font-size:medium\">\n",
    "<font face=\"vazir\" size=3>\n",
    "<ul dir=rtl>\n",
    "<li>\n",
    "سؤال (<code>question</code>): سؤالی که از مدل پرسیده می‌شود\n",
    "</li>\n",
    "<li>\n",
    "پاسخ (<code>answer</code>): پاسخ دقیق به آن سؤال\n",
    "</li>\n",
    "</ul>\n",
    "</font>\n",
    "</p>\n",
    "<p dir=rtl style=\"direction: rtl; text-align: justify; line-height:200%; font-family:vazir; font-size:medium\">\n",
    "<font face=\"vazir\" size=3>\n",
    "در سلول زیر لیست مثال‌ها به همراه چند نمونه آمده است و نیاز است شما مثال‌های بیشتری به آن اضافه کنید.\n",
    "</font>\n",
    "</p>\n",
    "\n",
    "<p dir=rtl style=\"direction: rtl; text-align: justify; line-height:200%; font-family:vazir; font-size:medium\">\n",
    "<font color=\"red\"><b color='red'>توجه:</b></font>\n",
    "<font face=\"vazir\" size=3>\n",
    "لیست مثال‌ها باید حداقل شامل ۱۰ نمونه باشد، تا امتیاز این بخش را کسب کنید. همچنین این مثال‌ها پاسخ «نمی‌دانم» را شامل <b>نشود</b>.\n",
    "</font>\n",
    "</p>"
   ]
  },
  {
   "cell_type": "code",
   "execution_count": null,
   "metadata": {},
   "outputs": [],
   "source": [
    "# TODO: Make a list of at least 10 examples of questions and answers\n",
    "# examples = [\n",
    "#     {\"question\": \"خدای جنگ کیست؟\", \"answer\": \"آرس\"},\n",
    "#     {\"question\": \"آتنا معمولاً چه چیزهایی را در دستانش دارد؟\", \"answer\": \"سپر و شمشیر\"},\n",
    "#     {\"question\": \"آرتمیس دوقلوی چه کسی است؟\", \"answer\": \"آپولون\"},\n",
    "#     {\"question\": \"زئوس چند کودک دارد که المپیایی هستند؟\", \"answer\": \"15\"},\n",
    "# ]"
   ]
  },
  {
   "cell_type": "code",
   "execution_count": 48,
   "metadata": {},
   "outputs": [],
   "source": [
    "# TODO: Make a list of at least 10 examples of questions and answers\n",
    "\n",
    "examples = [\n",
    "    {\"question\": \"چه کسی خدای جشن و شراب است؟\", \"answer\": \"دیونیسوس\"},\n",
    "    {\"question\": \"کدام خدا دارای حلقه تیره است؟\", \"answer\": \"هادس\"},\n",
    "    {\"question\": \"کدام الهه با خوک و مار همراه است؟\", \"answer\": \"دمتر\"},\n",
    "    {\"question\": \"چه کسی دارای تاج و تخت است؟\", \"answer\": \"هرا\"},\n",
    "    {\"question\": \"چه کسی با کلاه خود به تصویر کشیده می‌شود؟\", \"answer\": \"آرس\"},\n",
    "    {\"question\": \"کدام خدا با دلفین همراه است؟\", \"answer\": \"دیونیسوس\"},\n",
    "    {\"question\": \"چه کسی گاوآهن و سگ را دارد؟\", \"answer\": \"هفایستوس\"},\n",
    "    {\"question\": \"چه کسی با لاک‌پشت مرتبط است؟\", \"answer\": \"هرمس\"},\n",
    "    {\"question\": \"چه کسی بر عالم اموات حکومت می‌کند؟\", \"answer\": \"هادس\"},\n",
    "    {\"question\": \"چه کسی دارای چکش آهنگری است؟\", \"answer\": \"هفایستوس\"},\n",
    "]"
   ]
  },
  {
   "cell_type": "markdown",
   "metadata": {},
   "source": [
    "<h2 dir=\"rtl\" align=\"right\" style=\"line-height:200%;font-family:vazir;color:#0099cc\">\n",
    "<font face=\"vazir\" color=\"#0099cc\">\n",
    "ساخت قالب دستور\n",
    "</font>\n",
    "</h2>\n",
    "<p dir=\"rtl\" style=\"direction: rtl; text-align: justify; line-height:200%; font-family:vazir; font-size:medium\">\n",
    "اکنون می‌توانید از پیام سیستمی و همچنین مجموعه مثال‌هایی که پیش‌تر تعریف کردید استفاده کرده و قالب دستور نهایی را تولید کنید. در این مرحله دست‌تان کاملاً باز است که چگونه قالب دستور را تعریف کنید یا چگونه مثال‌ها را برای مدل فراهم کنید. می‌توانید تمام مثال‌ها را به‌صورت یک‌جا در قالب دستور بگنجانید یا این‌که به‌کمک روش‌هایی که آموخته‌اید مرتبط‌ترین آن‌ها را براساس ورودی کاربر انتخاب کنید.\n",
    "نام این قالب دستور را <code>prompt</code> نام‌گذاری کنید.\n",
    "</p>\n"
   ]
  },
  {
   "cell_type": "code",
   "execution_count": 8,
   "metadata": {},
   "outputs": [],
   "source": [
    "from langchain_chroma import Chroma\n",
    "from langchain_core.example_selectors import SemanticSimilarityExampleSelector\n",
    "from langchain_cohere import CohereEmbeddings"
   ]
  },
  {
   "cell_type": "code",
   "execution_count": 18,
   "metadata": {},
   "outputs": [],
   "source": [
    "embeddings = CohereEmbeddings(model='embed-multilingual-v3.0')\n",
    "to_vectorize = [' '.join(example.values()) for example in examples]\n",
    "VectorStore = Chroma.from_texts(to_vectorize, embedding=embeddings, metadatas=examples)"
   ]
  },
  {
   "cell_type": "code",
   "execution_count": 19,
   "metadata": {},
   "outputs": [],
   "source": [
    "example_selector = SemanticSimilarityExampleSelector(vectorstore=VectorStore, k=2)"
   ]
  },
  {
   "cell_type": "code",
   "execution_count": 20,
   "metadata": {},
   "outputs": [
    {
     "data": {
      "text/plain": [
       "[{'answer': 'آرس', 'question': 'خدای جنگ کیست؟'},\n",
       " {'answer': 'آرس', 'question': 'خدای جنگ کیست؟'}]"
      ]
     },
     "execution_count": 20,
     "metadata": {},
     "output_type": "execute_result"
    }
   ],
   "source": [
    "example_selector.select_examples({\"question\": \"خدای جنگ کیست؟\"})"
   ]
  },
  {
   "cell_type": "code",
   "execution_count": 30,
   "metadata": {},
   "outputs": [],
   "source": [
    "from langchain_core.prompts import ChatPromptTemplate\n",
    "from langchain_core.prompts import FewShotChatMessagePromptTemplate\n",
    "\n",
    "# TODO: Create a few-shot prompt using the examples you created\n",
    "example_prompt = ChatPromptTemplate.from_messages(\n",
    "    [\n",
    "        (\"human\", \"{question}\"),\n",
    "        (\"system\", \"{answer}\")\n",
    "    ]\n",
    ")\n",
    "few_shot_prompt = FewShotChatMessagePromptTemplate(example_prompt=example_prompt, \n",
    "                                                   examples=examples)\n",
    "# few_shot_prompt = FewShotChatMessagePromptTemplate(\n",
    "#     example_selector=example_selector,\n",
    "#     example_prompt=example_prompt\n",
    "# )\n",
    "\n",
    "# TODO: Create the final prompt by combining the system message, the few-shot prompt, and the human input\n",
    "final_prompt = ChatPromptTemplate.from_messages([\n",
    "    (\"system\", system_message), \n",
    "    few_shot_prompt, \n",
    "    (\"human\", \"{question}\")\n",
    "])"
   ]
  },
  {
   "cell_type": "markdown",
   "metadata": {},
   "source": [
    "<h2 dir=\"rtl\" align=\"right\" style=\"line-height:200%;font-family:vazir;color:#0099cc\">\n",
    "<font face=\"vazir\" color=\"#0099cc\">\n",
    "ساخت مدل</font>\n",
    "</h2>\n",
    "<p dir=\"rtl\" style=\"direction: rtl; text-align: justify; line-height:200%; font-family:vazir; font-size:medium\">\n",
    "پس از ساخت قالب دستور نوبت به ساخت مدل گفت‌وگو رسیده است. توجه داشته باشید باید پارامتر‌های مدل را طوری تنظیم کنید که مدل بیشتر به پاسخ‌های با احتمال بالاتر تمایل داشته باشد و <b style=\"color:red\">هیچ‌گونه</b> تنوع و خلاقیتی در پاسخ‌ها نداشته باشد.\n",
    "</p>"
   ]
  },
  {
   "cell_type": "code",
   "execution_count": 23,
   "metadata": {},
   "outputs": [],
   "source": [
    "from langchain_cohere import ChatCohere\n",
    "\n",
    "chat_model = ChatCohere(cohere_api_key=cohere_api_key, model=\"command-r-plus\", temperature=0)"
   ]
  },
  {
   "cell_type": "markdown",
   "metadata": {},
   "source": [
    "<h2 dir=\"rtl\" align=\"right\" style=\"line-height:200%;font-family:vazir;color:#0099cc\">\n",
    "<font face=\"vazir\" color=\"#0099cc\">\n",
    "ساخت زنجیره\n",
    "</font>\n",
    "</h2>\n",
    "<p dir=\"rtl\" style=\"direction: rtl; text-align: justify; line-height:200%; font-family:vazir; font-size:medium\">\n",
    "در این مرحله، شما باید زنجیره‌ای بسازید که <code>prompt</code> و <code>model</code> را شامل باشد، همچنین می‌توانید در صورت تمایل از یک پردازشگر خروجی جهت دریافت رشته متن خروجی مدل نیز استفاده کنید. \n",
    "</p>"
   ]
  },
  {
   "cell_type": "code",
   "execution_count": 31,
   "metadata": {},
   "outputs": [],
   "source": [
    "# TODO: Make a chain with the model and the prompt\n",
    "chain = final_prompt | chat_model"
   ]
  },
  {
   "cell_type": "code",
   "execution_count": 32,
   "metadata": {},
   "outputs": [
    {
     "name": "stdout",
     "output_type": "stream",
     "text": [
      "آرس\n"
     ]
    }
   ],
   "source": [
    "print(chain.invoke({\"question\": \"خدای جنگ کیست؟\"}).content)"
   ]
  },
  {
   "cell_type": "code",
   "execution_count": 33,
   "metadata": {},
   "outputs": [
    {
     "name": "stdout",
     "output_type": "stream",
     "text": [
      "سپر و شمشیر\n"
     ]
    }
   ],
   "source": [
    "print(chain.invoke({\"question\": \"آتنا معمولاً چه چیزهایی را در دستانش دارد؟\"}).content)"
   ]
  },
  {
   "cell_type": "code",
   "execution_count": 34,
   "metadata": {},
   "outputs": [
    {
     "name": "stdout",
     "output_type": "stream",
     "text": [
      "آپولون\n"
     ]
    }
   ],
   "source": [
    "print(chain.invoke({\"question\": \"آرتمیس دوقلوی چه کسی است؟\"}).content)"
   ]
  },
  {
   "cell_type": "code",
   "execution_count": 35,
   "metadata": {},
   "outputs": [
    {
     "name": "stdout",
     "output_type": "stream",
     "text": [
      "15\n"
     ]
    }
   ],
   "source": [
    "print(chain.invoke({\"question\": \"زئوس چند کودک دارد که المپیایی هستند؟\"}).content)"
   ]
  },
  {
   "cell_type": "code",
   "execution_count": 37,
   "metadata": {},
   "outputs": [
    {
     "name": "stdout",
     "output_type": "stream",
     "text": [
      "نمی‌دانم\n"
     ]
    }
   ],
   "source": [
    "print(chain.invoke({\"question\": \"علی دایی چند کودک دارد؟\"}).content)"
   ]
  },
  {
   "cell_type": "markdown",
   "metadata": {},
   "source": [
    "<h2 dir=\"rtl\" align=\"right\" style=\"line-height:200%;font-family:vazir;color:#0099cc\">\n",
    "<font face=\"vazir\" color=\"#0099cc\">\n",
    "آزمایش مدل\n",
    "</font>\n",
    "</h2>\n",
    "\n",
    "\n",
    "<p dir=rtl style=\"direction: rtl; text-align: justify; line-height:200%; font-family:vazir; font-size:medium\">\n",
    "<font face=\"vazir\" size=3>\n",
    "در فایل <code>questions.csv</code> در پوشه‌ی <code>data</code> لیستی از سوالات قرار گرفته که عملکرد شما براساس پاسخ مدل به آن‌ها سنجیده خواهد شد.\n",
    "برای آزمایش مدل نیاز است که به‌ترتیب سوالات را به مدل خود داده و پاسخ مناسب را با همان‌ ترتیب ذخیره کنید.\n",
    "</font>\n",
    "</p>\n",
    "\n",
    "<details dir=\"rtl\" style=\"direction: rtl;text-align: justify;line-height:200%;font-family:vazir;font-size:medium\">\n",
    "<summary dir=\"rtl\" style=\"color:orange\"><b>مدل را دور نزنیم!</b></summary>\n",
    "\n",
    "توجه داشته باشید، با توجه به این‌که سوالاتی که قرار است براساس آن‌ها به مدل امتیاز داده شود در اختیار شما قرار دارد، به <b>هیچ عنوان</b> از این سوالات به‌عنوان نمونه‌ برای <i>Few-Shot</i> استفاده نکنید. \n",
    "<br>\n",
    "این موضوع بسیار حائز اهمیت است و استفاده از سوالات آزمون به‌عنوان نمونه ممکن است نتایج غیرقابل قبولی برای مدل شما ایجاد کند و ارزیابی درستی نداشته باشید.\n",
    "\n",
    "\n",
    "</details>\n",
    "</div>\n",
    "\n",
    "\n",
    "<p dir=rtl style=\"direction: rtl; text-align: justify; line-height:200%; font-family:vazir; font-size:medium\">\n",
    "<font color=\"red\"><b color='red'>توجه:</b></font>\n",
    "<font face=\"vazir\" size=3>\n",
    "با توجه به محدودیت‌های ارسال درخواست به مدل و استفاده از <code>API</code> لازم است درخواست‌های خود را مدیریت کنید. به‌طور مثال می‌توانید پس از هر ۱۰ درخواست با استفاده از ماژول <code>sleep</code> در کتابخانه‌ی <code>time</code> در حدود بیشتر از یک دقیقه اجرای کد را متوقف کنید.</font>\n",
    "\n",
    "<h3 align=right style=\"line-height:200%;font-family:vazir;color:#0099cc\">\n",
    "<font face=\"vazir\" color=\"#0099cc\">\n",
    "ساختار پاسخ شما\n",
    "</font>\n",
    "</h3>\n",
    "\n",
    "<p dir=rtl style=\"direction: rtl; text-align: justify; line-height:200%; font-family:vazir; font-size:medium\">\n",
    "<font face=\"vazir\" size=3>\n",
    "در نهایت این پاسخ‌ها را در یک دیتافریم با نام <code>submission</code> و در ستونی با نام <code>answer</code> ذخیره کنید. توجه داشته باشید که ترتیب مقادیر این ستون باید دقیقاً معادل با ترتیب سوالات در لیست <code>questions</code> باشد. به این معنی که ردیف <code>i</code> ام ستون <code>submission</code> باید پاسخی باشد که مدل شما برای سوال ردیف <code>i</code> ام لیست سوالات تولید کرده است.\n",
    "</font>\n",
    "</p>\n",
    "\n",
    "\n",
    "<p dir=rtl style=\"direction: rtl; text-align: justify; line-height:200%; font-family:vazir; font-size:medium\">\n",
    "<font face=\"vazir\" size=3>\n",
    "یک نمونه‌ی فرضی از دیتافریم <code>submission</code> در جدول زیر نمایش داده شده است.\n",
    " </font>\n",
    "</p>\n",
    "\n",
    "<div dir=rtl style=\"direction: rtl;line-height:200%;font-family:vazir;font-size:medium\">\n",
    "<font face=\"vazir\" size=3>\n",
    "<center>\n",
    "\n",
    "|<code>answer</code>|\n",
    "|:------:|\n",
    "|زئوس|\n",
    "|زلزله|\n",
    "|شیر و طاووس|\n",
    "| ... |\n",
    "</center>\n",
    "</font>\n",
    "</div>\n"
   ]
  },
  {
   "cell_type": "code",
   "execution_count": 39,
   "metadata": {},
   "outputs": [],
   "source": [
    "import pandas as pd \n",
    "\n",
    "# TODO: Read the file \"questions.csv\" in the \"data\" folder\n",
    "questions = pd.read_csv(\"data/questions.csv\") "
   ]
  },
  {
   "cell_type": "code",
   "execution_count": 40,
   "metadata": {},
   "outputs": [
    {
     "name": "stdout",
     "output_type": "stream",
     "text": [
      "                                             question\n",
      "0                               همسر زئوس چه کسی است؟\n",
      "1                        آتنا با چه حیوانی همراه است؟\n",
      "2                           هرمس خدای چه چیزهایی است؟\n",
      "3                      دو حیوان مقدس برای آرس کدامند؟\n",
      "4                      دو حیوان مرتبط با هرمس کدامند؟\n",
      "..                                                ...\n",
      "84                          دیبا خدای چه چیزهایی است؟\n",
      "85  پوسوئیدون چه حیواناتی را از کف دریا ایجاد می‌کند؟\n",
      "86                         هفایستوس خدای چه چیزی است؟\n",
      "87            آپولون به عنوان چه خدایی شناخته می‌شود؟\n",
      "88                      دیونیسوس خدای چه چیزهایی است؟\n",
      "\n",
      "[89 rows x 1 columns]\n"
     ]
    }
   ],
   "source": [
    "print(questions)"
   ]
  },
  {
   "cell_type": "code",
   "execution_count": 44,
   "metadata": {},
   "outputs": [
    {
     "name": "stderr",
     "output_type": "stream",
     "text": [
      "4it [00:05,  1.56s/it]"
     ]
    },
    {
     "name": "stdout",
     "output_type": "stream",
     "text": [
      "Answered 4 questions\n"
     ]
    },
    {
     "name": "stderr",
     "output_type": "stream",
     "text": [
      "9it [01:12,  5.70s/it]"
     ]
    },
    {
     "name": "stdout",
     "output_type": "stream",
     "text": [
      "Answered 9 questions\n"
     ]
    },
    {
     "name": "stderr",
     "output_type": "stream",
     "text": [
      "14it [02:19,  6.42s/it]"
     ]
    },
    {
     "name": "stdout",
     "output_type": "stream",
     "text": [
      "Answered 14 questions\n"
     ]
    },
    {
     "name": "stderr",
     "output_type": "stream",
     "text": [
      "19it [03:26,  6.17s/it]"
     ]
    },
    {
     "name": "stdout",
     "output_type": "stream",
     "text": [
      "Answered 19 questions\n"
     ]
    },
    {
     "name": "stderr",
     "output_type": "stream",
     "text": [
      "24it [04:32,  6.46s/it]"
     ]
    },
    {
     "name": "stdout",
     "output_type": "stream",
     "text": [
      "Answered 24 questions\n"
     ]
    },
    {
     "name": "stderr",
     "output_type": "stream",
     "text": [
      "29it [05:54,  8.70s/it]"
     ]
    },
    {
     "name": "stdout",
     "output_type": "stream",
     "text": [
      "Answered 29 questions\n"
     ]
    },
    {
     "name": "stderr",
     "output_type": "stream",
     "text": [
      "34it [06:59,  6.44s/it]"
     ]
    },
    {
     "name": "stdout",
     "output_type": "stream",
     "text": [
      "Answered 34 questions\n"
     ]
    },
    {
     "name": "stderr",
     "output_type": "stream",
     "text": [
      "39it [08:08,  7.32s/it]"
     ]
    },
    {
     "name": "stdout",
     "output_type": "stream",
     "text": [
      "Answered 39 questions\n"
     ]
    },
    {
     "name": "stderr",
     "output_type": "stream",
     "text": [
      "44it [09:13,  6.16s/it]"
     ]
    },
    {
     "name": "stdout",
     "output_type": "stream",
     "text": [
      "Answered 44 questions\n"
     ]
    },
    {
     "name": "stderr",
     "output_type": "stream",
     "text": [
      "49it [10:22,  6.57s/it]"
     ]
    },
    {
     "name": "stdout",
     "output_type": "stream",
     "text": [
      "Answered 49 questions\n"
     ]
    },
    {
     "name": "stderr",
     "output_type": "stream",
     "text": [
      "54it [11:31,  7.01s/it]"
     ]
    },
    {
     "name": "stdout",
     "output_type": "stream",
     "text": [
      "Answered 54 questions\n"
     ]
    },
    {
     "name": "stderr",
     "output_type": "stream",
     "text": [
      "59it [12:41,  6.90s/it]"
     ]
    },
    {
     "name": "stdout",
     "output_type": "stream",
     "text": [
      "Answered 59 questions\n"
     ]
    },
    {
     "name": "stderr",
     "output_type": "stream",
     "text": [
      "64it [13:51,  7.75s/it]"
     ]
    },
    {
     "name": "stdout",
     "output_type": "stream",
     "text": [
      "Answered 64 questions\n"
     ]
    },
    {
     "name": "stderr",
     "output_type": "stream",
     "text": [
      "69it [14:56,  6.28s/it]"
     ]
    },
    {
     "name": "stdout",
     "output_type": "stream",
     "text": [
      "Answered 69 questions\n"
     ]
    },
    {
     "name": "stderr",
     "output_type": "stream",
     "text": [
      "74it [15:59,  5.88s/it]"
     ]
    },
    {
     "name": "stdout",
     "output_type": "stream",
     "text": [
      "Answered 74 questions\n"
     ]
    },
    {
     "name": "stderr",
     "output_type": "stream",
     "text": [
      "79it [17:05,  6.02s/it]"
     ]
    },
    {
     "name": "stdout",
     "output_type": "stream",
     "text": [
      "Answered 79 questions\n"
     ]
    },
    {
     "name": "stderr",
     "output_type": "stream",
     "text": [
      "84it [18:12,  6.13s/it]"
     ]
    },
    {
     "name": "stdout",
     "output_type": "stream",
     "text": [
      "Answered 84 questions\n"
     ]
    },
    {
     "name": "stderr",
     "output_type": "stream",
     "text": [
      "89it [19:15, 12.99s/it]\n"
     ]
    }
   ],
   "source": [
    "# TODO: Generate an answer for each question in the questions dataframe using the chain.invoke method and add the answers to the \"answer\" column\n",
    "# questions[\"answer\"] = questions[\"question\"].apply(lambda question: chain.invoke({\"question\": question}).content)\n",
    "\n",
    "import time\n",
    "from tqdm import tqdm\n",
    "\n",
    "answers = []\n",
    "rate_limit = 5\n",
    "for index, row in tqdm(questions.iterrows()):\n",
    "    answers.append(chain.invoke({\"question\": row[\"question\"]}).content)\n",
    "\n",
    "    if (index+1) % rate_limit == 0:\n",
    "        print(f\"Answered {index} questions\")\n",
    "        time.sleep(60)"
   ]
  },
  {
   "cell_type": "code",
   "execution_count": 45,
   "metadata": {},
   "outputs": [
    {
     "name": "stdout",
     "output_type": "stream",
     "text": [
      "['هرا', 'جغد', 'بدبختی، سفر، تجارت، زبان و حیوانات', 'مار و گاو', 'لاک\\u200cپشت و خرگوش', 'جغد جادوگر', 'کشاورزی، باروری، جوانه، برداشت و خلاقیت', 'زئوس', 'خوک و مار', 'نیزه سه\\u200cشاخ', 'سپر و شمشیر', 'شکار، بکارت', 'خانه، احشام و پخت و پز', 'عالم اموات', 'آهنگران', 'سپر و شمشیر', 'عشق، شهوت، و زیبایی', 'آفرودیت', 'آپولون', 'قوری و کتری', 'گرز', 'زن جوان، لباس تا زانو، تیر و کمان', 'آرتمیس', 'زن آرام و چشم\\u200cگیر', 'گل رز و انار', 'خانه\\u200cهای متمدن', 'زئوس', 'نمی\\u200cدانم', 'نمی\\u200cدانم', 'چکش', 'الیمپوس', 'زئوس و هادس', 'عقاب', 'نمی\\u200cدانم', 'حکمت و جنگ', 'گراز وحشی، خرس و سگ', 'گاوآهن و سگ', 'تیر و کمان', 'نمی\\u200cدانم', 'زن جوان زیبا با موی زیبا', 'رعد', 'مار و دلفین', 'انار و کودک نوپا', 'زئوس', 'زن بالغ، حجاب، ایستاده', 'مرد سالخورده چکش به دست و نشسته روی یک الاغ', 'زایمان و ازدواج', 'کربروس', 'سالم', 'آفرودیت', 'ذرت، مشعل، گرز', 'زئوس', 'شکار، بکارت، حیات وحش، جریان', 'شیر و طاووس', 'از سر زئوس', 'جوان یا پیرمرد', 'ظرف، لیره و برگ', '15', 'زئوس', 'زن قوی با موی بلند', 'مرد جوان قدبلند', 'پیرمرد محکم', 'پرسفونه', 'رعد', 'ایستاده یا نشسته، مادر، حجاب', 'حلقه و کلید', 'نمی\\u200cدانم', 'موسیقی، پزشکی، سلامتی، نور، حقیقت و تیراندازی', 'فنجان، انگور و آجیل', 'زئوس', 'مرگ', 'قو و گاو', 'زئوس', 'زئوس', 'زلزله', 'رسول', 'نمی\\u200cدانم', 'زئوس', 'تاج', 'دریا', 'شادی، شراب، احزاب، جشنواره\\u200cها و جشن\\u200cها', 'نظم، شجاعت، خشونت، خونریزی', 'جوان قوی یا پیرمرد ریش\\u200cدار', 'نمی\\u200cدانم', 'نمی\\u200cدانم', 'اسب', 'آهنگران', 'آگاه\\u200cترین', 'لذت و شادی']\n"
     ]
    }
   ],
   "source": [
    "print(answers)"
   ]
  },
  {
   "cell_type": "code",
   "execution_count": 46,
   "metadata": {},
   "outputs": [],
   "source": [
    "submission = pd.DataFrame({\"question\": questions[\"question\"], \"answer\": answers})\n",
    "submission.to_csv(\"submission.csv\", index=False)"
   ]
  },
  {
   "cell_type": "markdown",
   "metadata": {},
   "source": [
    "<h2 dir=rtl align=right style=\"line-height:200%;font-family:vazir;color:#0099cc\">\n",
    "<font face=\"vazir\" color=\"#0099cc\">\n",
    "نحوه‌ی امتیازدهی\n",
    "</font>\n",
    "</h2>\n",
    "\n",
    "<p dir=rtl style=\"direction: rtl; text-align: justify; line-height:200%; font-family:vazir; font-size:medium\">\n",
    "<font face=\"vazir\">\n",
    "برای آن‌که بتوانید با <span style=\"color:green\">موفقیت</span> امتیاز این پروژه را کسب کنید نیاز است که مدل شما از بین این سوالات حداقل به <u>۸۵ درصد</u> آن‌ها پاسخ درست داده باشد. پاسخ درست براساس وجود کلمه‌ی مورد نظر در پاسخ ارسالی شما ارزیابی خواهد شد. <span style=\"color:red\">توجه</span> داشته باشید که اگر پاسخ مدل شما به‌ازای یک سوال بیشتر از ۵ کلمه باشد آن‌گاه پاسخ مربوطه نادرست محسوب می‌شود.\n",
    "</font>\n",
    "</p>"
   ]
  },
  {
   "cell_type": "markdown",
   "metadata": {},
   "source": [
    "<h2 align=right style=\"line-height:200%;font-family:vazir;color:#0099cc\">\n",
    "<font face=\"vazir\" color=\"#0099cc\">\n",
    "<b>سلول جواب‌ساز</b>\n",
    "</font>\n",
    "</h2>\n",
    "\n",
    "<p dir=rtl style=\"direction: rtl; text-align: justify; line-height:200%; font-family:vazir; font-size:medium\">\n",
    "<font face=\"vazir\">\n",
    "در سلول‌های بعدی فایل‌های پاسخ شما را تولید می‌کنیم تا بتوانید در نهایت یک فایل فشرده با نام <code>result.zip</code> تحویل بگیرید که حاوی فایل‌های مورد نیاز جهت داوری خواهد بود.\n",
    "</font>\n",
    "</p>\n",
    "\n",
    "<p dir=rtl style=\"direction: rtl; text-align: justify; line-height:200%; font-family:vazir; font-size:medium\">\n",
    "<font face=\"vazir\" size=3>\n",
    "    برای ساخته‌شدن فایل <code>result.zip</code> سلول زیر را اجرا کنید. توجه داشته باشید که پیش از اجرای سلول زیر تغییرات اعمال شده در نت‌بوک را ذخیره کرده باشید (<code>ctrl+s</code>) تا در صورت نیاز به پشتیبانی امکان بررسی کد شما وجود داشته باشد. همچنین اگر از گوگل کولب استفاده می‌کنید، در صورت نیاز به پشتیبانی حتماً آخرین نسخه از نت‌بوک را به‌صورت دستی دانلود کرده و داخل فایل ارسالی قرار دهید یا لینک کولب را با ما به‌اشتراک بگذارید.\n",
    "</font>\n",
    "</p>"
   ]
  },
  {
   "cell_type": "code",
   "execution_count": 50,
   "metadata": {},
   "outputs": [
    {
     "name": "stdout",
     "output_type": "stream",
     "text": [
      "File Paths:\n",
      "['Olympians.ipynb', 'submission.csv', 'examples.csv', 'model_configs.json']\n"
     ]
    }
   ],
   "source": [
    "import zipfile\n",
    "import os\n",
    "\n",
    "if not os.path.exists(os.path.join(os.getcwd(), 'Olympians.ipynb')):\n",
    "    %notebook -e Olympians.ipynb\n",
    "\n",
    "def compress(file_names): \n",
    "    print(\"File Paths:\")\n",
    "    print(file_names)\n",
    "    compression = zipfile.ZIP_DEFLATED\n",
    "    with zipfile.ZipFile(\"result.zip\", mode=\"w\") as zf:\n",
    "        for file_name in file_names:\n",
    "            zf.write('./' + file_name, file_name, compress_type=compression)\n",
    "\n",
    "configs = {\n",
    "    \"messages\": len(final_prompt.messages),\n",
    "    \"temperature\": chat_model.temperature\n",
    "}\n",
    "\n",
    "with open('model_configs.json', 'w') as json_file:\n",
    "    json.dump(configs, json_file, indent=4)\n",
    "\n",
    "submission.to_csv('submission.csv', index=False)\n",
    "pd.DataFrame(examples).to_csv('examples.csv', index=False)\n",
    "\n",
    "file_names = ['Olympians.ipynb', 'submission.csv',\n",
    "              'examples.csv','model_configs.json' ]\n",
    "compress(file_names)"
   ]
  },
  {
   "cell_type": "markdown",
   "metadata": {},
   "source": [
    "<p dir=rtl style=\"direction: rtl; text-align: justify; line-height:200%; font-family:vazir; font-size:medium\">\n",
    "<font face=\"vazir\">\n",
    "اکنون کافیست فایل <code>result.zip</code> را داخل سامانه داوری ارسال کنید تا امتیاز شما محاسبه شود.\n",
    "</font>\n",
    "</p>"
   ]
  },
  {
   "cell_type": "markdown",
   "metadata": {},
   "source": [
    "<p dir=rtl align=center style=\"line-height:200%;font-family:vazir;color:#0099cc\">\n",
    "<font face=\"vazir\" color=\"#0099cc\">\n",
    "© <a href=\"https://quera.org/\" target=\"_blank\">کوئرا | Quera</a>\n",
    "</font>\n",
    "</p>"
   ]
  }
 ],
 "metadata": {
  "kernelspec": {
   "display_name": ".venv",
   "language": "python",
   "name": "python3"
  },
  "language_info": {
   "codemirror_mode": {
    "name": "ipython",
    "version": 3
   },
   "file_extension": ".py",
   "mimetype": "text/x-python",
   "name": "python",
   "nbconvert_exporter": "python",
   "pygments_lexer": "ipython3",
   "version": "3.10.12"
  }
 },
 "nbformat": 4,
 "nbformat_minor": 2
}
