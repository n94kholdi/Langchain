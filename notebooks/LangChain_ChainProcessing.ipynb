{
 "cells": [
  {
   "cell_type": "markdown",
   "metadata": {},
   "source": [
    "## Get API key"
   ]
  },
  {
   "cell_type": "code",
   "execution_count": 2,
   "metadata": {},
   "outputs": [],
   "source": [
    "import os\n",
    "import getpass\n",
    "\n",
    "# Set the environment variable\n",
    "os.environ[\"COHERE_API_KEY\"] = getpass.getpass(\"Enter your Cohere API key: \")"
   ]
  },
  {
   "cell_type": "code",
   "execution_count": null,
   "metadata": {},
   "outputs": [],
   "source": [
    "# nt9wg84wNjGfVEwC9ysQuAVdEJlT9bDYjtMeMA8g"
   ]
  },
  {
   "cell_type": "code",
   "execution_count": 3,
   "metadata": {},
   "outputs": [
    {
     "name": "stdout",
     "output_type": "stream",
     "text": [
      "nt9wg84wNjGfVEwC9ysQuAVdEJlT9bDYjtMeMA8g\n"
     ]
    }
   ],
   "source": [
    "cohere_api_key = os.environ[\"COHERE_API_KEY\"]\n",
    "print(cohere_api_key)"
   ]
  },
  {
   "cell_type": "markdown",
   "metadata": {},
   "source": [
    "## load Cohere model "
   ]
  },
  {
   "cell_type": "code",
   "execution_count": null,
   "metadata": {},
   "outputs": [],
   "source": [
    "from langchain_cohere.llms import Cohere\n",
    "\n",
    "# model = Cohere(temperature=0.1)\n",
    "model = Cohere(cohere_api_key=cohere_api_key, model=\"command\", temperature=0.1)"
   ]
  },
  {
   "cell_type": "code",
   "execution_count": 4,
   "metadata": {},
   "outputs": [],
   "source": [
    "from langchain_cohere import ChatCohere\n",
    "\n",
    "chat = ChatCohere(cohere_api_key=cohere_api_key, model=\"command-r-plus\", temperature=0.1)"
   ]
  },
  {
   "cell_type": "markdown",
   "metadata": {},
   "source": [
    "## Prompt Template"
   ]
  },
  {
   "cell_type": "code",
   "execution_count": 10,
   "metadata": {},
   "outputs": [
    {
     "name": "stdout",
     "output_type": "stream",
     "text": [
      "ببینیم اگر دویست و پنجاه و صد و پنجاه را با هم جمع کنیم، چه عددی به دست می‌آید. می‌توانیم این مسئله را به صورت یک مسئله جمع نوشتاری در نظر بگیریم.\n",
      "\n",
      "دویست و پنجاه به علاوه‌ی صد و پنجاه\n",
      "\n",
      "اول می‌توانیم قسمت‌های یکسان را به هم جمع کنیم:\n",
      "\n",
      "دویست به علاوه‌ی صد = سیصد\n",
      "\n",
      "و پنجاه به علاوه‌ی پنجاه = صد\n",
      "\n",
      "حالا می‌توانیم نتیجه را به صورت یک عدد بنویسیم:\n",
      "\n",
      "سیصد به علاوه‌ی صد = چهارصد\n",
      "\n",
      "پس پاسخ این است که دویست و پنجاه به علاوه‌ی صد و پنجاه برابر است با چهارصد.\n"
     ]
    }
   ],
   "source": [
    "from langchain_core.prompts import ChatPromptTemplate\n",
    "\n",
    "message_prompt = ChatPromptTemplate([\n",
    "    (\"system\", \"تو یک معلم ریاضی هستی. سوالی که ازت پرسیده می‌شود را مثل یک معلم توضیح بده\"),\n",
    "    (\"human\", \"{first_number} به علاوه‌ی {second_number} چند می‌شود؟\")\n",
    "])\n",
    "\n",
    "response = chat.invoke(message_prompt.invoke({\"first_number\": \"دویست و پنجاه\", \"second_number\": \"صد و پنجاه\"}))\n",
    "\n",
    "print(response.content)"
   ]
  },
  {
   "cell_type": "code",
   "execution_count": 9,
   "metadata": {},
   "outputs": [
    {
     "name": "stdout",
     "output_type": "stream",
     "text": [
      "ببینیم اگر دویست و پنجاه و صد و پنجاه را با هم جمع کنیم، چه عددی به دست می‌آید. برای این کار، ابتدا ارقام یکان را با هم جمع می‌کنیم. در اینجا، هر دو عدد پنج دارند، که جمع آنها ده می‌شود. حالا یک صفر را باید نگه داریم و ده را به دهگان منتقل کنیم. پس یکان عدد ما صفر می‌شود.\n",
      "\n",
      "حالا نوبت به جمع ارقام دهگان می‌رسد. در دویست و پنجاه، پنج را با صد و پنجاه جمع می‌کنیم که می‌شود صد و پنج. به این عدد، ده را که قبلا به دست آورده بودیم، اضافه می‌کنیم که می‌شود صد و پانزده. پس دهگان عدد ما پانزده می‌شود.\n",
      "\n",
      "در نهایت، چون در بخش صدگان هر دو عدد دو دارند، پس صدگان عدد ما هم دو می‌شود.\n",
      "\n",
      "بنابراین، دویست و پنجاه به علاوه‌ی صد و پنجاه برابر است با چهارصد و پانزده."
     ]
    }
   ],
   "source": [
    "import time\n",
    "\n",
    "for chunk in chat.stream(message_prompt.invoke({\"first_number\": \"دویست و پنجاه\", \"second_number\": \"صد و پنجاه\"})):\n",
    "    print(chunk.content, end=\"\", flush=True)\n",
    "    time.sleep(0.08)\n"
   ]
  },
  {
   "cell_type": "code",
   "execution_count": 16,
   "metadata": {},
   "outputs": [
    {
     "name": "stdout",
     "output_type": "stream",
     "text": [
      "Person 1: \"Looks like it's going to rain today.\"\n",
      "\n",
      "Person 2: \"Yeah, I heard there's a storm coming our way. Hopefully, it won't be too bad.\"\n",
      "\n",
      "Person 1: \"Let's hope so. I'm not a fan of heavy rain.\"\n"
     ]
    }
   ],
   "source": [
    "prompt_template = ChatPromptTemplate.from_template(\n",
    "    \"Generate a very short conversation between two people about {topic}\"\n",
    ")\n",
    "\n",
    "response = chat.invoke(prompt_template.format(topic = \"weather\"))\n",
    "print(response.content)"
   ]
  },
  {
   "cell_type": "markdown",
   "metadata": {},
   "source": [
    "## Chain"
   ]
  },
  {
   "cell_type": "code",
   "execution_count": 9,
   "metadata": {},
   "outputs": [],
   "source": [
    "chain = message_prompt | chat"
   ]
  },
  {
   "cell_type": "code",
   "execution_count": 12,
   "metadata": {},
   "outputs": [
    {
     "name": "stdout",
     "output_type": "stream",
     "text": [
      "ببینیم اگر دویست و پنجاه و صد و پنجاه را با هم جمع کنیم، چه عددی به دست می‌آید. می‌توانیم این مسئله را به صورت یک مسئلهٔ جمع نوشتاری حل کنیم.\n",
      "\n",
      "دویست و پنجاه به علاوهٔ صد و پنجاه\n",
      "\n",
      "اول عددهای یکان را با هم جمع می‌کنیم:\n",
      "\n",
      "50 + 50 = 100\n",
      "\n",
      "حالا عددهای دهگان را با هم جمع می‌کنیم:\n",
      "\n",
      "200 + 100 = 300\n",
      "\n",
      "پس پاسخ این است که دویست و پنجاه به علاوهٔ صد و پنجاه برابر است با سیصد.\n"
     ]
    }
   ],
   "source": [
    "chain_response = chain.invoke({\"first_number\": \"دویست و پنجاه\", \"second_number\": \"صد و پنجاه\"})\n",
    "\n",
    "print(chain_response.content)"
   ]
  },
  {
   "cell_type": "markdown",
   "metadata": {},
   "source": [
    "## Parallel chain"
   ]
  },
  {
   "cell_type": "code",
   "execution_count": 23,
   "metadata": {},
   "outputs": [],
   "source": [
    "import markdown\n",
    "from IPython.display import display, HTML\n",
    "\n",
    "def print_md_v2(content):\n",
    "    content = markdown.markdown(content)\n",
    "    styled_content = f\"\"\"\n",
    "    <div dir=\"rtl\" style=\"font-family: Tahoma, Arial, sans-serif; font-size: 16px; color: #300; background-color: #f9f9f9; padding: 10px; border-radius: 8px;\">\n",
    "        {content}\n",
    "    </div>\n",
    "    \"\"\"\n",
    "    display(HTML(styled_content))"
   ]
  },
  {
   "cell_type": "code",
   "execution_count": 25,
   "metadata": {},
   "outputs": [
    {
     "name": "stdout",
     "output_type": "stream",
     "text": [
      "CPU times: user 2 μs, sys: 0 ns, total: 2 μs\n",
      "Wall time: 4.05 μs\n"
     ]
    },
    {
     "data": {
      "text/html": [
       "\n",
       "    <div dir=\"rtl\" style=\"font-family: Tahoma, Arial, sans-serif; font-size: 16px; color: #300; background-color: #f9f9f9; padding: 10px; border-radius: 8px;\">\n",
       "        <p>پاییز آمد و برگ‌ها را رنگارنگ کرد\n",
       "بر دل من نشاند غمی سنگین و دراز</p>\n",
       "<p>درختان بی‌لباس و خسته و افسرده‌اند\n",
       "چون دل من که ز هجران یار بی‌تاب است</p>\n",
       "    </div>\n",
       "    "
      ],
      "text/plain": [
       "<IPython.core.display.HTML object>"
      ]
     },
     "metadata": {},
     "output_type": "display_data"
    }
   ],
   "source": [
    "message_prompt_poem = ChatPromptTemplate.from_messages(\n",
    "    [('system', \"تو یک شاعر ایرانی هستی\"),\n",
    "     ('human', \"یک شعر دوبیتی درباره {topic} بگو\")\n",
    "    ]\n",
    ")\n",
    "\n",
    "chain_poem = message_prompt_poem | chat\n",
    "\n",
    "%time\n",
    "chain_response_poem = chain_poem.invoke({\"topic\": \"پاییز\"})\n",
    "print_md_v2(chain_response_poem.content)"
   ]
  },
  {
   "cell_type": "code",
   "execution_count": 24,
   "metadata": {},
   "outputs": [
    {
     "name": "stdout",
     "output_type": "stream",
     "text": [
      "CPU times: user 1 μs, sys: 0 ns, total: 1 μs\n",
      "Wall time: 2.38 μs\n"
     ]
    },
    {
     "data": {
      "text/html": [
       "\n",
       "    <div dir=\"rtl\" style=\"font-family: Tahoma, Arial, sans-serif; font-size: 16px; color: #300; background-color: #f9f9f9; padding: 10px; border-radius: 8px;\">\n",
       "        <p>پاییز آمده بود و برگ‌ها یکی یکی از درختان جدا می‌شدند و بر زمین می‌افتادند. رنگ‌های گرم پاییزی، طبیعت را زیبا کرده بود. بادی ملایم می‌وزید و برگ‌های رنگارنگ را به این سو و آن سو می‌برد. عطر پاییز در فضا پیچیده بود و مردم را به خود جذب می‌کرد. پاییز، فصلی بود که با تمام وجودش به مردم هدیه می‌داد و آنها را به رویای زمستانی نزدیک‌تر می‌ساخت.</p>\n",
       "    </div>\n",
       "    "
      ],
      "text/plain": [
       "<IPython.core.display.HTML object>"
      ]
     },
     "metadata": {},
     "output_type": "display_data"
    }
   ],
   "source": [
    "message_prompt_story = ChatPromptTemplate.from_messages(\n",
    "    [('system', \"تو یک نویسنده ایرانی هستی\"),\n",
    "     ('human', \"یک داستان کوتاه ۵ خطی درباره {topic} بگو\")\n",
    "    ]\n",
    ")\n",
    "\n",
    "chain_story = message_prompt_story | chat\n",
    "\n",
    "%time\n",
    "chain_response_poem = chain_story.invoke({\"topic\": \"پاییز\"})\n",
    "print_md_v2(chain_response_poem.content)"
   ]
  },
  {
   "cell_type": "code",
   "execution_count": 34,
   "metadata": {},
   "outputs": [
    {
     "name": "stdout",
     "output_type": "stream",
     "text": [
      "story\n"
     ]
    },
    {
     "data": {
      "text/html": [
       "\n",
       "    <div dir=\"rtl\" style=\"font-family: Tahoma, Arial, sans-serif; font-size: 16px; color: #300; background-color: #f9f9f9; padding: 10px; border-radius: 8px;\">\n",
       "        <p>پاییز آمده بود و برگ‌ها یکی یکی از درختان جدا می‌شدند و بر زمین می‌افتادند. دخترکی زیر درختی ایستاده بود و به برگ‌های رقصان نگاه می‌کرد. او عاشق پاییز بود و این فصل برایش همیشه الهام‌بخش بود. دخترک دست‌هایش را باز کرد و برگ‌های رنگارنگ پاییزی را جمع کرد و آنها را به سوی آسمان رها کرد. او در این لحظه احساس آزادی و شادی می‌کرد و می‌خواست این لحظه برای همیشه در خاطراتش بماند.</p>\n",
       "    </div>\n",
       "    "
      ],
      "text/plain": [
       "<IPython.core.display.HTML object>"
      ]
     },
     "metadata": {},
     "output_type": "display_data"
    },
    {
     "name": "stdout",
     "output_type": "stream",
     "text": [
      "poem\n"
     ]
    },
    {
     "data": {
      "text/html": [
       "\n",
       "    <div dir=\"rtl\" style=\"font-family: Tahoma, Arial, sans-serif; font-size: 16px; color: #300; background-color: #f9f9f9; padding: 10px; border-radius: 8px;\">\n",
       "        <p>پاییز آمد و برگ‌ها را رنگارنگ کرد\n",
       "باد خنک می‌وزد و دل‌ها را پرشور\n",
       "درختان لباس زرد و سرخ بر تن کردند\n",
       "فصل غم و شادی، فصل شعر و شور</p>\n",
       "    </div>\n",
       "    "
      ],
      "text/plain": [
       "<IPython.core.display.HTML object>"
      ]
     },
     "metadata": {},
     "output_type": "display_data"
    }
   ],
   "source": [
    "from langchain_core.runnables import RunnableParallel\n",
    "\n",
    "combined = RunnableParallel(story=chain_story, poem=chain_poem)\n",
    "\n",
    "response = combined.invoke({\"topic\": \"پاییز\"})\n",
    "for key in response.keys():\n",
    "    print(key)\n",
    "    print_md_v2(combined.invoke({\"topic\": \"پاییز\"})[key].content)"
   ]
  },
  {
   "cell_type": "markdown",
   "metadata": {},
   "source": [
    "## Runnable lambda"
   ]
  },
  {
   "cell_type": "markdown",
   "metadata": {},
   "source": [
    "from langchain_core.output_parsers import StrOutputParser\n",
    "from langchain_core.prompts import ChatPromptTemplate\n",
    "\n",
    "message_prompt = ChatPromptTemplate.from_messages([\n",
    "    (\"system\", \"تو یک معلم ریاضی هستی. سوالی که ازت پرسیده می‌شود را مثل یک معلم توضیح بده\"),\n",
    "    (\"human\", \"عدد {first_number} به علاوه‌ی {second_number} چند می‌شود؟\")\n",
    "])\n",
    "model_chain = message_prompt | chat | StrOutputParser()"
   ]
  },
  {
   "cell_type": "code",
   "execution_count": 30,
   "metadata": {},
   "outputs": [
    {
     "name": "stdout",
     "output_type": "stream",
     "text": [
      "\u001b[32;1m\u001b[1;3m[chain/start]\u001b[0m \u001b[1m[chain:RunnableSequence] Entering Chain run with input:\n",
      "\u001b[0m{\n",
      "  \"first_number\": \"۱۲\",\n",
      "  \"second_number\": \"شصت و دو\"\n",
      "}\n",
      "\u001b[32;1m\u001b[1;3m[chain/start]\u001b[0m \u001b[1m[chain:RunnableSequence > prompt:ChatPromptTemplate] Entering Prompt run with input:\n",
      "\u001b[0m{\n",
      "  \"first_number\": \"۱۲\",\n",
      "  \"second_number\": \"شصت و دو\"\n",
      "}\n",
      "\u001b[36;1m\u001b[1;3m[chain/end]\u001b[0m \u001b[1m[chain:RunnableSequence > prompt:ChatPromptTemplate] [0ms] Exiting Prompt run with output:\n",
      "\u001b[0m[outputs]\n",
      "\u001b[32;1m\u001b[1;3m[llm/start]\u001b[0m \u001b[1m[chain:RunnableSequence > llm:ChatCohere] Entering LLM run with input:\n",
      "\u001b[0m{\n",
      "  \"prompts\": [\n",
      "    \"System: تو یک معلم ریاضی هستی. سوالی که ازت پرسیده می‌شود را مثل یک معلم توضیح بده\\nHuman: عدد ۱۲ به علاوه‌ی شصت و دو چند می‌شود؟\"\n",
      "  ]\n",
      "}\n",
      "\u001b[36;1m\u001b[1;3m[llm/end]\u001b[0m \u001b[1m[chain:RunnableSequence > llm:ChatCohere] [8.06s] Exiting LLM run with output:\n",
      "\u001b[0m{\n",
      "  \"generations\": [\n",
      "    [\n",
      "      {\n",
      "        \"text\": \"خب بچه‌ها، برای حل این مسئله باید دو عدد داده‌شده را با هم جمع کنیم. توجه داشته باشید که عدد ۱۲ یک عدد دو رقمی است و عدد ۶۲ یک عدد سه رقمی. وقتی با اعداد دو رقمی و سه رقمی سر و کار داریم، باید از روش جمع ستونی استفاده کنیم.\\n\\nعدد ۱۲ را می‌نویسیم و زیر آن خط می‌کشیم:\\n\\n۱\\n۲\\n-----\\n\\nعدد ۶۲ را نیز می‌نویسیم و زیر آن خط می‌کشیم:\\n\\n۶\\n۲\\n-----\\n\\nحالا از راست شروع می‌کنیم و یکان‌ها را با هم جمع می‌کنیم. ۲ و ۲ با هم برابر می‌شوند با ۴. پس زیر خط عدد ۴ را می‌نویسیم:\\n\\n۱\\n۲\\n-----\\n۴\\n\\nحالا ده‌گان‌ها را با هم جمع می‌کنیم. ۱ و ۶ با هم برابر می‌شوند با ۷. پس زیر خط عدد ۷ را می‌نویسیم:\\n\\n۷\\n-----\\n۴\\n\\nاما کارمان هنوز تمام نشده. یک عدد باقی مانده که باید آن را نیز در نظر بگیریم. این عدد را باید بالای ستون یکان بنویسیم و بعد با عدد زیر خط جمع کنیم. پس ۲ و ۰ با هم برابر می‌شوند با ۲:\\n\\n۷\\n-----\\n۲\\n\\nحالا همه چیز تمام شده و می‌توانیم پاسخ را بخوانیم. عدد ۱۲ به علاوه‌ی ۶۲ برابر می‌شود با ۷۴.\",\n",
      "        \"generation_info\": {\n",
      "          \"id\": \"f5ffef0f-4728-4551-83e9-52b74e56b004\",\n",
      "          \"finish_reason\": \"COMPLETE\",\n",
      "          \"content\": \"خب بچه‌ها، برای حل این مسئله باید دو عدد داده‌شده را با هم جمع کنیم. توجه داشته باشید که عدد ۱۲ یک عدد دو رقمی است و عدد ۶۲ یک عدد سه رقمی. وقتی با اعداد دو رقمی و سه رقمی سر و کار داریم، باید از روش جمع ستونی استفاده کنیم.\\n\\nعدد ۱۲ را می‌نویسیم و زیر آن خط می‌کشیم:\\n\\n۱\\n۲\\n-----\\n\\nعدد ۶۲ را نیز می‌نویسیم و زیر آن خط می‌کشیم:\\n\\n۶\\n۲\\n-----\\n\\nحالا از راست شروع می‌کنیم و یکان‌ها را با هم جمع می‌کنیم. ۲ و ۲ با هم برابر می‌شوند با ۴. پس زیر خط عدد ۴ را می‌نویسیم:\\n\\n۱\\n۲\\n-----\\n۴\\n\\nحالا ده‌گان‌ها را با هم جمع می‌کنیم. ۱ و ۶ با هم برابر می‌شوند با ۷. پس زیر خط عدد ۷ را می‌نویسیم:\\n\\n۷\\n-----\\n۴\\n\\nاما کارمان هنوز تمام نشده. یک عدد باقی مانده که باید آن را نیز در نظر بگیریم. این عدد را باید بالای ستون یکان بنویسیم و بعد با عدد زیر خط جمع کنیم. پس ۲ و ۰ با هم برابر می‌شوند با ۲:\\n\\n۷\\n-----\\n۲\\n\\nحالا همه چیز تمام شده و می‌توانیم پاسخ را بخوانیم. عدد ۱۲ به علاوه‌ی ۶۲ برابر می‌شود با ۷۴.\",\n",
      "          \"token_count\": {\n",
      "            \"input_tokens\": 204.0,\n",
      "            \"output_tokens\": 352.0\n",
      "          }\n",
      "        },\n",
      "        \"type\": \"ChatGeneration\",\n",
      "        \"message\": {\n",
      "          \"lc\": 1,\n",
      "          \"type\": \"constructor\",\n",
      "          \"id\": [\n",
      "            \"langchain\",\n",
      "            \"schema\",\n",
      "            \"messages\",\n",
      "            \"AIMessage\"\n",
      "          ],\n",
      "          \"kwargs\": {\n",
      "            \"content\": \"خب بچه‌ها، برای حل این مسئله باید دو عدد داده‌شده را با هم جمع کنیم. توجه داشته باشید که عدد ۱۲ یک عدد دو رقمی است و عدد ۶۲ یک عدد سه رقمی. وقتی با اعداد دو رقمی و سه رقمی سر و کار داریم، باید از روش جمع ستونی استفاده کنیم.\\n\\nعدد ۱۲ را می‌نویسیم و زیر آن خط می‌کشیم:\\n\\n۱\\n۲\\n-----\\n\\nعدد ۶۲ را نیز می‌نویسیم و زیر آن خط می‌کشیم:\\n\\n۶\\n۲\\n-----\\n\\nحالا از راست شروع می‌کنیم و یکان‌ها را با هم جمع می‌کنیم. ۲ و ۲ با هم برابر می‌شوند با ۴. پس زیر خط عدد ۴ را می‌نویسیم:\\n\\n۱\\n۲\\n-----\\n۴\\n\\nحالا ده‌گان‌ها را با هم جمع می‌کنیم. ۱ و ۶ با هم برابر می‌شوند با ۷. پس زیر خط عدد ۷ را می‌نویسیم:\\n\\n۷\\n-----\\n۴\\n\\nاما کارمان هنوز تمام نشده. یک عدد باقی مانده که باید آن را نیز در نظر بگیریم. این عدد را باید بالای ستون یکان بنویسیم و بعد با عدد زیر خط جمع کنیم. پس ۲ و ۰ با هم برابر می‌شوند با ۲:\\n\\n۷\\n-----\\n۲\\n\\nحالا همه چیز تمام شده و می‌توانیم پاسخ را بخوانیم. عدد ۱۲ به علاوه‌ی ۶۲ برابر می‌شود با ۷۴.\",\n",
      "            \"additional_kwargs\": {\n",
      "              \"id\": \"f5ffef0f-4728-4551-83e9-52b74e56b004\",\n",
      "              \"finish_reason\": \"COMPLETE\",\n",
      "              \"content\": \"خب بچه‌ها، برای حل این مسئله باید دو عدد داده‌شده را با هم جمع کنیم. توجه داشته باشید که عدد ۱۲ یک عدد دو رقمی است و عدد ۶۲ یک عدد سه رقمی. وقتی با اعداد دو رقمی و سه رقمی سر و کار داریم، باید از روش جمع ستونی استفاده کنیم.\\n\\nعدد ۱۲ را می‌نویسیم و زیر آن خط می‌کشیم:\\n\\n۱\\n۲\\n-----\\n\\nعدد ۶۲ را نیز می‌نویسیم و زیر آن خط می‌کشیم:\\n\\n۶\\n۲\\n-----\\n\\nحالا از راست شروع می‌کنیم و یکان‌ها را با هم جمع می‌کنیم. ۲ و ۲ با هم برابر می‌شوند با ۴. پس زیر خط عدد ۴ را می‌نویسیم:\\n\\n۱\\n۲\\n-----\\n۴\\n\\nحالا ده‌گان‌ها را با هم جمع می‌کنیم. ۱ و ۶ با هم برابر می‌شوند با ۷. پس زیر خط عدد ۷ را می‌نویسیم:\\n\\n۷\\n-----\\n۴\\n\\nاما کارمان هنوز تمام نشده. یک عدد باقی مانده که باید آن را نیز در نظر بگیریم. این عدد را باید بالای ستون یکان بنویسیم و بعد با عدد زیر خط جمع کنیم. پس ۲ و ۰ با هم برابر می‌شوند با ۲:\\n\\n۷\\n-----\\n۲\\n\\nحالا همه چیز تمام شده و می‌توانیم پاسخ را بخوانیم. عدد ۱۲ به علاوه‌ی ۶۲ برابر می‌شود با ۷۴.\",\n",
      "              \"token_count\": {\n",
      "                \"input_tokens\": 204.0,\n",
      "                \"output_tokens\": 352.0\n",
      "              }\n",
      "            },\n",
      "            \"response_metadata\": {\n",
      "              \"id\": \"f5ffef0f-4728-4551-83e9-52b74e56b004\",\n",
      "              \"finish_reason\": \"COMPLETE\",\n",
      "              \"content\": \"خب بچه‌ها، برای حل این مسئله باید دو عدد داده‌شده را با هم جمع کنیم. توجه داشته باشید که عدد ۱۲ یک عدد دو رقمی است و عدد ۶۲ یک عدد سه رقمی. وقتی با اعداد دو رقمی و سه رقمی سر و کار داریم، باید از روش جمع ستونی استفاده کنیم.\\n\\nعدد ۱۲ را می‌نویسیم و زیر آن خط می‌کشیم:\\n\\n۱\\n۲\\n-----\\n\\nعدد ۶۲ را نیز می‌نویسیم و زیر آن خط می‌کشیم:\\n\\n۶\\n۲\\n-----\\n\\nحالا از راست شروع می‌کنیم و یکان‌ها را با هم جمع می‌کنیم. ۲ و ۲ با هم برابر می‌شوند با ۴. پس زیر خط عدد ۴ را می‌نویسیم:\\n\\n۱\\n۲\\n-----\\n۴\\n\\nحالا ده‌گان‌ها را با هم جمع می‌کنیم. ۱ و ۶ با هم برابر می‌شوند با ۷. پس زیر خط عدد ۷ را می‌نویسیم:\\n\\n۷\\n-----\\n۴\\n\\nاما کارمان هنوز تمام نشده. یک عدد باقی مانده که باید آن را نیز در نظر بگیریم. این عدد را باید بالای ستون یکان بنویسیم و بعد با عدد زیر خط جمع کنیم. پس ۲ و ۰ با هم برابر می‌شوند با ۲:\\n\\n۷\\n-----\\n۲\\n\\nحالا همه چیز تمام شده و می‌توانیم پاسخ را بخوانیم. عدد ۱۲ به علاوه‌ی ۶۲ برابر می‌شود با ۷۴.\",\n",
      "              \"token_count\": {\n",
      "                \"input_tokens\": 204.0,\n",
      "                \"output_tokens\": 352.0\n",
      "              }\n",
      "            },\n",
      "            \"type\": \"ai\",\n",
      "            \"id\": \"run-02dbbd1c-e2f7-4d9e-bc98-b3d7c066f830-0\",\n",
      "            \"usage_metadata\": {\n",
      "              \"input_tokens\": 204,\n",
      "              \"output_tokens\": 352,\n",
      "              \"total_tokens\": 556\n",
      "            },\n",
      "            \"tool_calls\": [],\n",
      "            \"invalid_tool_calls\": []\n",
      "          }\n",
      "        }\n",
      "      }\n",
      "    ]\n",
      "  ],\n",
      "  \"llm_output\": null,\n",
      "  \"run\": null,\n",
      "  \"type\": \"LLMResult\"\n",
      "}\n",
      "\u001b[32;1m\u001b[1;3m[chain/start]\u001b[0m \u001b[1m[chain:RunnableSequence > parser:StrOutputParser] Entering Parser run with input:\n",
      "\u001b[0m[inputs]\n",
      "\u001b[36;1m\u001b[1;3m[chain/end]\u001b[0m \u001b[1m[chain:RunnableSequence > parser:StrOutputParser] [0ms] Exiting Parser run with output:\n",
      "\u001b[0m{\n",
      "  \"output\": \"خب بچه‌ها، برای حل این مسئله باید دو عدد داده‌شده را با هم جمع کنیم. توجه داشته باشید که عدد ۱۲ یک عدد دو رقمی است و عدد ۶۲ یک عدد سه رقمی. وقتی با اعداد دو رقمی و سه رقمی سر و کار داریم، باید از روش جمع ستونی استفاده کنیم.\\n\\nعدد ۱۲ را می‌نویسیم و زیر آن خط می‌کشیم:\\n\\n۱\\n۲\\n-----\\n\\nعدد ۶۲ را نیز می‌نویسیم و زیر آن خط می‌کشیم:\\n\\n۶\\n۲\\n-----\\n\\nحالا از راست شروع می‌کنیم و یکان‌ها را با هم جمع می‌کنیم. ۲ و ۲ با هم برابر می‌شوند با ۴. پس زیر خط عدد ۴ را می‌نویسیم:\\n\\n۱\\n۲\\n-----\\n۴\\n\\nحالا ده‌گان‌ها را با هم جمع می‌کنیم. ۱ و ۶ با هم برابر می‌شوند با ۷. پس زیر خط عدد ۷ را می‌نویسیم:\\n\\n۷\\n-----\\n۴\\n\\nاما کارمان هنوز تمام نشده. یک عدد باقی مانده که باید آن را نیز در نظر بگیریم. این عدد را باید بالای ستون یکان بنویسیم و بعد با عدد زیر خط جمع کنیم. پس ۲ و ۰ با هم برابر می‌شوند با ۲:\\n\\n۷\\n-----\\n۲\\n\\nحالا همه چیز تمام شده و می‌توانیم پاسخ را بخوانیم. عدد ۱۲ به علاوه‌ی ۶۲ برابر می‌شود با ۷۴.\"\n",
      "}\n",
      "\u001b[36;1m\u001b[1;3m[chain/end]\u001b[0m \u001b[1m[chain:RunnableSequence] [8.06s] Exiting Chain run with output:\n",
      "\u001b[0m{\n",
      "  \"output\": \"خب بچه‌ها، برای حل این مسئله باید دو عدد داده‌شده را با هم جمع کنیم. توجه داشته باشید که عدد ۱۲ یک عدد دو رقمی است و عدد ۶۲ یک عدد سه رقمی. وقتی با اعداد دو رقمی و سه رقمی سر و کار داریم، باید از روش جمع ستونی استفاده کنیم.\\n\\nعدد ۱۲ را می‌نویسیم و زیر آن خط می‌کشیم:\\n\\n۱\\n۲\\n-----\\n\\nعدد ۶۲ را نیز می‌نویسیم و زیر آن خط می‌کشیم:\\n\\n۶\\n۲\\n-----\\n\\nحالا از راست شروع می‌کنیم و یکان‌ها را با هم جمع می‌کنیم. ۲ و ۲ با هم برابر می‌شوند با ۴. پس زیر خط عدد ۴ را می‌نویسیم:\\n\\n۱\\n۲\\n-----\\n۴\\n\\nحالا ده‌گان‌ها را با هم جمع می‌کنیم. ۱ و ۶ با هم برابر می‌شوند با ۷. پس زیر خط عدد ۷ را می‌نویسیم:\\n\\n۷\\n-----\\n۴\\n\\nاما کارمان هنوز تمام نشده. یک عدد باقی مانده که باید آن را نیز در نظر بگیریم. این عدد را باید بالای ستون یکان بنویسیم و بعد با عدد زیر خط جمع کنیم. پس ۲ و ۰ با هم برابر می‌شوند با ۲:\\n\\n۷\\n-----\\n۲\\n\\nحالا همه چیز تمام شده و می‌توانیم پاسخ را بخوانیم. عدد ۱۲ به علاوه‌ی ۶۲ برابر می‌شود با ۷۴.\"\n",
      "}\n",
      "خب بچه‌ها، برای حل این مسئله باید دو عدد داده‌شده را با هم جمع کنیم. توجه داشته باشید که عدد ۱۲ یک عدد دو رقمی است و عدد ۶۲ یک عدد سه رقمی. وقتی با اعداد دو رقمی و سه رقمی سر و کار داریم، باید از روش جمع ستونی استفاده کنیم.\n",
      "\n",
      "عدد ۱۲ را می‌نویسیم و زیر آن خط می‌کشیم:\n",
      "\n",
      "۱\n",
      "۲\n",
      "-----\n",
      "\n",
      "عدد ۶۲ را نیز می‌نویسیم و زیر آن خط می‌کشیم:\n",
      "\n",
      "۶\n",
      "۲\n",
      "-----\n",
      "\n",
      "حالا از راست شروع می‌کنیم و یکان‌ها را با هم جمع می‌کنیم. ۲ و ۲ با هم برابر می‌شوند با ۴. پس زیر خط عدد ۴ را می‌نویسیم:\n",
      "\n",
      "۱\n",
      "۲\n",
      "-----\n",
      "۴\n",
      "\n",
      "حالا ده‌گان‌ها را با هم جمع می‌کنیم. ۱ و ۶ با هم برابر می‌شوند با ۷. پس زیر خط عدد ۷ را می‌نویسیم:\n",
      "\n",
      "۷\n",
      "-----\n",
      "۴\n",
      "\n",
      "اما کارمان هنوز تمام نشده. یک عدد باقی مانده که باید آن را نیز در نظر بگیریم. این عدد را باید بالای ستون یکان بنویسیم و بعد با عدد زیر خط جمع کنیم. پس ۲ و ۰ با هم برابر می‌شوند با ۲:\n",
      "\n",
      "۷\n",
      "-----\n",
      "۲\n",
      "\n",
      "حالا همه چیز تمام شده و می‌توانیم پاسخ را بخوانیم. عدد ۱۲ به علاوه‌ی ۶۲ برابر می‌شود با ۷۴.\n"
     ]
    }
   ],
   "source": [
    "first_number, second_number = \"۱۲\", \"شصت و دو\"\n",
    "\n",
    "chain_response = model_chain.invoke({\"first_number\": first_number, \"second_number\": second_number})\n",
    "\n",
    "print(chain_response)"
   ]
  },
  {
   "cell_type": "code",
   "execution_count": 65,
   "metadata": {},
   "outputs": [],
   "source": [
    "import re\n",
    "\n",
    "def count_numbers(input):\n",
    "\n",
    "    ## Find all numbers in the text input\n",
    "    pattern = r'[0-9۰-۹]+'\n",
    "    numbers = re.findall(pattern, input)\n",
    "\n",
    "    ## Count the numbers\n",
    "    return str(len(numbers))"
   ]
  },
  {
   "cell_type": "code",
   "execution_count": 67,
   "metadata": {},
   "outputs": [
    {
     "name": "stdout",
     "output_type": "stream",
     "text": [
      "16\n"
     ]
    }
   ],
   "source": [
    "from langchain_core.runnables import RunnableLambda\n",
    "\n",
    "count_numbers_runnable = RunnableLambda(count_numbers)\n",
    "\n",
    "count_nums_model = model_chain | count_numbers_runnable\n",
    "\n",
    "chain_response = count_nums_model.invoke({\"first_number\": first_number, \"second_number\": second_number})\n",
    "\n",
    "print(chain_response)\n"
   ]
  },
  {
   "cell_type": "markdown",
   "metadata": {},
   "source": [
    "## Return without change - RunnablePassThrough"
   ]
  },
  {
   "cell_type": "code",
   "execution_count": 62,
   "metadata": {},
   "outputs": [
    {
     "data": {
      "text/plain": [
       "{'original': {'input': 'Quera1111'}, 'length': 9}"
      ]
     },
     "execution_count": 62,
     "metadata": {},
     "output_type": "execute_result"
    }
   ],
   "source": [
    "from langchain_core.runnables import RunnablePassthrough\n",
    "\n",
    "runnable = RunnableParallel(\n",
    "    original = RunnablePassthrough(),\n",
    "    length = lambda x: len(x['input'])\n",
    ")\n",
    "\n",
    "runnable.invoke({'input': 'Quera1111'})"
   ]
  },
  {
   "cell_type": "markdown",
   "metadata": {},
   "source": [
    "### RunnablePassThrough - assign"
   ]
  },
  {
   "cell_type": "code",
   "execution_count": 63,
   "metadata": {},
   "outputs": [
    {
     "data": {
      "text/plain": [
       "{'original': {'input': 'Quera1111', 'lower': 'quera1111'}, 'length': 9}"
      ]
     },
     "execution_count": 63,
     "metadata": {},
     "output_type": "execute_result"
    }
   ],
   "source": [
    "runnable = RunnableParallel(\n",
    "    original = RunnablePassthrough().assign(lower=lambda x: x['input'].lower()),\n",
    "    length = lambda x: len(x['input'])\n",
    ")\n",
    "\n",
    "runnable.invoke({'input': 'Quera1111'})"
   ]
  },
  {
   "cell_type": "code",
   "execution_count": 68,
   "metadata": {},
   "outputs": [
    {
     "data": {
      "text/plain": [
       "{'model_answer': 'ببینیم اگر این دو عدد را با هم جمع کنیم به چه عددی می\\u200cرسیم.\\n\\nعدد ۱۲ را می\\u200cنویسیم و کنار آن عدد ۶۲ را می\\u200cنویسیم:\\n\\n۱۲ + ۶۲ =\\n\\nحالا یکان\\u200cهای این دو عدد را با هم جمع می\\u200cکنیم:\\n\\n۲ + ۲ = ۴\\n\\nعدد ۴ را به عنوان یکان عدد جواب می\\u200cنویسیم.\\n\\nحالا دهگان\\u200cهای این دو عدد را با هم جمع می\\u200cکنیم. دهگان عدد ۱۲، صفر است، پس فقط عدد ۶ را می\\u200cنویسیم:\\n\\n۶\\n\\nحالا عدد ۶ را با ۴ یکان که قبلا به دست آورده\\u200cایم، کنار هم می\\u200cنویسیم:\\n\\n۷۴\\n\\nپس می\\u200cبینیم که ۱۲ به علاوه\\u200cی ۶۲ برابر است با ۷۴.',\n",
       " 'count_numbers_answer': '17'}"
      ]
     },
     "execution_count": 68,
     "metadata": {},
     "output_type": "execute_result"
    }
   ],
   "source": [
    "from langchain_core.runnables import RunnableParallel\n",
    "\n",
    "final_output = RunnableParallel({\n",
    "    \"model_answer\": RunnablePassthrough(),  \n",
    "    \"count_numbers_answer\": count_numbers_runnable \n",
    "})\n",
    "\n",
    "combined_chain = model_chain | final_output\n",
    "\n",
    "response = combined_chain.invoke({\"first_number\": first_number, \"second_number\": second_number})\n",
    "response"
   ]
  },
  {
   "cell_type": "markdown",
   "metadata": {},
   "source": [
    "## Debug"
   ]
  },
  {
   "cell_type": "code",
   "execution_count": 14,
   "metadata": {},
   "outputs": [],
   "source": [
    "from operator import itemgetter\n",
    "from langchain_core.prompts import ChatPromptTemplate\n",
    "from langchain_core.output_parsers import StrOutputParser\n",
    "\n",
    "person_prompt = ChatPromptTemplate.from_template(\"what is the city {person} is from?\")\n",
    "\n",
    "sub_chain = person_prompt | chat | StrOutputParser()\n",
    "\n",
    "city_prompt = ChatPromptTemplate.from_template(\n",
    "    \"what country is the city {city} in? respond in {language}\"\n",
    ")\n",
    "\n",
    "chain = (\n",
    "    {\"city\": sub_chain, \"language\": itemgetter(\"language\")}\n",
    "    | city_prompt\n",
    "    | chat\n",
    "    | StrOutputParser()\n",
    ")\n",
    "\n",
    "chain = chain.with_config({\"verbose\": True})"
   ]
  },
  {
   "cell_type": "code",
   "execution_count": null,
   "metadata": {},
   "outputs": [
    {
     "name": "stdout",
     "output_type": "stream",
     "text": [
      "Germany.\n"
     ]
    }
   ],
   "source": [
    "response = chain.invoke({\"person\": \"Beethoven\", \"language\": \"english\"}, )\n",
    "print(response)"
   ]
  },
  {
   "cell_type": "code",
   "execution_count": 22,
   "metadata": {},
   "outputs": [
    {
     "name": "stdout",
     "output_type": "stream",
     "text": [
      "           +------------------------------+      \n",
      "           | Parallel<city,language>Input |      \n",
      "           +------------------------------+      \n",
      "                  ***             ***            \n",
      "                **                   ***         \n",
      "              **                        **       \n",
      "+--------------------+                    **     \n",
      "| ChatPromptTemplate |                     *     \n",
      "+--------------------+                     *     \n",
      "           *                               *     \n",
      "           *                               *     \n",
      "           *                               *     \n",
      "    +------------+                         *     \n",
      "    | ChatCohere |                         *     \n",
      "    +------------+                         *     \n",
      "           *                               *     \n",
      "           *                               *     \n",
      "           *                               *     \n",
      "  +-----------------+                 +--------+ \n",
      "  | StrOutputParser |                 | Lambda | \n",
      "  +-----------------+                *+--------+ \n",
      "                  ***             ***            \n",
      "                     **         **               \n",
      "                       **     **                 \n",
      "          +-------------------------------+      \n",
      "          | Parallel<city,language>Output |      \n",
      "          +-------------------------------+      \n",
      "                           *                     \n",
      "                           *                     \n",
      "                           *                     \n",
      "                +--------------------+           \n",
      "                | ChatPromptTemplate |           \n",
      "                +--------------------+           \n",
      "                           *                     \n",
      "                           *                     \n",
      "                           *                     \n",
      "                    +------------+               \n",
      "                    | ChatCohere |               \n",
      "                    +------------+               \n",
      "                           *                     \n",
      "                           *                     \n",
      "                           *                     \n",
      "                  +-----------------+            \n",
      "                  | StrOutputParser |            \n",
      "                  +-----------------+            \n",
      "                           *                     \n",
      "                           *                     \n",
      "                           *                     \n",
      "              +-----------------------+          \n",
      "              | StrOutputParserOutput |          \n",
      "              +-----------------------+          \n"
     ]
    }
   ],
   "source": [
    "chain.get_graph().print_ascii()"
   ]
  },
  {
   "cell_type": "markdown",
   "metadata": {},
   "source": [
    "## Callback"
   ]
  },
  {
   "cell_type": "markdown",
   "metadata": {},
   "source": [
    "✅ What Is a Callback (General Definition)?\n",
    "\n",
    "A callback is a function (or method) that you pass to another piece of code, and it gets called automatically when something happens.\n",
    "\n",
    "👉 Think of it as saying:\n",
    "\n",
    "\"Hey, when you’re done doing X, call me and I’ll do Y.\"\n",
    "\n",
    "Callbacks are common in:\n",
    "\n",
    "- Event-driven programming (e.g., GUIs, clicking buttons)\n",
    "- Asynchronous code (e.g., when a request finishes)\n",
    "- Logging/debugging (e.g., when a process starts or ends)\n",
    "- Custom behavior hooks (e.g., adding your own logic to an existing process)"
   ]
  },
  {
   "cell_type": "code",
   "execution_count": 28,
   "metadata": {},
   "outputs": [
    {
     "name": "stdout",
     "output_type": "stream",
     "text": [
      "\u001b[32;1m\u001b[1;3m[chain/start]\u001b[0m \u001b[1m[chain:RunnableSequence] Entering Chain run with input:\n",
      "\u001b[0m{\n",
      "  \"person\": \"Beethoven\",\n",
      "  \"language\": \"english\"\n",
      "}\n",
      "\u001b[32;1m\u001b[1;3m[chain/start]\u001b[0m \u001b[1m[chain:RunnableSequence > chain:RunnableParallel<city,language>] Entering Chain run with input:\n",
      "\u001b[0m{\n",
      "  \"person\": \"Beethoven\",\n",
      "  \"language\": \"english\"\n",
      "}\n",
      "\u001b[32;1m\u001b[1;3m[chain/start]\u001b[0m \u001b[1m[chain:RunnableSequence > chain:RunnableParallel<city,language> > chain:RunnableSequence] Entering Chain run with input:\n",
      "\u001b[0m{\n",
      "  \"person\": \"Beethoven\",\n",
      "  \"language\": \"english\"\n",
      "}\n",
      "\u001b[32;1m\u001b[1;3m[chain/start]\u001b[0m \u001b[1m[chain:RunnableSequence > chain:RunnableParallel<city,language> > chain:RunnableSequence > prompt:ChatPromptTemplate] Entering Prompt run with input:\n",
      "\u001b[0m{\n",
      "  \"person\": \"Beethoven\",\n",
      "  \"language\": \"english\"\n",
      "}\n",
      "\u001b[36;1m\u001b[1;3m[chain/end]\u001b[0m \u001b[1m[chain:RunnableSequence > chain:RunnableParallel<city,language> > chain:RunnableSequence > prompt:ChatPromptTemplate] [1ms] Exiting Prompt run with output:\n",
      "\u001b[0m[outputs]\n",
      "\u001b[32;1m\u001b[1;3m[llm/start]\u001b[0m \u001b[1m[chain:RunnableSequence > chain:RunnableParallel<city,language> > chain:RunnableSequence > llm:ChatCohere] Entering LLM run with input:\n",
      "\u001b[0m{\n",
      "  \"prompts\": [\n",
      "    \"Human: what is the city Beethoven is from?\"\n",
      "  ]\n",
      "}\n",
      "\u001b[32;1m\u001b[1;3m[chain/start]\u001b[0m \u001b[1m[chain:RunnableSequence > chain:RunnableParallel<city,language> > chain:RunnableLambda] Entering Chain run with input:\n",
      "\u001b[0m{\n",
      "  \"person\": \"Beethoven\",\n",
      "  \"language\": \"english\"\n",
      "}\n",
      "\u001b[36;1m\u001b[1;3m[chain/end]\u001b[0m \u001b[1m[chain:RunnableSequence > chain:RunnableParallel<city,language> > chain:RunnableLambda] [1ms] Exiting Chain run with output:\n",
      "\u001b[0m{\n",
      "  \"output\": \"english\"\n",
      "}\n",
      "\u001b[36;1m\u001b[1;3m[llm/end]\u001b[0m \u001b[1m[chain:RunnableSequence > chain:RunnableParallel<city,language> > chain:RunnableSequence > llm:ChatCohere] [1.02s] Exiting LLM run with output:\n",
      "\u001b[0m{\n",
      "  \"generations\": [\n",
      "    [\n",
      "      {\n",
      "        \"text\": \"Bonn, Germany\",\n",
      "        \"generation_info\": {\n",
      "          \"id\": \"46bbdd7c-298e-41be-b469-274f8c1351ad\",\n",
      "          \"finish_reason\": \"COMPLETE\",\n",
      "          \"content\": \"Bonn, Germany\",\n",
      "          \"token_count\": {\n",
      "            \"input_tokens\": 201.0,\n",
      "            \"output_tokens\": 3.0\n",
      "          }\n",
      "        },\n",
      "        \"type\": \"ChatGeneration\",\n",
      "        \"message\": {\n",
      "          \"lc\": 1,\n",
      "          \"type\": \"constructor\",\n",
      "          \"id\": [\n",
      "            \"langchain\",\n",
      "            \"schema\",\n",
      "            \"messages\",\n",
      "            \"AIMessage\"\n",
      "          ],\n",
      "          \"kwargs\": {\n",
      "            \"content\": \"Bonn, Germany\",\n",
      "            \"additional_kwargs\": {\n",
      "              \"id\": \"46bbdd7c-298e-41be-b469-274f8c1351ad\",\n",
      "              \"finish_reason\": \"COMPLETE\",\n",
      "              \"content\": \"Bonn, Germany\",\n",
      "              \"token_count\": {\n",
      "                \"input_tokens\": 201.0,\n",
      "                \"output_tokens\": 3.0\n",
      "              }\n",
      "            },\n",
      "            \"response_metadata\": {\n",
      "              \"id\": \"46bbdd7c-298e-41be-b469-274f8c1351ad\",\n",
      "              \"finish_reason\": \"COMPLETE\",\n",
      "              \"content\": \"Bonn, Germany\",\n",
      "              \"token_count\": {\n",
      "                \"input_tokens\": 201.0,\n",
      "                \"output_tokens\": 3.0\n",
      "              }\n",
      "            },\n",
      "            \"type\": \"ai\",\n",
      "            \"id\": \"run-ffc2a8c6-03fa-498b-9c06-21744c384946-0\",\n",
      "            \"usage_metadata\": {\n",
      "              \"input_tokens\": 201,\n",
      "              \"output_tokens\": 3,\n",
      "              \"total_tokens\": 204\n",
      "            },\n",
      "            \"tool_calls\": [],\n",
      "            \"invalid_tool_calls\": []\n",
      "          }\n",
      "        }\n",
      "      }\n",
      "    ]\n",
      "  ],\n",
      "  \"llm_output\": null,\n",
      "  \"run\": null,\n",
      "  \"type\": \"LLMResult\"\n",
      "}\n",
      "\u001b[32;1m\u001b[1;3m[chain/start]\u001b[0m \u001b[1m[chain:RunnableSequence > chain:RunnableParallel<city,language> > chain:RunnableSequence > parser:StrOutputParser] Entering Parser run with input:\n",
      "\u001b[0m[inputs]\n",
      "\u001b[36;1m\u001b[1;3m[chain/end]\u001b[0m \u001b[1m[chain:RunnableSequence > chain:RunnableParallel<city,language> > chain:RunnableSequence > parser:StrOutputParser] [0ms] Exiting Parser run with output:\n",
      "\u001b[0m{\n",
      "  \"output\": \"Bonn, Germany\"\n",
      "}\n",
      "\u001b[36;1m\u001b[1;3m[chain/end]\u001b[0m \u001b[1m[chain:RunnableSequence > chain:RunnableParallel<city,language> > chain:RunnableSequence] [1.03s] Exiting Chain run with output:\n",
      "\u001b[0m{\n",
      "  \"output\": \"Bonn, Germany\"\n",
      "}\n",
      "\u001b[36;1m\u001b[1;3m[chain/end]\u001b[0m \u001b[1m[chain:RunnableSequence > chain:RunnableParallel<city,language>] [1.03s] Exiting Chain run with output:\n",
      "\u001b[0m{\n",
      "  \"city\": \"Bonn, Germany\",\n",
      "  \"language\": \"english\"\n",
      "}\n",
      "\u001b[32;1m\u001b[1;3m[chain/start]\u001b[0m \u001b[1m[chain:RunnableSequence > prompt:ChatPromptTemplate] Entering Prompt run with input:\n",
      "\u001b[0m{\n",
      "  \"city\": \"Bonn, Germany\",\n",
      "  \"language\": \"english\"\n",
      "}\n",
      "\u001b[36;1m\u001b[1;3m[chain/end]\u001b[0m \u001b[1m[chain:RunnableSequence > prompt:ChatPromptTemplate] [0ms] Exiting Prompt run with output:\n",
      "\u001b[0m[outputs]\n",
      "\u001b[32;1m\u001b[1;3m[llm/start]\u001b[0m \u001b[1m[chain:RunnableSequence > llm:ChatCohere] Entering LLM run with input:\n",
      "\u001b[0m{\n",
      "  \"prompts\": [\n",
      "    \"Human: what country is the city Bonn, Germany in? respond in english\"\n",
      "  ]\n",
      "}\n",
      "\u001b[36;1m\u001b[1;3m[llm/end]\u001b[0m \u001b[1m[chain:RunnableSequence > llm:ChatCohere] [435ms] Exiting LLM run with output:\n",
      "\u001b[0m{\n",
      "  \"generations\": [\n",
      "    [\n",
      "      {\n",
      "        \"text\": \"Germany\",\n",
      "        \"generation_info\": {\n",
      "          \"id\": \"0914b710-4f72-4a57-abfd-105f75fc3a73\",\n",
      "          \"finish_reason\": \"COMPLETE\",\n",
      "          \"content\": \"Germany\",\n",
      "          \"token_count\": {\n",
      "            \"input_tokens\": 206.0,\n",
      "            \"output_tokens\": 1.0\n",
      "          }\n",
      "        },\n",
      "        \"type\": \"ChatGeneration\",\n",
      "        \"message\": {\n",
      "          \"lc\": 1,\n",
      "          \"type\": \"constructor\",\n",
      "          \"id\": [\n",
      "            \"langchain\",\n",
      "            \"schema\",\n",
      "            \"messages\",\n",
      "            \"AIMessage\"\n",
      "          ],\n",
      "          \"kwargs\": {\n",
      "            \"content\": \"Germany\",\n",
      "            \"additional_kwargs\": {\n",
      "              \"id\": \"0914b710-4f72-4a57-abfd-105f75fc3a73\",\n",
      "              \"finish_reason\": \"COMPLETE\",\n",
      "              \"content\": \"Germany\",\n",
      "              \"token_count\": {\n",
      "                \"input_tokens\": 206.0,\n",
      "                \"output_tokens\": 1.0\n",
      "              }\n",
      "            },\n",
      "            \"response_metadata\": {\n",
      "              \"id\": \"0914b710-4f72-4a57-abfd-105f75fc3a73\",\n",
      "              \"finish_reason\": \"COMPLETE\",\n",
      "              \"content\": \"Germany\",\n",
      "              \"token_count\": {\n",
      "                \"input_tokens\": 206.0,\n",
      "                \"output_tokens\": 1.0\n",
      "              }\n",
      "            },\n",
      "            \"type\": \"ai\",\n",
      "            \"id\": \"run-cc252c8d-9ce0-4620-8ab4-b6df7ca172dc-0\",\n",
      "            \"usage_metadata\": {\n",
      "              \"input_tokens\": 206,\n",
      "              \"output_tokens\": 1,\n",
      "              \"total_tokens\": 207\n",
      "            },\n",
      "            \"tool_calls\": [],\n",
      "            \"invalid_tool_calls\": []\n",
      "          }\n",
      "        }\n",
      "      }\n",
      "    ]\n",
      "  ],\n",
      "  \"llm_output\": null,\n",
      "  \"run\": null,\n",
      "  \"type\": \"LLMResult\"\n",
      "}\n",
      "\u001b[32;1m\u001b[1;3m[chain/start]\u001b[0m \u001b[1m[chain:RunnableSequence > parser:StrOutputParser] Entering Parser run with input:\n",
      "\u001b[0m[inputs]\n",
      "\u001b[36;1m\u001b[1;3m[chain/end]\u001b[0m \u001b[1m[chain:RunnableSequence > parser:StrOutputParser] [0ms] Exiting Parser run with output:\n",
      "\u001b[0m{\n",
      "  \"output\": \"Germany\"\n",
      "}\n",
      "\u001b[36;1m\u001b[1;3m[chain/end]\u001b[0m \u001b[1m[chain:RunnableSequence] [1.46s] Exiting Chain run with output:\n",
      "\u001b[0m{\n",
      "  \"output\": \"Germany\"\n",
      "}\n",
      "Germany\n"
     ]
    }
   ],
   "source": [
    "from langchain.callbacks.tracers import ConsoleCallbackHandler\n",
    "\n",
    "response = chain.invoke({\"person\": \"Beethoven\", \"language\": \"english\"})#, config={\"callbacks\": [ConsoleCallbackHandler()]})\n",
    "print(response)"
   ]
  },
  {
   "cell_type": "markdown",
   "metadata": {},
   "source": [
    "## Set debug"
   ]
  },
  {
   "cell_type": "code",
   "execution_count": 26,
   "metadata": {},
   "outputs": [],
   "source": [
    "from langchain.globals import set_debug\n",
    "set_debug(True)"
   ]
  },
  {
   "cell_type": "code",
   "execution_count": null,
   "metadata": {},
   "outputs": [],
   "source": []
  }
 ],
 "metadata": {
  "kernelspec": {
   "display_name": ".venv",
   "language": "python",
   "name": "python3"
  },
  "language_info": {
   "codemirror_mode": {
    "name": "ipython",
    "version": 3
   },
   "file_extension": ".py",
   "mimetype": "text/x-python",
   "name": "python",
   "nbconvert_exporter": "python",
   "pygments_lexer": "ipython3",
   "version": "3.10.12"
  }
 },
 "nbformat": 4,
 "nbformat_minor": 2
}
