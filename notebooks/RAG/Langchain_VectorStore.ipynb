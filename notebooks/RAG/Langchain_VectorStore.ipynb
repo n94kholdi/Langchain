{
 "cells": [
  {
   "cell_type": "markdown",
   "metadata": {},
   "source": [
    "## Get API key"
   ]
  },
  {
   "cell_type": "code",
   "execution_count": 1,
   "metadata": {},
   "outputs": [],
   "source": [
    "import os\n",
    "import getpass\n",
    "\n",
    "os.environ[\"Cohere_API_KEY\"] = getpass.getpass()"
   ]
  },
  {
   "cell_type": "code",
   "execution_count": 2,
   "metadata": {},
   "outputs": [
    {
     "name": "stdout",
     "output_type": "stream",
     "text": [
      "nt9wg84wNjGfVEwC9ysQuAVdEJlT9bDYjtMeMA8g\n"
     ]
    }
   ],
   "source": [
    "cohere_api_key = os.environ[\"Cohere_API_KEY\"]\n",
    "print(cohere_api_key)\n"
   ]
  },
  {
   "cell_type": "markdown",
   "metadata": {},
   "source": [
    "## Compatible versions of langchain packages"
   ]
  },
  {
   "cell_type": "code",
   "execution_count": 4,
   "metadata": {},
   "outputs": [
    {
     "name": "stdout",
     "output_type": "stream",
     "text": [
      "Collecting pydantic>=2.0\n",
      "  Using cached pydantic-2.10.6-py3-none-any.whl.metadata (30 kB)\n",
      "Requirement already satisfied: langchain-core>=0.1.8 in /home/nayereh/Documents/Courses/LLMs/.venv/lib/python3.10/site-packages (0.3.49)\n",
      "Requirement already satisfied: langchain>=0.1.8 in /home/nayereh/Documents/Courses/LLMs/.venv/lib/python3.10/site-packages (0.3.20)\n",
      "Collecting langchain>=0.1.8\n",
      "  Downloading langchain-0.3.21-py3-none-any.whl.metadata (7.8 kB)\n",
      "Requirement already satisfied: langchain-cohere>=0.0.6 in /home/nayereh/Documents/Courses/LLMs/.venv/lib/python3.10/site-packages (0.4.3)\n",
      "Requirement already satisfied: langchain-huggingface>=0.0.3 in /home/nayereh/Documents/Courses/LLMs/.venv/lib/python3.10/site-packages (0.0.3)\n",
      "Collecting langchain-huggingface>=0.0.3\n",
      "  Downloading langchain_huggingface-0.1.2-py3-none-any.whl.metadata (1.3 kB)\n",
      "Requirement already satisfied: annotated-types>=0.6.0 in /home/nayereh/Documents/Courses/LLMs/.venv/lib/python3.10/site-packages (from pydantic>=2.0) (0.7.0)\n",
      "Requirement already satisfied: pydantic-core==2.27.2 in /home/nayereh/Documents/Courses/LLMs/.venv/lib/python3.10/site-packages (from pydantic>=2.0) (2.27.2)\n",
      "Requirement already satisfied: typing-extensions>=4.12.2 in /home/nayereh/Documents/Courses/LLMs/.venv/lib/python3.10/site-packages (from pydantic>=2.0) (4.12.2)\n",
      "Requirement already satisfied: langsmith<0.4,>=0.1.125 in /home/nayereh/Documents/Courses/LLMs/.venv/lib/python3.10/site-packages (from langchain-core>=0.1.8) (0.1.147)\n",
      "Requirement already satisfied: tenacity!=8.4.0,<10.0.0,>=8.1.0 in /home/nayereh/Documents/Courses/LLMs/.venv/lib/python3.10/site-packages (from langchain-core>=0.1.8) (8.5.0)\n",
      "Requirement already satisfied: jsonpatch<2.0,>=1.33 in /home/nayereh/Documents/Courses/LLMs/.venv/lib/python3.10/site-packages (from langchain-core>=0.1.8) (1.33)\n",
      "Requirement already satisfied: PyYAML>=5.3 in /home/nayereh/Documents/Courses/LLMs/.venv/lib/python3.10/site-packages (from langchain-core>=0.1.8) (6.0.2)\n",
      "Requirement already satisfied: packaging<25,>=23.2 in /home/nayereh/Documents/Courses/LLMs/.venv/lib/python3.10/site-packages (from langchain-core>=0.1.8) (24.2)\n",
      "Collecting langchain-text-splitters<1.0.0,>=0.3.7 (from langchain>=0.1.8)\n",
      "  Downloading langchain_text_splitters-0.3.7-py3-none-any.whl.metadata (1.9 kB)\n",
      "Requirement already satisfied: SQLAlchemy<3,>=1.4 in /home/nayereh/Documents/Courses/LLMs/.venv/lib/python3.10/site-packages (from langchain>=0.1.8) (2.0.38)\n",
      "Requirement already satisfied: requests<3,>=2 in /home/nayereh/Documents/Courses/LLMs/.venv/lib/python3.10/site-packages (from langchain>=0.1.8) (2.32.3)\n",
      "Requirement already satisfied: async-timeout<5.0.0,>=4.0.0 in /home/nayereh/Documents/Courses/LLMs/.venv/lib/python3.10/site-packages (from langchain>=0.1.8) (4.0.3)\n",
      "Requirement already satisfied: cohere<6.0,>=5.12.0 in /home/nayereh/Documents/Courses/LLMs/.venv/lib/python3.10/site-packages (from langchain-cohere>=0.0.6) (5.14.0)\n",
      "Requirement already satisfied: langchain-community<0.4.0,>=0.3.0 in /home/nayereh/Documents/Courses/LLMs/.venv/lib/python3.10/site-packages (from langchain-cohere>=0.0.6) (0.3.19)\n",
      "Requirement already satisfied: types-pyyaml<7.0.0.0,>=6.0.12.20240917 in /home/nayereh/Documents/Courses/LLMs/.venv/lib/python3.10/site-packages (from langchain-cohere>=0.0.6) (6.0.12.20241230)\n",
      "Requirement already satisfied: huggingface-hub>=0.23.0 in /home/nayereh/Documents/Courses/LLMs/.venv/lib/python3.10/site-packages (from langchain-huggingface>=0.0.3) (0.29.2)\n",
      "Requirement already satisfied: sentence-transformers>=2.6.0 in /home/nayereh/Documents/Courses/LLMs/.venv/lib/python3.10/site-packages (from langchain-huggingface>=0.0.3) (4.0.1)\n",
      "Requirement already satisfied: tokenizers>=0.19.1 in /home/nayereh/Documents/Courses/LLMs/.venv/lib/python3.10/site-packages (from langchain-huggingface>=0.0.3) (0.21.0)\n",
      "Requirement already satisfied: transformers>=4.39.0 in /home/nayereh/Documents/Courses/LLMs/.venv/lib/python3.10/site-packages (from langchain-huggingface>=0.0.3) (4.50.1)\n",
      "Requirement already satisfied: fastavro<2.0.0,>=1.9.4 in /home/nayereh/Documents/Courses/LLMs/.venv/lib/python3.10/site-packages (from cohere<6.0,>=5.12.0->langchain-cohere>=0.0.6) (1.10.0)\n",
      "Requirement already satisfied: httpx>=0.21.2 in /home/nayereh/Documents/Courses/LLMs/.venv/lib/python3.10/site-packages (from cohere<6.0,>=5.12.0->langchain-cohere>=0.0.6) (0.28.1)\n",
      "Requirement already satisfied: httpx-sse==0.4.0 in /home/nayereh/Documents/Courses/LLMs/.venv/lib/python3.10/site-packages (from cohere<6.0,>=5.12.0->langchain-cohere>=0.0.6) (0.4.0)\n",
      "Requirement already satisfied: types-requests<3.0.0,>=2.0.0 in /home/nayereh/Documents/Courses/LLMs/.venv/lib/python3.10/site-packages (from cohere<6.0,>=5.12.0->langchain-cohere>=0.0.6) (2.32.0.20250306)\n",
      "Requirement already satisfied: filelock in /home/nayereh/Documents/Courses/LLMs/.venv/lib/python3.10/site-packages (from huggingface-hub>=0.23.0->langchain-huggingface>=0.0.3) (3.17.0)\n",
      "Requirement already satisfied: fsspec>=2023.5.0 in /home/nayereh/Documents/Courses/LLMs/.venv/lib/python3.10/site-packages (from huggingface-hub>=0.23.0->langchain-huggingface>=0.0.3) (2025.3.0)\n",
      "Requirement already satisfied: tqdm>=4.42.1 in /home/nayereh/Documents/Courses/LLMs/.venv/lib/python3.10/site-packages (from huggingface-hub>=0.23.0->langchain-huggingface>=0.0.3) (4.67.1)\n",
      "Requirement already satisfied: jsonpointer>=1.9 in /home/nayereh/Documents/Courses/LLMs/.venv/lib/python3.10/site-packages (from jsonpatch<2.0,>=1.33->langchain-core>=0.1.8) (3.0.0)\n",
      "Requirement already satisfied: aiohttp<4.0.0,>=3.8.3 in /home/nayereh/Documents/Courses/LLMs/.venv/lib/python3.10/site-packages (from langchain-community<0.4.0,>=0.3.0->langchain-cohere>=0.0.6) (3.11.13)\n",
      "Requirement already satisfied: dataclasses-json<0.7,>=0.5.7 in /home/nayereh/Documents/Courses/LLMs/.venv/lib/python3.10/site-packages (from langchain-community<0.4.0,>=0.3.0->langchain-cohere>=0.0.6) (0.6.7)\n",
      "Requirement already satisfied: pydantic-settings<3.0.0,>=2.4.0 in /home/nayereh/Documents/Courses/LLMs/.venv/lib/python3.10/site-packages (from langchain-community<0.4.0,>=0.3.0->langchain-cohere>=0.0.6) (2.8.1)\n",
      "Requirement already satisfied: numpy<3,>=1.26.2 in /home/nayereh/Documents/Courses/LLMs/.venv/lib/python3.10/site-packages (from langchain-community<0.4.0,>=0.3.0->langchain-cohere>=0.0.6) (1.26.4)\n",
      "Requirement already satisfied: orjson<4.0.0,>=3.9.14 in /home/nayereh/Documents/Courses/LLMs/.venv/lib/python3.10/site-packages (from langsmith<0.4,>=0.1.125->langchain-core>=0.1.8) (3.10.15)\n",
      "Requirement already satisfied: requests-toolbelt<2.0.0,>=1.0.0 in /home/nayereh/Documents/Courses/LLMs/.venv/lib/python3.10/site-packages (from langsmith<0.4,>=0.1.125->langchain-core>=0.1.8) (1.0.0)\n",
      "Requirement already satisfied: charset-normalizer<4,>=2 in /home/nayereh/Documents/Courses/LLMs/.venv/lib/python3.10/site-packages (from requests<3,>=2->langchain>=0.1.8) (3.4.1)\n",
      "Requirement already satisfied: idna<4,>=2.5 in /home/nayereh/Documents/Courses/LLMs/.venv/lib/python3.10/site-packages (from requests<3,>=2->langchain>=0.1.8) (3.10)\n",
      "Requirement already satisfied: urllib3<3,>=1.21.1 in /home/nayereh/Documents/Courses/LLMs/.venv/lib/python3.10/site-packages (from requests<3,>=2->langchain>=0.1.8) (2.3.0)\n",
      "Requirement already satisfied: certifi>=2017.4.17 in /home/nayereh/Documents/Courses/LLMs/.venv/lib/python3.10/site-packages (from requests<3,>=2->langchain>=0.1.8) (2025.1.31)\n",
      "Requirement already satisfied: torch>=1.11.0 in /home/nayereh/Documents/Courses/LLMs/.venv/lib/python3.10/site-packages (from sentence-transformers>=2.6.0->langchain-huggingface>=0.0.3) (2.6.0)\n",
      "Requirement already satisfied: scikit-learn in /home/nayereh/Documents/Courses/LLMs/.venv/lib/python3.10/site-packages (from sentence-transformers>=2.6.0->langchain-huggingface>=0.0.3) (1.6.1)\n",
      "Requirement already satisfied: scipy in /home/nayereh/Documents/Courses/LLMs/.venv/lib/python3.10/site-packages (from sentence-transformers>=2.6.0->langchain-huggingface>=0.0.3) (1.15.2)\n",
      "Requirement already satisfied: Pillow in /home/nayereh/Documents/Courses/LLMs/.venv/lib/python3.10/site-packages (from sentence-transformers>=2.6.0->langchain-huggingface>=0.0.3) (11.1.0)\n",
      "Requirement already satisfied: greenlet!=0.4.17 in /home/nayereh/Documents/Courses/LLMs/.venv/lib/python3.10/site-packages (from SQLAlchemy<3,>=1.4->langchain>=0.1.8) (3.1.1)\n",
      "Requirement already satisfied: regex!=2019.12.17 in /home/nayereh/Documents/Courses/LLMs/.venv/lib/python3.10/site-packages (from transformers>=4.39.0->langchain-huggingface>=0.0.3) (2024.11.6)\n",
      "Requirement already satisfied: safetensors>=0.4.3 in /home/nayereh/Documents/Courses/LLMs/.venv/lib/python3.10/site-packages (from transformers>=4.39.0->langchain-huggingface>=0.0.3) (0.5.3)\n",
      "Requirement already satisfied: aiohappyeyeballs>=2.3.0 in /home/nayereh/Documents/Courses/LLMs/.venv/lib/python3.10/site-packages (from aiohttp<4.0.0,>=3.8.3->langchain-community<0.4.0,>=0.3.0->langchain-cohere>=0.0.6) (2.5.0)\n",
      "Requirement already satisfied: aiosignal>=1.1.2 in /home/nayereh/Documents/Courses/LLMs/.venv/lib/python3.10/site-packages (from aiohttp<4.0.0,>=3.8.3->langchain-community<0.4.0,>=0.3.0->langchain-cohere>=0.0.6) (1.3.2)\n",
      "Requirement already satisfied: attrs>=17.3.0 in /home/nayereh/Documents/Courses/LLMs/.venv/lib/python3.10/site-packages (from aiohttp<4.0.0,>=3.8.3->langchain-community<0.4.0,>=0.3.0->langchain-cohere>=0.0.6) (25.1.0)\n",
      "Requirement already satisfied: frozenlist>=1.1.1 in /home/nayereh/Documents/Courses/LLMs/.venv/lib/python3.10/site-packages (from aiohttp<4.0.0,>=3.8.3->langchain-community<0.4.0,>=0.3.0->langchain-cohere>=0.0.6) (1.5.0)\n",
      "Requirement already satisfied: multidict<7.0,>=4.5 in /home/nayereh/Documents/Courses/LLMs/.venv/lib/python3.10/site-packages (from aiohttp<4.0.0,>=3.8.3->langchain-community<0.4.0,>=0.3.0->langchain-cohere>=0.0.6) (6.1.0)\n",
      "Requirement already satisfied: propcache>=0.2.0 in /home/nayereh/Documents/Courses/LLMs/.venv/lib/python3.10/site-packages (from aiohttp<4.0.0,>=3.8.3->langchain-community<0.4.0,>=0.3.0->langchain-cohere>=0.0.6) (0.3.0)\n",
      "Requirement already satisfied: yarl<2.0,>=1.17.0 in /home/nayereh/Documents/Courses/LLMs/.venv/lib/python3.10/site-packages (from aiohttp<4.0.0,>=3.8.3->langchain-community<0.4.0,>=0.3.0->langchain-cohere>=0.0.6) (1.18.3)\n",
      "Requirement already satisfied: marshmallow<4.0.0,>=3.18.0 in /home/nayereh/Documents/Courses/LLMs/.venv/lib/python3.10/site-packages (from dataclasses-json<0.7,>=0.5.7->langchain-community<0.4.0,>=0.3.0->langchain-cohere>=0.0.6) (3.26.1)\n",
      "Requirement already satisfied: typing-inspect<1,>=0.4.0 in /home/nayereh/Documents/Courses/LLMs/.venv/lib/python3.10/site-packages (from dataclasses-json<0.7,>=0.5.7->langchain-community<0.4.0,>=0.3.0->langchain-cohere>=0.0.6) (0.9.0)\n",
      "Requirement already satisfied: anyio in /home/nayereh/Documents/Courses/LLMs/.venv/lib/python3.10/site-packages (from httpx>=0.21.2->cohere<6.0,>=5.12.0->langchain-cohere>=0.0.6) (4.8.0)\n",
      "Requirement already satisfied: httpcore==1.* in /home/nayereh/Documents/Courses/LLMs/.venv/lib/python3.10/site-packages (from httpx>=0.21.2->cohere<6.0,>=5.12.0->langchain-cohere>=0.0.6) (1.0.7)\n",
      "Requirement already satisfied: h11<0.15,>=0.13 in /home/nayereh/Documents/Courses/LLMs/.venv/lib/python3.10/site-packages (from httpcore==1.*->httpx>=0.21.2->cohere<6.0,>=5.12.0->langchain-cohere>=0.0.6) (0.14.0)\n",
      "Requirement already satisfied: python-dotenv>=0.21.0 in /home/nayereh/Documents/Courses/LLMs/.venv/lib/python3.10/site-packages (from pydantic-settings<3.0.0,>=2.4.0->langchain-community<0.4.0,>=0.3.0->langchain-cohere>=0.0.6) (1.0.1)\n",
      "Requirement already satisfied: networkx in /home/nayereh/Documents/Courses/LLMs/.venv/lib/python3.10/site-packages (from torch>=1.11.0->sentence-transformers>=2.6.0->langchain-huggingface>=0.0.3) (3.4.2)\n",
      "Requirement already satisfied: jinja2 in /home/nayereh/Documents/Courses/LLMs/.venv/lib/python3.10/site-packages (from torch>=1.11.0->sentence-transformers>=2.6.0->langchain-huggingface>=0.0.3) (3.1.6)\n",
      "Requirement already satisfied: nvidia-cuda-nvrtc-cu12==12.4.127 in /home/nayereh/Documents/Courses/LLMs/.venv/lib/python3.10/site-packages (from torch>=1.11.0->sentence-transformers>=2.6.0->langchain-huggingface>=0.0.3) (12.4.127)\n",
      "Requirement already satisfied: nvidia-cuda-runtime-cu12==12.4.127 in /home/nayereh/Documents/Courses/LLMs/.venv/lib/python3.10/site-packages (from torch>=1.11.0->sentence-transformers>=2.6.0->langchain-huggingface>=0.0.3) (12.4.127)\n",
      "Requirement already satisfied: nvidia-cuda-cupti-cu12==12.4.127 in /home/nayereh/Documents/Courses/LLMs/.venv/lib/python3.10/site-packages (from torch>=1.11.0->sentence-transformers>=2.6.0->langchain-huggingface>=0.0.3) (12.4.127)\n",
      "Requirement already satisfied: nvidia-cudnn-cu12==9.1.0.70 in /home/nayereh/Documents/Courses/LLMs/.venv/lib/python3.10/site-packages (from torch>=1.11.0->sentence-transformers>=2.6.0->langchain-huggingface>=0.0.3) (9.1.0.70)\n",
      "Requirement already satisfied: nvidia-cublas-cu12==12.4.5.8 in /home/nayereh/Documents/Courses/LLMs/.venv/lib/python3.10/site-packages (from torch>=1.11.0->sentence-transformers>=2.6.0->langchain-huggingface>=0.0.3) (12.4.5.8)\n",
      "Requirement already satisfied: nvidia-cufft-cu12==11.2.1.3 in /home/nayereh/Documents/Courses/LLMs/.venv/lib/python3.10/site-packages (from torch>=1.11.0->sentence-transformers>=2.6.0->langchain-huggingface>=0.0.3) (11.2.1.3)\n",
      "Requirement already satisfied: nvidia-curand-cu12==10.3.5.147 in /home/nayereh/Documents/Courses/LLMs/.venv/lib/python3.10/site-packages (from torch>=1.11.0->sentence-transformers>=2.6.0->langchain-huggingface>=0.0.3) (10.3.5.147)\n",
      "Requirement already satisfied: nvidia-cusolver-cu12==11.6.1.9 in /home/nayereh/Documents/Courses/LLMs/.venv/lib/python3.10/site-packages (from torch>=1.11.0->sentence-transformers>=2.6.0->langchain-huggingface>=0.0.3) (11.6.1.9)\n",
      "Requirement already satisfied: nvidia-cusparse-cu12==12.3.1.170 in /home/nayereh/Documents/Courses/LLMs/.venv/lib/python3.10/site-packages (from torch>=1.11.0->sentence-transformers>=2.6.0->langchain-huggingface>=0.0.3) (12.3.1.170)\n",
      "Requirement already satisfied: nvidia-cusparselt-cu12==0.6.2 in /home/nayereh/Documents/Courses/LLMs/.venv/lib/python3.10/site-packages (from torch>=1.11.0->sentence-transformers>=2.6.0->langchain-huggingface>=0.0.3) (0.6.2)\n",
      "Requirement already satisfied: nvidia-nccl-cu12==2.21.5 in /home/nayereh/Documents/Courses/LLMs/.venv/lib/python3.10/site-packages (from torch>=1.11.0->sentence-transformers>=2.6.0->langchain-huggingface>=0.0.3) (2.21.5)\n",
      "Requirement already satisfied: nvidia-nvtx-cu12==12.4.127 in /home/nayereh/Documents/Courses/LLMs/.venv/lib/python3.10/site-packages (from torch>=1.11.0->sentence-transformers>=2.6.0->langchain-huggingface>=0.0.3) (12.4.127)\n",
      "Requirement already satisfied: nvidia-nvjitlink-cu12==12.4.127 in /home/nayereh/Documents/Courses/LLMs/.venv/lib/python3.10/site-packages (from torch>=1.11.0->sentence-transformers>=2.6.0->langchain-huggingface>=0.0.3) (12.4.127)\n",
      "Requirement already satisfied: triton==3.2.0 in /home/nayereh/Documents/Courses/LLMs/.venv/lib/python3.10/site-packages (from torch>=1.11.0->sentence-transformers>=2.6.0->langchain-huggingface>=0.0.3) (3.2.0)\n",
      "Requirement already satisfied: sympy==1.13.1 in /home/nayereh/Documents/Courses/LLMs/.venv/lib/python3.10/site-packages (from torch>=1.11.0->sentence-transformers>=2.6.0->langchain-huggingface>=0.0.3) (1.13.1)\n",
      "Requirement already satisfied: mpmath<1.4,>=1.1.0 in /home/nayereh/Documents/Courses/LLMs/.venv/lib/python3.10/site-packages (from sympy==1.13.1->torch>=1.11.0->sentence-transformers>=2.6.0->langchain-huggingface>=0.0.3) (1.3.0)\n",
      "Requirement already satisfied: joblib>=1.2.0 in /home/nayereh/Documents/Courses/LLMs/.venv/lib/python3.10/site-packages (from scikit-learn->sentence-transformers>=2.6.0->langchain-huggingface>=0.0.3) (1.4.2)\n",
      "Requirement already satisfied: threadpoolctl>=3.1.0 in /home/nayereh/Documents/Courses/LLMs/.venv/lib/python3.10/site-packages (from scikit-learn->sentence-transformers>=2.6.0->langchain-huggingface>=0.0.3) (3.6.0)\n",
      "Requirement already satisfied: mypy-extensions>=0.3.0 in /home/nayereh/Documents/Courses/LLMs/.venv/lib/python3.10/site-packages (from typing-inspect<1,>=0.4.0->dataclasses-json<0.7,>=0.5.7->langchain-community<0.4.0,>=0.3.0->langchain-cohere>=0.0.6) (1.0.0)\n",
      "Requirement already satisfied: exceptiongroup>=1.0.2 in /home/nayereh/Documents/Courses/LLMs/.venv/lib/python3.10/site-packages (from anyio->httpx>=0.21.2->cohere<6.0,>=5.12.0->langchain-cohere>=0.0.6) (1.2.2)\n",
      "Requirement already satisfied: sniffio>=1.1 in /home/nayereh/Documents/Courses/LLMs/.venv/lib/python3.10/site-packages (from anyio->httpx>=0.21.2->cohere<6.0,>=5.12.0->langchain-cohere>=0.0.6) (1.3.1)\n",
      "Requirement already satisfied: MarkupSafe>=2.0 in /home/nayereh/Documents/Courses/LLMs/.venv/lib/python3.10/site-packages (from jinja2->torch>=1.11.0->sentence-transformers>=2.6.0->langchain-huggingface>=0.0.3) (3.0.2)\n",
      "Using cached pydantic-2.10.6-py3-none-any.whl (431 kB)\n",
      "Downloading langchain-0.3.21-py3-none-any.whl (1.0 MB)\n",
      "\u001b[2K   \u001b[90m━━━━━━━━━━━━━━━━━━━━━━━━━━━━━━━━━━━━━━━━\u001b[0m \u001b[32m1.0/1.0 MB\u001b[0m \u001b[31m3.2 MB/s\u001b[0m eta \u001b[36m0:00:00\u001b[0m-:--:--\u001b[0m\n",
      "\u001b[?25hDownloading langchain_huggingface-0.1.2-py3-none-any.whl (21 kB)\n",
      "Downloading langchain_text_splitters-0.3.7-py3-none-any.whl (32 kB)\n",
      "Installing collected packages: pydantic, langchain-text-splitters, langchain-huggingface, langchain\n",
      "  Attempting uninstall: pydantic\n",
      "    Found existing installation: pydantic 1.10.21\n",
      "    Uninstalling pydantic-1.10.21:\n",
      "      Successfully uninstalled pydantic-1.10.21\n",
      "  Attempting uninstall: langchain-text-splitters\n",
      "    Found existing installation: langchain-text-splitters 0.3.6\n",
      "    Uninstalling langchain-text-splitters-0.3.6:\n",
      "      Successfully uninstalled langchain-text-splitters-0.3.6\n",
      "  Attempting uninstall: langchain-huggingface\n",
      "    Found existing installation: langchain-huggingface 0.0.3\n",
      "    Uninstalling langchain-huggingface-0.0.3:\n",
      "      Successfully uninstalled langchain-huggingface-0.0.3\n",
      "  Attempting uninstall: langchain\n",
      "    Found existing installation: langchain 0.3.20\n",
      "    Uninstalling langchain-0.3.20:\n",
      "      Successfully uninstalled langchain-0.3.20\n",
      "Successfully installed langchain-0.3.21 langchain-huggingface-0.1.2 langchain-text-splitters-0.3.7 pydantic-2.10.6\n"
     ]
    }
   ],
   "source": [
    "!pip install --upgrade \\\n",
    "  \"pydantic>=2.0\" \\\n",
    "  \"langchain-core>=0.1.8\" \\\n",
    "  \"langchain>=0.1.8\" \\\n",
    "  \"langchain-cohere>=0.0.6\" \\\n",
    "  \"langchain-huggingface>=0.0.3\"  # or latest\n"
   ]
  },
  {
   "cell_type": "markdown",
   "metadata": {},
   "source": [
    "## Load Cohere Embedding"
   ]
  },
  {
   "cell_type": "code",
   "execution_count": 3,
   "metadata": {},
   "outputs": [],
   "source": [
    "from langchain_cohere import CohereEmbeddings\n",
    "\n",
    "embeddings = CohereEmbeddings(\n",
    "    cohere_api_key=cohere_api_key,\n",
    "    model = \"embed-multilingual-light-v3.0\",\n",
    "    max_retries=3,\n",
    "    request_timeout=20\n",
    ")"
   ]
  },
  {
   "cell_type": "markdown",
   "metadata": {},
   "source": [
    "## Load docs for embedding"
   ]
  },
  {
   "cell_type": "code",
   "execution_count": 4,
   "metadata": {},
   "outputs": [],
   "source": [
    "from langchain_community.document_loaders import WikipediaLoader\n",
    "\n",
    "wikipedia_docs = WikipediaLoader(query = \"فیلم ارباب حلقه‌ها\",\n",
    "                                 load_max_docs = 6,\n",
    "                                 lang = 'fa').load()\n",
    "\n",
    "# print(wikipedia_docs.content[0])"
   ]
  },
  {
   "cell_type": "code",
   "execution_count": 5,
   "metadata": {},
   "outputs": [
    {
     "name": "stdout",
     "output_type": "stream",
     "text": [
      "dict_keys(['title', 'summary', 'source'])\n"
     ]
    }
   ],
   "source": [
    "print(wikipedia_docs[0].metadata.keys())"
   ]
  },
  {
   "cell_type": "code",
   "execution_count": 6,
   "metadata": {},
   "outputs": [
    {
     "name": "stdout",
     "output_type": "stream",
     "text": [
      "ارباب حلقه‌ها: بازگشت پادشاه (انگلیسی: The Lord of the Rings: The Return of the King) یک فیلم ماجراجویی فانتزی حماسی به کارگردانی پیتر جکسون است که در سال ۲۰۰۳ منتشر شد. فیلم‌نامهٔ فیلم را فرن والش، فیلیپا بوینس و جکسون بر پایهٔ جلد سوم ارباب حلقه‌ها نوشتهٔ جی. آر. آر. تالکین به نگارش درآورده‌اند و پس از یاران حلقه (۲۰۰۱) و ارباب حلقه‌ها (۲۰۰۲) آخرین قسمت از سه‌گانهٔ ارباب حلقه‌ها به‌شمار می‌رود. بازگشت پادشاه دنبالهٔ داستان دو برج است و در آن فرودو، سم و گالوم راهی کوه نابودی در موردور می‌شوند تا حلقه یگانه را نابود کنند، اما از اهداف واقعی گالوم اطلاعی ندارند. در همین حین گندالف، آراگورن، لگولاس، گیملی و سایر افراد در حال متحد شدن با یکدیگر علیه سائورون و لژیون‌هایش در میناس تیریت هستند. بازیگران این فیلم الایجا وود، ایان مک‌کلن، لیو تایلر، ویگو مورتنسن، شان آستین، کیت بلانشت، جان ریس-دیویس، برنارد هیل، بیلی بوید، دامینیک مانهن، اورلاندو بلوم، هوگو ویوینگ، میراندا اتو، دیوید ونهام، کارل اربن، جان نوبل، اندی سرکیس، ایان هولم، و شان بین هستند.\n",
      "تأمین بودجهٔ و توزیع بازگشت پادشاه بر عهدهٔ استودیوی آمریکایی نیو لاین سینما بود که همزمان با دو قسمت دیگر این سه‌گانه، به‌طور کامل در زادگاه جکسون، نیوزیلند، فیلم‌برداری و تدوین شد. اولین نمایش آن در ۱ دسامبر ۲۰۰۳ در تئاتر امبزی واقع در ولینگتون بود و در ۱۷ دسامبر ۲۰۰۳ در ایالات متحده و در ۱۸ دسامبر ۲۰۰۳ در نیوزیلند اکران شد. این فیلم از سوی منتقدان و تماشاگران تحسین شد. بازگشت پادشاه نقطهٔ عطفی در فیلم‌سازی و ژانر فانتزی دانسته شده، و از جلوه‌های بصری، اجراها، سکانس‌های اکشن، کارگردانی، فیلم‌نامه، موسیقی، طراحی صحنه و شدت هیجانی آن ستایش شد. این فیلم بیش از ۱٫۱ میلیارد دلار در سرتاسر جهان فروخت که آن را به پرفروش‌ترین فیلم سال ۲۰۰۳ و دومین فیلم پرفروش تاریخ در زمان اکرانش و همچنین پرفروش‌ترین فیلم منتشرشده توسط نیو لاین سینما تبدیل کرد.\n",
      "مانند دیگر فیلم‌های این سه‌گانه، بازگشت پادشاه به‌طور گسترده‌ای به عنوان یکی از برترین و تاثیرگذارترین فیلم‌های ساخته شده شناخته می‌شود. این فیلم افتخارات متعددی دریافت کرد. در هفتاد و ششمین دوره جوایز اسکار تمام یازده جایزه‌ای را که برای آن‌ها نامزد شده بود، از جمله جایزهٔ بهترین فیلم را کسب کرد. همچنین پس از سه‌گانهٔ اصلی جنگ ستارگان، دومین مجموعه فیلمی بود که همه آثارش برندهٔ جایزهٔ اسکار بهترین جلوه‌های تصویری شدند.\n"
     ]
    }
   ],
   "source": [
    "print(wikipedia_docs[0].metadata[\"summary\"])"
   ]
  },
  {
   "cell_type": "code",
   "execution_count": 7,
   "metadata": {},
   "outputs": [],
   "source": [
    "## remove unnecessary fields, \"summary\"\n",
    "for doc in wikipedia_docs:\n",
    "    doc.metadata.pop(\"summary\", None)"
   ]
  },
  {
   "cell_type": "code",
   "execution_count": 8,
   "metadata": {},
   "outputs": [
    {
     "ename": "KeyError",
     "evalue": "'summary'",
     "output_type": "error",
     "traceback": [
      "\u001b[0;31m---------------------------------------------------------------------------\u001b[0m",
      "\u001b[0;31mKeyError\u001b[0m                                  Traceback (most recent call last)",
      "Cell \u001b[0;32mIn[8], line 1\u001b[0m\n\u001b[0;32m----> 1\u001b[0m \u001b[38;5;28mprint\u001b[39m(\u001b[43mwikipedia_docs\u001b[49m\u001b[43m[\u001b[49m\u001b[38;5;241;43m0\u001b[39;49m\u001b[43m]\u001b[49m\u001b[38;5;241;43m.\u001b[39;49m\u001b[43mmetadata\u001b[49m\u001b[43m[\u001b[49m\u001b[38;5;124;43m\"\u001b[39;49m\u001b[38;5;124;43msummary\u001b[39;49m\u001b[38;5;124;43m\"\u001b[39;49m\u001b[43m]\u001b[49m)\n",
      "\u001b[0;31mKeyError\u001b[0m: 'summary'"
     ]
    }
   ],
   "source": [
    "print(wikipedia_docs[0].metadata[\"summary\"])"
   ]
  },
  {
   "cell_type": "code",
   "execution_count": null,
   "metadata": {},
   "outputs": [
    {
     "name": "stdout",
     "output_type": "stream",
     "text": [
      "Number of splitted documents: 132\n"
     ]
    }
   ],
   "source": [
    "from langchain_text_splitters import RecursiveCharacterTextSplitter\n",
    "\n",
    "text_splitter = RecursiveCharacterTextSplitter(\n",
    "    chunk_size = 256,\n",
    "    chunk_overlap = 32,\n",
    ")\n",
    "\n",
    "## Split documents into smaller chunks\n",
    "## for better performance\n",
    "## and to avoid exceeding token limits\n",
    "splitted_docs = text_splitter.split_documents(wikipedia_docs)\n",
    "\n",
    "print(f\"Number of splitted documents: {len(splitted_docs)}\")"
   ]
  },
  {
   "cell_type": "markdown",
   "metadata": {},
   "source": [
    "## VectorStore - Chroma\n",
    "\n",
    "- https://api.python.langchain.com/en/latest/vectorstores/langchain_chroma.vectorstores.Chroma.html"
   ]
  },
  {
   "cell_type": "code",
   "execution_count": 15,
   "metadata": {},
   "outputs": [
    {
     "name": "stdout",
     "output_type": "stream",
     "text": [
      "Requirement already satisfied: langchain-chroma in /home/nayereh/Documents/Courses/LLMs/.venv/lib/python3.10/site-packages (0.2.2)\n",
      "Requirement already satisfied: langchain-core!=0.3.0,!=0.3.1,!=0.3.10,!=0.3.11,!=0.3.12,!=0.3.13,!=0.3.14,!=0.3.2,!=0.3.3,!=0.3.4,!=0.3.5,!=0.3.6,!=0.3.7,!=0.3.8,!=0.3.9,<0.4.0,>=0.2.43 in /home/nayereh/Documents/Courses/LLMs/.venv/lib/python3.10/site-packages (from langchain-chroma) (0.2.43)\n",
      "Requirement already satisfied: numpy<2.0.0,>=1.22.4 in /home/nayereh/Documents/Courses/LLMs/.venv/lib/python3.10/site-packages (from langchain-chroma) (1.26.4)\n",
      "Requirement already satisfied: chromadb!=0.5.10,!=0.5.11,!=0.5.12,!=0.5.4,!=0.5.5,!=0.5.7,!=0.5.9,<0.7.0,>=0.4.0 in /home/nayereh/Documents/Courses/LLMs/.venv/lib/python3.10/site-packages (from langchain-chroma) (0.6.3)\n",
      "Requirement already satisfied: build>=1.0.3 in /home/nayereh/Documents/Courses/LLMs/.venv/lib/python3.10/site-packages (from chromadb!=0.5.10,!=0.5.11,!=0.5.12,!=0.5.4,!=0.5.5,!=0.5.7,!=0.5.9,<0.7.0,>=0.4.0->langchain-chroma) (1.2.2.post1)\n",
      "Requirement already satisfied: pydantic>=1.9 in /home/nayereh/Documents/Courses/LLMs/.venv/lib/python3.10/site-packages (from chromadb!=0.5.10,!=0.5.11,!=0.5.12,!=0.5.4,!=0.5.5,!=0.5.7,!=0.5.9,<0.7.0,>=0.4.0->langchain-chroma) (2.10.6)\n",
      "Requirement already satisfied: chroma-hnswlib==0.7.6 in /home/nayereh/Documents/Courses/LLMs/.venv/lib/python3.10/site-packages (from chromadb!=0.5.10,!=0.5.11,!=0.5.12,!=0.5.4,!=0.5.5,!=0.5.7,!=0.5.9,<0.7.0,>=0.4.0->langchain-chroma) (0.7.6)\n",
      "Requirement already satisfied: fastapi>=0.95.2 in /home/nayereh/Documents/Courses/LLMs/.venv/lib/python3.10/site-packages (from chromadb!=0.5.10,!=0.5.11,!=0.5.12,!=0.5.4,!=0.5.5,!=0.5.7,!=0.5.9,<0.7.0,>=0.4.0->langchain-chroma) (0.115.11)\n",
      "Requirement already satisfied: uvicorn>=0.18.3 in /home/nayereh/Documents/Courses/LLMs/.venv/lib/python3.10/site-packages (from uvicorn[standard]>=0.18.3->chromadb!=0.5.10,!=0.5.11,!=0.5.12,!=0.5.4,!=0.5.5,!=0.5.7,!=0.5.9,<0.7.0,>=0.4.0->langchain-chroma) (0.34.0)\n",
      "Requirement already satisfied: posthog>=2.4.0 in /home/nayereh/Documents/Courses/LLMs/.venv/lib/python3.10/site-packages (from chromadb!=0.5.10,!=0.5.11,!=0.5.12,!=0.5.4,!=0.5.5,!=0.5.7,!=0.5.9,<0.7.0,>=0.4.0->langchain-chroma) (3.21.0)\n",
      "Requirement already satisfied: typing_extensions>=4.5.0 in /home/nayereh/Documents/Courses/LLMs/.venv/lib/python3.10/site-packages (from chromadb!=0.5.10,!=0.5.11,!=0.5.12,!=0.5.4,!=0.5.5,!=0.5.7,!=0.5.9,<0.7.0,>=0.4.0->langchain-chroma) (4.12.2)\n",
      "Requirement already satisfied: onnxruntime>=1.14.1 in /home/nayereh/Documents/Courses/LLMs/.venv/lib/python3.10/site-packages (from chromadb!=0.5.10,!=0.5.11,!=0.5.12,!=0.5.4,!=0.5.5,!=0.5.7,!=0.5.9,<0.7.0,>=0.4.0->langchain-chroma) (1.21.0)\n",
      "Requirement already satisfied: opentelemetry-api>=1.2.0 in /home/nayereh/Documents/Courses/LLMs/.venv/lib/python3.10/site-packages (from chromadb!=0.5.10,!=0.5.11,!=0.5.12,!=0.5.4,!=0.5.5,!=0.5.7,!=0.5.9,<0.7.0,>=0.4.0->langchain-chroma) (1.31.0)\n",
      "Requirement already satisfied: opentelemetry-exporter-otlp-proto-grpc>=1.2.0 in /home/nayereh/Documents/Courses/LLMs/.venv/lib/python3.10/site-packages (from chromadb!=0.5.10,!=0.5.11,!=0.5.12,!=0.5.4,!=0.5.5,!=0.5.7,!=0.5.9,<0.7.0,>=0.4.0->langchain-chroma) (1.31.0)\n",
      "Requirement already satisfied: opentelemetry-instrumentation-fastapi>=0.41b0 in /home/nayereh/Documents/Courses/LLMs/.venv/lib/python3.10/site-packages (from chromadb!=0.5.10,!=0.5.11,!=0.5.12,!=0.5.4,!=0.5.5,!=0.5.7,!=0.5.9,<0.7.0,>=0.4.0->langchain-chroma) (0.52b0)\n",
      "Requirement already satisfied: opentelemetry-sdk>=1.2.0 in /home/nayereh/Documents/Courses/LLMs/.venv/lib/python3.10/site-packages (from chromadb!=0.5.10,!=0.5.11,!=0.5.12,!=0.5.4,!=0.5.5,!=0.5.7,!=0.5.9,<0.7.0,>=0.4.0->langchain-chroma) (1.31.0)\n",
      "Requirement already satisfied: tokenizers>=0.13.2 in /home/nayereh/Documents/Courses/LLMs/.venv/lib/python3.10/site-packages (from chromadb!=0.5.10,!=0.5.11,!=0.5.12,!=0.5.4,!=0.5.5,!=0.5.7,!=0.5.9,<0.7.0,>=0.4.0->langchain-chroma) (0.21.0)\n",
      "Requirement already satisfied: pypika>=0.48.9 in /home/nayereh/Documents/Courses/LLMs/.venv/lib/python3.10/site-packages (from chromadb!=0.5.10,!=0.5.11,!=0.5.12,!=0.5.4,!=0.5.5,!=0.5.7,!=0.5.9,<0.7.0,>=0.4.0->langchain-chroma) (0.48.9)\n",
      "Requirement already satisfied: tqdm>=4.65.0 in /home/nayereh/Documents/Courses/LLMs/.venv/lib/python3.10/site-packages (from chromadb!=0.5.10,!=0.5.11,!=0.5.12,!=0.5.4,!=0.5.5,!=0.5.7,!=0.5.9,<0.7.0,>=0.4.0->langchain-chroma) (4.67.1)\n",
      "Requirement already satisfied: overrides>=7.3.1 in /home/nayereh/Documents/Courses/LLMs/.venv/lib/python3.10/site-packages (from chromadb!=0.5.10,!=0.5.11,!=0.5.12,!=0.5.4,!=0.5.5,!=0.5.7,!=0.5.9,<0.7.0,>=0.4.0->langchain-chroma) (7.7.0)\n",
      "Requirement already satisfied: importlib-resources in /home/nayereh/Documents/Courses/LLMs/.venv/lib/python3.10/site-packages (from chromadb!=0.5.10,!=0.5.11,!=0.5.12,!=0.5.4,!=0.5.5,!=0.5.7,!=0.5.9,<0.7.0,>=0.4.0->langchain-chroma) (6.5.2)\n",
      "Requirement already satisfied: grpcio>=1.58.0 in /home/nayereh/Documents/Courses/LLMs/.venv/lib/python3.10/site-packages (from chromadb!=0.5.10,!=0.5.11,!=0.5.12,!=0.5.4,!=0.5.5,!=0.5.7,!=0.5.9,<0.7.0,>=0.4.0->langchain-chroma) (1.71.0)\n",
      "Requirement already satisfied: bcrypt>=4.0.1 in /home/nayereh/Documents/Courses/LLMs/.venv/lib/python3.10/site-packages (from chromadb!=0.5.10,!=0.5.11,!=0.5.12,!=0.5.4,!=0.5.5,!=0.5.7,!=0.5.9,<0.7.0,>=0.4.0->langchain-chroma) (4.3.0)\n",
      "Requirement already satisfied: typer>=0.9.0 in /home/nayereh/Documents/Courses/LLMs/.venv/lib/python3.10/site-packages (from chromadb!=0.5.10,!=0.5.11,!=0.5.12,!=0.5.4,!=0.5.5,!=0.5.7,!=0.5.9,<0.7.0,>=0.4.0->langchain-chroma) (0.15.2)\n",
      "Requirement already satisfied: kubernetes>=28.1.0 in /home/nayereh/Documents/Courses/LLMs/.venv/lib/python3.10/site-packages (from chromadb!=0.5.10,!=0.5.11,!=0.5.12,!=0.5.4,!=0.5.5,!=0.5.7,!=0.5.9,<0.7.0,>=0.4.0->langchain-chroma) (32.0.1)\n",
      "Requirement already satisfied: tenacity>=8.2.3 in /home/nayereh/Documents/Courses/LLMs/.venv/lib/python3.10/site-packages (from chromadb!=0.5.10,!=0.5.11,!=0.5.12,!=0.5.4,!=0.5.5,!=0.5.7,!=0.5.9,<0.7.0,>=0.4.0->langchain-chroma) (8.5.0)\n",
      "Requirement already satisfied: PyYAML>=6.0.0 in /home/nayereh/Documents/Courses/LLMs/.venv/lib/python3.10/site-packages (from chromadb!=0.5.10,!=0.5.11,!=0.5.12,!=0.5.4,!=0.5.5,!=0.5.7,!=0.5.9,<0.7.0,>=0.4.0->langchain-chroma) (6.0.2)\n",
      "Requirement already satisfied: mmh3>=4.0.1 in /home/nayereh/Documents/Courses/LLMs/.venv/lib/python3.10/site-packages (from chromadb!=0.5.10,!=0.5.11,!=0.5.12,!=0.5.4,!=0.5.5,!=0.5.7,!=0.5.9,<0.7.0,>=0.4.0->langchain-chroma) (5.1.0)\n",
      "Requirement already satisfied: orjson>=3.9.12 in /home/nayereh/Documents/Courses/LLMs/.venv/lib/python3.10/site-packages (from chromadb!=0.5.10,!=0.5.11,!=0.5.12,!=0.5.4,!=0.5.5,!=0.5.7,!=0.5.9,<0.7.0,>=0.4.0->langchain-chroma) (3.10.15)\n",
      "Requirement already satisfied: httpx>=0.27.0 in /home/nayereh/Documents/Courses/LLMs/.venv/lib/python3.10/site-packages (from chromadb!=0.5.10,!=0.5.11,!=0.5.12,!=0.5.4,!=0.5.5,!=0.5.7,!=0.5.9,<0.7.0,>=0.4.0->langchain-chroma) (0.28.1)\n",
      "Requirement already satisfied: rich>=10.11.0 in /home/nayereh/Documents/Courses/LLMs/.venv/lib/python3.10/site-packages (from chromadb!=0.5.10,!=0.5.11,!=0.5.12,!=0.5.4,!=0.5.5,!=0.5.7,!=0.5.9,<0.7.0,>=0.4.0->langchain-chroma) (13.9.4)\n",
      "Requirement already satisfied: jsonpatch<2.0,>=1.33 in /home/nayereh/Documents/Courses/LLMs/.venv/lib/python3.10/site-packages (from langchain-core!=0.3.0,!=0.3.1,!=0.3.10,!=0.3.11,!=0.3.12,!=0.3.13,!=0.3.14,!=0.3.2,!=0.3.3,!=0.3.4,!=0.3.5,!=0.3.6,!=0.3.7,!=0.3.8,!=0.3.9,<0.4.0,>=0.2.43->langchain-chroma) (1.33)\n",
      "Requirement already satisfied: langsmith<0.2.0,>=0.1.112 in /home/nayereh/Documents/Courses/LLMs/.venv/lib/python3.10/site-packages (from langchain-core!=0.3.0,!=0.3.1,!=0.3.10,!=0.3.11,!=0.3.12,!=0.3.13,!=0.3.14,!=0.3.2,!=0.3.3,!=0.3.4,!=0.3.5,!=0.3.6,!=0.3.7,!=0.3.8,!=0.3.9,<0.4.0,>=0.2.43->langchain-chroma) (0.1.147)\n",
      "Requirement already satisfied: packaging<25,>=23.2 in /home/nayereh/Documents/Courses/LLMs/.venv/lib/python3.10/site-packages (from langchain-core!=0.3.0,!=0.3.1,!=0.3.10,!=0.3.11,!=0.3.12,!=0.3.13,!=0.3.14,!=0.3.2,!=0.3.3,!=0.3.4,!=0.3.5,!=0.3.6,!=0.3.7,!=0.3.8,!=0.3.9,<0.4.0,>=0.2.43->langchain-chroma) (24.2)\n",
      "Requirement already satisfied: pyproject_hooks in /home/nayereh/Documents/Courses/LLMs/.venv/lib/python3.10/site-packages (from build>=1.0.3->chromadb!=0.5.10,!=0.5.11,!=0.5.12,!=0.5.4,!=0.5.5,!=0.5.7,!=0.5.9,<0.7.0,>=0.4.0->langchain-chroma) (1.2.0)\n",
      "Requirement already satisfied: tomli>=1.1.0 in /home/nayereh/Documents/Courses/LLMs/.venv/lib/python3.10/site-packages (from build>=1.0.3->chromadb!=0.5.10,!=0.5.11,!=0.5.12,!=0.5.4,!=0.5.5,!=0.5.7,!=0.5.9,<0.7.0,>=0.4.0->langchain-chroma) (2.2.1)\n",
      "Requirement already satisfied: starlette<0.47.0,>=0.40.0 in /home/nayereh/Documents/Courses/LLMs/.venv/lib/python3.10/site-packages (from fastapi>=0.95.2->chromadb!=0.5.10,!=0.5.11,!=0.5.12,!=0.5.4,!=0.5.5,!=0.5.7,!=0.5.9,<0.7.0,>=0.4.0->langchain-chroma) (0.46.1)\n",
      "Requirement already satisfied: anyio in /home/nayereh/Documents/Courses/LLMs/.venv/lib/python3.10/site-packages (from httpx>=0.27.0->chromadb!=0.5.10,!=0.5.11,!=0.5.12,!=0.5.4,!=0.5.5,!=0.5.7,!=0.5.9,<0.7.0,>=0.4.0->langchain-chroma) (4.8.0)\n",
      "Requirement already satisfied: certifi in /home/nayereh/Documents/Courses/LLMs/.venv/lib/python3.10/site-packages (from httpx>=0.27.0->chromadb!=0.5.10,!=0.5.11,!=0.5.12,!=0.5.4,!=0.5.5,!=0.5.7,!=0.5.9,<0.7.0,>=0.4.0->langchain-chroma) (2025.1.31)\n",
      "Requirement already satisfied: httpcore==1.* in /home/nayereh/Documents/Courses/LLMs/.venv/lib/python3.10/site-packages (from httpx>=0.27.0->chromadb!=0.5.10,!=0.5.11,!=0.5.12,!=0.5.4,!=0.5.5,!=0.5.7,!=0.5.9,<0.7.0,>=0.4.0->langchain-chroma) (1.0.7)\n",
      "Requirement already satisfied: idna in /home/nayereh/Documents/Courses/LLMs/.venv/lib/python3.10/site-packages (from httpx>=0.27.0->chromadb!=0.5.10,!=0.5.11,!=0.5.12,!=0.5.4,!=0.5.5,!=0.5.7,!=0.5.9,<0.7.0,>=0.4.0->langchain-chroma) (3.10)\n",
      "Requirement already satisfied: h11<0.15,>=0.13 in /home/nayereh/Documents/Courses/LLMs/.venv/lib/python3.10/site-packages (from httpcore==1.*->httpx>=0.27.0->chromadb!=0.5.10,!=0.5.11,!=0.5.12,!=0.5.4,!=0.5.5,!=0.5.7,!=0.5.9,<0.7.0,>=0.4.0->langchain-chroma) (0.14.0)\n",
      "Requirement already satisfied: jsonpointer>=1.9 in /home/nayereh/Documents/Courses/LLMs/.venv/lib/python3.10/site-packages (from jsonpatch<2.0,>=1.33->langchain-core!=0.3.0,!=0.3.1,!=0.3.10,!=0.3.11,!=0.3.12,!=0.3.13,!=0.3.14,!=0.3.2,!=0.3.3,!=0.3.4,!=0.3.5,!=0.3.6,!=0.3.7,!=0.3.8,!=0.3.9,<0.4.0,>=0.2.43->langchain-chroma) (3.0.0)\n",
      "Requirement already satisfied: six>=1.9.0 in /home/nayereh/Documents/Courses/LLMs/.venv/lib/python3.10/site-packages (from kubernetes>=28.1.0->chromadb!=0.5.10,!=0.5.11,!=0.5.12,!=0.5.4,!=0.5.5,!=0.5.7,!=0.5.9,<0.7.0,>=0.4.0->langchain-chroma) (1.17.0)\n",
      "Requirement already satisfied: python-dateutil>=2.5.3 in /home/nayereh/Documents/Courses/LLMs/.venv/lib/python3.10/site-packages (from kubernetes>=28.1.0->chromadb!=0.5.10,!=0.5.11,!=0.5.12,!=0.5.4,!=0.5.5,!=0.5.7,!=0.5.9,<0.7.0,>=0.4.0->langchain-chroma) (2.9.0.post0)\n",
      "Requirement already satisfied: google-auth>=1.0.1 in /home/nayereh/Documents/Courses/LLMs/.venv/lib/python3.10/site-packages (from kubernetes>=28.1.0->chromadb!=0.5.10,!=0.5.11,!=0.5.12,!=0.5.4,!=0.5.5,!=0.5.7,!=0.5.9,<0.7.0,>=0.4.0->langchain-chroma) (2.38.0)\n",
      "Requirement already satisfied: websocket-client!=0.40.0,!=0.41.*,!=0.42.*,>=0.32.0 in /home/nayereh/Documents/Courses/LLMs/.venv/lib/python3.10/site-packages (from kubernetes>=28.1.0->chromadb!=0.5.10,!=0.5.11,!=0.5.12,!=0.5.4,!=0.5.5,!=0.5.7,!=0.5.9,<0.7.0,>=0.4.0->langchain-chroma) (1.8.0)\n",
      "Requirement already satisfied: requests in /home/nayereh/Documents/Courses/LLMs/.venv/lib/python3.10/site-packages (from kubernetes>=28.1.0->chromadb!=0.5.10,!=0.5.11,!=0.5.12,!=0.5.4,!=0.5.5,!=0.5.7,!=0.5.9,<0.7.0,>=0.4.0->langchain-chroma) (2.32.3)\n",
      "Requirement already satisfied: requests-oauthlib in /home/nayereh/Documents/Courses/LLMs/.venv/lib/python3.10/site-packages (from kubernetes>=28.1.0->chromadb!=0.5.10,!=0.5.11,!=0.5.12,!=0.5.4,!=0.5.5,!=0.5.7,!=0.5.9,<0.7.0,>=0.4.0->langchain-chroma) (2.0.0)\n",
      "Requirement already satisfied: oauthlib>=3.2.2 in /home/nayereh/Documents/Courses/LLMs/.venv/lib/python3.10/site-packages (from kubernetes>=28.1.0->chromadb!=0.5.10,!=0.5.11,!=0.5.12,!=0.5.4,!=0.5.5,!=0.5.7,!=0.5.9,<0.7.0,>=0.4.0->langchain-chroma) (3.2.2)\n",
      "Requirement already satisfied: urllib3>=1.24.2 in /home/nayereh/Documents/Courses/LLMs/.venv/lib/python3.10/site-packages (from kubernetes>=28.1.0->chromadb!=0.5.10,!=0.5.11,!=0.5.12,!=0.5.4,!=0.5.5,!=0.5.7,!=0.5.9,<0.7.0,>=0.4.0->langchain-chroma) (2.3.0)\n",
      "Requirement already satisfied: durationpy>=0.7 in /home/nayereh/Documents/Courses/LLMs/.venv/lib/python3.10/site-packages (from kubernetes>=28.1.0->chromadb!=0.5.10,!=0.5.11,!=0.5.12,!=0.5.4,!=0.5.5,!=0.5.7,!=0.5.9,<0.7.0,>=0.4.0->langchain-chroma) (0.9)\n",
      "Requirement already satisfied: requests-toolbelt<2.0.0,>=1.0.0 in /home/nayereh/Documents/Courses/LLMs/.venv/lib/python3.10/site-packages (from langsmith<0.2.0,>=0.1.112->langchain-core!=0.3.0,!=0.3.1,!=0.3.10,!=0.3.11,!=0.3.12,!=0.3.13,!=0.3.14,!=0.3.2,!=0.3.3,!=0.3.4,!=0.3.5,!=0.3.6,!=0.3.7,!=0.3.8,!=0.3.9,<0.4.0,>=0.2.43->langchain-chroma) (1.0.0)\n",
      "Requirement already satisfied: coloredlogs in /home/nayereh/Documents/Courses/LLMs/.venv/lib/python3.10/site-packages (from onnxruntime>=1.14.1->chromadb!=0.5.10,!=0.5.11,!=0.5.12,!=0.5.4,!=0.5.5,!=0.5.7,!=0.5.9,<0.7.0,>=0.4.0->langchain-chroma) (15.0.1)\n",
      "Requirement already satisfied: flatbuffers in /home/nayereh/Documents/Courses/LLMs/.venv/lib/python3.10/site-packages (from onnxruntime>=1.14.1->chromadb!=0.5.10,!=0.5.11,!=0.5.12,!=0.5.4,!=0.5.5,!=0.5.7,!=0.5.9,<0.7.0,>=0.4.0->langchain-chroma) (25.2.10)\n",
      "Requirement already satisfied: protobuf in /home/nayereh/Documents/Courses/LLMs/.venv/lib/python3.10/site-packages (from onnxruntime>=1.14.1->chromadb!=0.5.10,!=0.5.11,!=0.5.12,!=0.5.4,!=0.5.5,!=0.5.7,!=0.5.9,<0.7.0,>=0.4.0->langchain-chroma) (5.29.3)\n",
      "Requirement already satisfied: sympy in /home/nayereh/Documents/Courses/LLMs/.venv/lib/python3.10/site-packages (from onnxruntime>=1.14.1->chromadb!=0.5.10,!=0.5.11,!=0.5.12,!=0.5.4,!=0.5.5,!=0.5.7,!=0.5.9,<0.7.0,>=0.4.0->langchain-chroma) (1.13.1)\n",
      "Requirement already satisfied: deprecated>=1.2.6 in /home/nayereh/Documents/Courses/LLMs/.venv/lib/python3.10/site-packages (from opentelemetry-api>=1.2.0->chromadb!=0.5.10,!=0.5.11,!=0.5.12,!=0.5.4,!=0.5.5,!=0.5.7,!=0.5.9,<0.7.0,>=0.4.0->langchain-chroma) (1.2.18)\n",
      "Requirement already satisfied: importlib-metadata<8.7.0,>=6.0 in /home/nayereh/Documents/Courses/LLMs/.venv/lib/python3.10/site-packages (from opentelemetry-api>=1.2.0->chromadb!=0.5.10,!=0.5.11,!=0.5.12,!=0.5.4,!=0.5.5,!=0.5.7,!=0.5.9,<0.7.0,>=0.4.0->langchain-chroma) (8.6.1)\n",
      "Requirement already satisfied: googleapis-common-protos~=1.52 in /home/nayereh/Documents/Courses/LLMs/.venv/lib/python3.10/site-packages (from opentelemetry-exporter-otlp-proto-grpc>=1.2.0->chromadb!=0.5.10,!=0.5.11,!=0.5.12,!=0.5.4,!=0.5.5,!=0.5.7,!=0.5.9,<0.7.0,>=0.4.0->langchain-chroma) (1.69.2)\n",
      "Requirement already satisfied: opentelemetry-exporter-otlp-proto-common==1.31.0 in /home/nayereh/Documents/Courses/LLMs/.venv/lib/python3.10/site-packages (from opentelemetry-exporter-otlp-proto-grpc>=1.2.0->chromadb!=0.5.10,!=0.5.11,!=0.5.12,!=0.5.4,!=0.5.5,!=0.5.7,!=0.5.9,<0.7.0,>=0.4.0->langchain-chroma) (1.31.0)\n",
      "Requirement already satisfied: opentelemetry-proto==1.31.0 in /home/nayereh/Documents/Courses/LLMs/.venv/lib/python3.10/site-packages (from opentelemetry-exporter-otlp-proto-grpc>=1.2.0->chromadb!=0.5.10,!=0.5.11,!=0.5.12,!=0.5.4,!=0.5.5,!=0.5.7,!=0.5.9,<0.7.0,>=0.4.0->langchain-chroma) (1.31.0)\n",
      "Requirement already satisfied: opentelemetry-instrumentation-asgi==0.52b0 in /home/nayereh/Documents/Courses/LLMs/.venv/lib/python3.10/site-packages (from opentelemetry-instrumentation-fastapi>=0.41b0->chromadb!=0.5.10,!=0.5.11,!=0.5.12,!=0.5.4,!=0.5.5,!=0.5.7,!=0.5.9,<0.7.0,>=0.4.0->langchain-chroma) (0.52b0)\n",
      "Requirement already satisfied: opentelemetry-instrumentation==0.52b0 in /home/nayereh/Documents/Courses/LLMs/.venv/lib/python3.10/site-packages (from opentelemetry-instrumentation-fastapi>=0.41b0->chromadb!=0.5.10,!=0.5.11,!=0.5.12,!=0.5.4,!=0.5.5,!=0.5.7,!=0.5.9,<0.7.0,>=0.4.0->langchain-chroma) (0.52b0)\n",
      "Requirement already satisfied: opentelemetry-semantic-conventions==0.52b0 in /home/nayereh/Documents/Courses/LLMs/.venv/lib/python3.10/site-packages (from opentelemetry-instrumentation-fastapi>=0.41b0->chromadb!=0.5.10,!=0.5.11,!=0.5.12,!=0.5.4,!=0.5.5,!=0.5.7,!=0.5.9,<0.7.0,>=0.4.0->langchain-chroma) (0.52b0)\n",
      "Requirement already satisfied: opentelemetry-util-http==0.52b0 in /home/nayereh/Documents/Courses/LLMs/.venv/lib/python3.10/site-packages (from opentelemetry-instrumentation-fastapi>=0.41b0->chromadb!=0.5.10,!=0.5.11,!=0.5.12,!=0.5.4,!=0.5.5,!=0.5.7,!=0.5.9,<0.7.0,>=0.4.0->langchain-chroma) (0.52b0)\n",
      "Requirement already satisfied: wrapt<2.0.0,>=1.0.0 in /home/nayereh/Documents/Courses/LLMs/.venv/lib/python3.10/site-packages (from opentelemetry-instrumentation==0.52b0->opentelemetry-instrumentation-fastapi>=0.41b0->chromadb!=0.5.10,!=0.5.11,!=0.5.12,!=0.5.4,!=0.5.5,!=0.5.7,!=0.5.9,<0.7.0,>=0.4.0->langchain-chroma) (1.17.2)\n",
      "Requirement already satisfied: asgiref~=3.0 in /home/nayereh/Documents/Courses/LLMs/.venv/lib/python3.10/site-packages (from opentelemetry-instrumentation-asgi==0.52b0->opentelemetry-instrumentation-fastapi>=0.41b0->chromadb!=0.5.10,!=0.5.11,!=0.5.12,!=0.5.4,!=0.5.5,!=0.5.7,!=0.5.9,<0.7.0,>=0.4.0->langchain-chroma) (3.8.1)\n",
      "Requirement already satisfied: monotonic>=1.5 in /home/nayereh/Documents/Courses/LLMs/.venv/lib/python3.10/site-packages (from posthog>=2.4.0->chromadb!=0.5.10,!=0.5.11,!=0.5.12,!=0.5.4,!=0.5.5,!=0.5.7,!=0.5.9,<0.7.0,>=0.4.0->langchain-chroma) (1.6)\n",
      "Requirement already satisfied: backoff>=1.10.0 in /home/nayereh/Documents/Courses/LLMs/.venv/lib/python3.10/site-packages (from posthog>=2.4.0->chromadb!=0.5.10,!=0.5.11,!=0.5.12,!=0.5.4,!=0.5.5,!=0.5.7,!=0.5.9,<0.7.0,>=0.4.0->langchain-chroma) (2.2.1)\n",
      "Requirement already satisfied: distro>=1.5.0 in /home/nayereh/Documents/Courses/LLMs/.venv/lib/python3.10/site-packages (from posthog>=2.4.0->chromadb!=0.5.10,!=0.5.11,!=0.5.12,!=0.5.4,!=0.5.5,!=0.5.7,!=0.5.9,<0.7.0,>=0.4.0->langchain-chroma) (1.9.0)\n",
      "Requirement already satisfied: annotated-types>=0.6.0 in /home/nayereh/Documents/Courses/LLMs/.venv/lib/python3.10/site-packages (from pydantic>=1.9->chromadb!=0.5.10,!=0.5.11,!=0.5.12,!=0.5.4,!=0.5.5,!=0.5.7,!=0.5.9,<0.7.0,>=0.4.0->langchain-chroma) (0.7.0)\n",
      "Requirement already satisfied: pydantic-core==2.27.2 in /home/nayereh/Documents/Courses/LLMs/.venv/lib/python3.10/site-packages (from pydantic>=1.9->chromadb!=0.5.10,!=0.5.11,!=0.5.12,!=0.5.4,!=0.5.5,!=0.5.7,!=0.5.9,<0.7.0,>=0.4.0->langchain-chroma) (2.27.2)\n",
      "Requirement already satisfied: markdown-it-py>=2.2.0 in /home/nayereh/Documents/Courses/LLMs/.venv/lib/python3.10/site-packages (from rich>=10.11.0->chromadb!=0.5.10,!=0.5.11,!=0.5.12,!=0.5.4,!=0.5.5,!=0.5.7,!=0.5.9,<0.7.0,>=0.4.0->langchain-chroma) (3.0.0)\n",
      "Requirement already satisfied: pygments<3.0.0,>=2.13.0 in /home/nayereh/Documents/Courses/LLMs/.venv/lib/python3.10/site-packages (from rich>=10.11.0->chromadb!=0.5.10,!=0.5.11,!=0.5.12,!=0.5.4,!=0.5.5,!=0.5.7,!=0.5.9,<0.7.0,>=0.4.0->langchain-chroma) (2.19.1)\n",
      "Requirement already satisfied: huggingface-hub<1.0,>=0.16.4 in /home/nayereh/Documents/Courses/LLMs/.venv/lib/python3.10/site-packages (from tokenizers>=0.13.2->chromadb!=0.5.10,!=0.5.11,!=0.5.12,!=0.5.4,!=0.5.5,!=0.5.7,!=0.5.9,<0.7.0,>=0.4.0->langchain-chroma) (0.29.2)\n",
      "Requirement already satisfied: click>=8.0.0 in /home/nayereh/Documents/Courses/LLMs/.venv/lib/python3.10/site-packages (from typer>=0.9.0->chromadb!=0.5.10,!=0.5.11,!=0.5.12,!=0.5.4,!=0.5.5,!=0.5.7,!=0.5.9,<0.7.0,>=0.4.0->langchain-chroma) (8.1.8)\n",
      "Requirement already satisfied: shellingham>=1.3.0 in /home/nayereh/Documents/Courses/LLMs/.venv/lib/python3.10/site-packages (from typer>=0.9.0->chromadb!=0.5.10,!=0.5.11,!=0.5.12,!=0.5.4,!=0.5.5,!=0.5.7,!=0.5.9,<0.7.0,>=0.4.0->langchain-chroma) (1.5.4)\n",
      "Requirement already satisfied: httptools>=0.6.3 in /home/nayereh/Documents/Courses/LLMs/.venv/lib/python3.10/site-packages (from uvicorn[standard]>=0.18.3->chromadb!=0.5.10,!=0.5.11,!=0.5.12,!=0.5.4,!=0.5.5,!=0.5.7,!=0.5.9,<0.7.0,>=0.4.0->langchain-chroma) (0.6.4)\n",
      "Requirement already satisfied: python-dotenv>=0.13 in /home/nayereh/Documents/Courses/LLMs/.venv/lib/python3.10/site-packages (from uvicorn[standard]>=0.18.3->chromadb!=0.5.10,!=0.5.11,!=0.5.12,!=0.5.4,!=0.5.5,!=0.5.7,!=0.5.9,<0.7.0,>=0.4.0->langchain-chroma) (1.0.1)\n",
      "Requirement already satisfied: uvloop!=0.15.0,!=0.15.1,>=0.14.0 in /home/nayereh/Documents/Courses/LLMs/.venv/lib/python3.10/site-packages (from uvicorn[standard]>=0.18.3->chromadb!=0.5.10,!=0.5.11,!=0.5.12,!=0.5.4,!=0.5.5,!=0.5.7,!=0.5.9,<0.7.0,>=0.4.0->langchain-chroma) (0.21.0)\n",
      "Requirement already satisfied: watchfiles>=0.13 in /home/nayereh/Documents/Courses/LLMs/.venv/lib/python3.10/site-packages (from uvicorn[standard]>=0.18.3->chromadb!=0.5.10,!=0.5.11,!=0.5.12,!=0.5.4,!=0.5.5,!=0.5.7,!=0.5.9,<0.7.0,>=0.4.0->langchain-chroma) (1.0.4)\n",
      "Requirement already satisfied: websockets>=10.4 in /home/nayereh/Documents/Courses/LLMs/.venv/lib/python3.10/site-packages (from uvicorn[standard]>=0.18.3->chromadb!=0.5.10,!=0.5.11,!=0.5.12,!=0.5.4,!=0.5.5,!=0.5.7,!=0.5.9,<0.7.0,>=0.4.0->langchain-chroma) (15.0.1)\n",
      "Requirement already satisfied: cachetools<6.0,>=2.0.0 in /home/nayereh/Documents/Courses/LLMs/.venv/lib/python3.10/site-packages (from google-auth>=1.0.1->kubernetes>=28.1.0->chromadb!=0.5.10,!=0.5.11,!=0.5.12,!=0.5.4,!=0.5.5,!=0.5.7,!=0.5.9,<0.7.0,>=0.4.0->langchain-chroma) (5.5.2)\n",
      "Requirement already satisfied: pyasn1-modules>=0.2.1 in /home/nayereh/Documents/Courses/LLMs/.venv/lib/python3.10/site-packages (from google-auth>=1.0.1->kubernetes>=28.1.0->chromadb!=0.5.10,!=0.5.11,!=0.5.12,!=0.5.4,!=0.5.5,!=0.5.7,!=0.5.9,<0.7.0,>=0.4.0->langchain-chroma) (0.4.1)\n",
      "Requirement already satisfied: rsa<5,>=3.1.4 in /home/nayereh/Documents/Courses/LLMs/.venv/lib/python3.10/site-packages (from google-auth>=1.0.1->kubernetes>=28.1.0->chromadb!=0.5.10,!=0.5.11,!=0.5.12,!=0.5.4,!=0.5.5,!=0.5.7,!=0.5.9,<0.7.0,>=0.4.0->langchain-chroma) (4.9)\n",
      "Requirement already satisfied: filelock in /home/nayereh/Documents/Courses/LLMs/.venv/lib/python3.10/site-packages (from huggingface-hub<1.0,>=0.16.4->tokenizers>=0.13.2->chromadb!=0.5.10,!=0.5.11,!=0.5.12,!=0.5.4,!=0.5.5,!=0.5.7,!=0.5.9,<0.7.0,>=0.4.0->langchain-chroma) (3.17.0)\n",
      "Requirement already satisfied: fsspec>=2023.5.0 in /home/nayereh/Documents/Courses/LLMs/.venv/lib/python3.10/site-packages (from huggingface-hub<1.0,>=0.16.4->tokenizers>=0.13.2->chromadb!=0.5.10,!=0.5.11,!=0.5.12,!=0.5.4,!=0.5.5,!=0.5.7,!=0.5.9,<0.7.0,>=0.4.0->langchain-chroma) (2025.3.0)\n",
      "Requirement already satisfied: zipp>=3.20 in /home/nayereh/Documents/Courses/LLMs/.venv/lib/python3.10/site-packages (from importlib-metadata<8.7.0,>=6.0->opentelemetry-api>=1.2.0->chromadb!=0.5.10,!=0.5.11,!=0.5.12,!=0.5.4,!=0.5.5,!=0.5.7,!=0.5.9,<0.7.0,>=0.4.0->langchain-chroma) (3.21.0)\n",
      "Requirement already satisfied: mdurl~=0.1 in /home/nayereh/Documents/Courses/LLMs/.venv/lib/python3.10/site-packages (from markdown-it-py>=2.2.0->rich>=10.11.0->chromadb!=0.5.10,!=0.5.11,!=0.5.12,!=0.5.4,!=0.5.5,!=0.5.7,!=0.5.9,<0.7.0,>=0.4.0->langchain-chroma) (0.1.2)\n",
      "Requirement already satisfied: charset-normalizer<4,>=2 in /home/nayereh/Documents/Courses/LLMs/.venv/lib/python3.10/site-packages (from requests->kubernetes>=28.1.0->chromadb!=0.5.10,!=0.5.11,!=0.5.12,!=0.5.4,!=0.5.5,!=0.5.7,!=0.5.9,<0.7.0,>=0.4.0->langchain-chroma) (3.4.1)\n",
      "Requirement already satisfied: exceptiongroup>=1.0.2 in /home/nayereh/Documents/Courses/LLMs/.venv/lib/python3.10/site-packages (from anyio->httpx>=0.27.0->chromadb!=0.5.10,!=0.5.11,!=0.5.12,!=0.5.4,!=0.5.5,!=0.5.7,!=0.5.9,<0.7.0,>=0.4.0->langchain-chroma) (1.2.2)\n",
      "Requirement already satisfied: sniffio>=1.1 in /home/nayereh/Documents/Courses/LLMs/.venv/lib/python3.10/site-packages (from anyio->httpx>=0.27.0->chromadb!=0.5.10,!=0.5.11,!=0.5.12,!=0.5.4,!=0.5.5,!=0.5.7,!=0.5.9,<0.7.0,>=0.4.0->langchain-chroma) (1.3.1)\n",
      "Requirement already satisfied: humanfriendly>=9.1 in /home/nayereh/Documents/Courses/LLMs/.venv/lib/python3.10/site-packages (from coloredlogs->onnxruntime>=1.14.1->chromadb!=0.5.10,!=0.5.11,!=0.5.12,!=0.5.4,!=0.5.5,!=0.5.7,!=0.5.9,<0.7.0,>=0.4.0->langchain-chroma) (10.0)\n",
      "Requirement already satisfied: mpmath<1.4,>=1.1.0 in /home/nayereh/Documents/Courses/LLMs/.venv/lib/python3.10/site-packages (from sympy->onnxruntime>=1.14.1->chromadb!=0.5.10,!=0.5.11,!=0.5.12,!=0.5.4,!=0.5.5,!=0.5.7,!=0.5.9,<0.7.0,>=0.4.0->langchain-chroma) (1.3.0)\n",
      "Requirement already satisfied: pyasn1<0.7.0,>=0.4.6 in /home/nayereh/Documents/Courses/LLMs/.venv/lib/python3.10/site-packages (from pyasn1-modules>=0.2.1->google-auth>=1.0.1->kubernetes>=28.1.0->chromadb!=0.5.10,!=0.5.11,!=0.5.12,!=0.5.4,!=0.5.5,!=0.5.7,!=0.5.9,<0.7.0,>=0.4.0->langchain-chroma) (0.6.1)\n"
     ]
    }
   ],
   "source": [
    "!pip install langchain-chroma"
   ]
  },
  {
   "cell_type": "code",
   "execution_count": 12,
   "metadata": {},
   "outputs": [],
   "source": [
    "from langchain_chroma import Chroma\n",
    "\n",
    "vectorStore = Chroma.from_documents(\n",
    "    documents = splitted_docs,\n",
    "    embedding=embeddings,\n",
    "    collection_name = \"lord_of_the_rings\", # The name of the collection\n",
    "    persist_directory = \"./collections\", # Where to save the collection\n",
    ")"
   ]
  },
  {
   "cell_type": "code",
   "execution_count": 13,
   "metadata": {},
   "outputs": [
    {
     "name": "stdout",
     "output_type": "stream",
     "text": [
      "Total number of documents in the collection: 132\n"
     ]
    }
   ],
   "source": [
    "print(f\"Total number of documents in the collection: {vectorStore._collection.count()}\")"
   ]
  },
  {
   "cell_type": "markdown",
   "metadata": {},
   "source": [
    "## Load from the collection of vectorstore"
   ]
  },
  {
   "cell_type": "code",
   "execution_count": 6,
   "metadata": {},
   "outputs": [
    {
     "name": "stdout",
     "output_type": "stream",
     "text": [
      "Total number of documents in the collection: 132\n"
     ]
    }
   ],
   "source": [
    "from langchain_chroma import Chroma\n",
    "\n",
    "vectorStore = Chroma(\n",
    "    embedding_function=embeddings,\n",
    "    collection_name = \"lord_of_the_rings\",\n",
    "    persist_directory = \"./collections\",\n",
    ")\n",
    "print(f\"Total number of documents in the collection: {vectorStore._collection.count()}\")"
   ]
  },
  {
   "cell_type": "code",
   "execution_count": 7,
   "metadata": {},
   "outputs": [
    {
     "name": "stdout",
     "output_type": "stream",
     "text": [
      "ارباب حلقه‌ها: بازگشت پادشاه\n",
      "بر پایهٔ جلد سوم ارباب حلقه‌ها نوشتهٔ جی. آر. آر. تالکین به نگارش درآورده‌اند و پس از یاران حلقه (۲۰۰۱) و ارباب حلقه‌ها (۲۰۰۲) آخرین قسمت از سه‌گانهٔ ارباب حلقه‌ها به‌شمار می‌رود. بازگشت پادشاه دنبالهٔ داستان دو برج است و در آن فرودو، سم و گالوم راهی کوه\n",
      "----------------------------------------------------------------------------------------------------\n",
      "\n",
      "\n",
      "ارباب حلقه‌ها: بازگشت پادشاه\n",
      "ارباب حلقه‌ها: بازگشت پادشاه (انگلیسی: The Lord of the Rings: The Return of the King) یک فیلم ماجراجویی فانتزی حماسی به کارگردانی پیتر جکسون است که در سال ۲۰۰۳ منتشر شد. فیلم‌نامهٔ فیلم را فرن والش، فیلیپا بوینس و جکسون بر پایهٔ جلد سوم ارباب حلقه‌ها\n",
      "----------------------------------------------------------------------------------------------------\n",
      "\n",
      "\n",
      "ارباب حلقه‌ها: بازگشت پادشاه\n",
      "را که برای آن‌ها نامزد شده بود، از جمله جایزهٔ بهترین فیلم را کسب کرد. همچنین پس از سه‌گانهٔ اصلی جنگ ستارگان، دومین مجموعه فیلمی بود که همه آثارش برندهٔ جایزهٔ اسکار بهترین جلوه‌های تصویری شدند.\n",
      "----------------------------------------------------------------------------------------------------\n",
      "\n",
      "\n"
     ]
    }
   ],
   "source": [
    "query = 'ارباب حلقه‌های سوم چند جایزه‌ی گلدن گلوب برنده شد؟'\n",
    "\n",
    "results = vectorStore.similarity_search(query,\n",
    "                                        k=3,\n",
    "                                        filter = {'title': 'ارباب حلقه‌ها: بازگشت پادشاه'})\n",
    "\n",
    "for res in results:\n",
    "    print(res.metadata[\"title\"])\n",
    "    print(res.page_content)\n",
    "    print('-'*100)\n",
    "    print(\"\\n\")"
   ]
  },
  {
   "cell_type": "code",
   "execution_count": 18,
   "metadata": {},
   "outputs": [
    {
     "name": "stdout",
     "output_type": "stream",
     "text": [
      "Document Title: ارباب حلقه‌ها: بازگشت پادشاه\n",
      "Document Content: ارباب حلقه‌ها: بازگشت پادشاه (انگلیسی: The Lord of the Rings: The Return of the King) یک فیلم ماجراجویی فانتزی حماسی به کارگردانی پیتر جکسون است که در سال ۲۰۰۳ منتشر شد. فیلم‌نامهٔ فیلم را فرن والش، فیلیپا بوینس و جکسون بر پایهٔ جلد سوم ارباب حلقه‌ها\n",
      "----------------------------------------------------------------------------------------------------\n",
      "Document Title: ارباب حلقه‌ها: بازگشت پادشاه\n",
      "Document Content: را که برای آن‌ها نامزد شده بود، از جمله جایزهٔ بهترین فیلم را کسب کرد. همچنین پس از سه‌گانهٔ اصلی جنگ ستارگان، دومین مجموعه فیلمی بود که همه آثارش برندهٔ جایزهٔ اسکار بهترین جلوه‌های تصویری شدند.\n",
      "----------------------------------------------------------------------------------------------------\n",
      "Document Title: ارباب حلقه‌ها: بازگشت پادشاه\n",
      "Document Content: مانند دیگر فیلم‌های این سه‌گانه، بازگشت پادشاه به‌طور گسترده‌ای به عنوان یکی از برترین و تاثیرگذارترین فیلم‌های ساخته شده شناخته می‌شود. این فیلم افتخارات متعددی دریافت کرد. در هفتاد و ششمین دوره جوایز اسکار تمام یازده جایزه‌ای را که برای آن‌ها نامزد شده\n",
      "----------------------------------------------------------------------------------------------------\n"
     ]
    }
   ],
   "source": [
    "## Test english query\n",
    "query = 'How many Golden Globe awards did the third Lord of the Rings film win?'\n",
    "\n",
    "results = vectorStore.similarity_search(query, k = 3,\n",
    "                                         filter = {'title': 'ارباب حلقه‌ها: بازگشت پادشاه'})\n",
    "\n",
    "for result in results:\n",
    "    print('Document Title:', result.metadata['title'])\n",
    "    print('Document Content:', result.page_content)\n",
    "    print('-'*100)\n"
   ]
  },
  {
   "cell_type": "markdown",
   "metadata": {},
   "source": [
    "## Return similarity score\n",
    "\n",
    "- Default score is euclidean distance\n",
    "- so, the less score, the less distance, the higher similarity"
   ]
  },
  {
   "cell_type": "code",
   "execution_count": 8,
   "metadata": {},
   "outputs": [
    {
     "name": "stdout",
     "output_type": "stream",
     "text": [
      "Document Title: ارباب حلقه‌ها: بازگشت پادشاه\n",
      "Document Content: بر پایهٔ جلد سوم ارباب حلقه‌ها نوشتهٔ جی. آر. آر. تالکین به نگارش درآورده‌اند و پس از یاران حلقه (۲۰۰۱) و ارباب حلقه‌ها (۲۰۰۲) آخرین قسمت از سه‌گانهٔ ارباب حلقه‌ها به‌شمار می‌رود. بازگشت پادشاه دنبالهٔ داستان دو برج است و در آن فرودو، سم و گالوم راهی کوه\n",
      "Score: 0.8173982501029968\n",
      "----------------------------------------------------------------------------------------------------\n",
      "Document Title: ارباب حلقه‌ها: بازگشت پادشاه\n",
      "Document Content: ارباب حلقه‌ها: بازگشت پادشاه (انگلیسی: The Lord of the Rings: The Return of the King) یک فیلم ماجراجویی فانتزی حماسی به کارگردانی پیتر جکسون است که در سال ۲۰۰۳ منتشر شد. فیلم‌نامهٔ فیلم را فرن والش، فیلیپا بوینس و جکسون بر پایهٔ جلد سوم ارباب حلقه‌ها\n",
      "Score: 0.9185944199562073\n",
      "----------------------------------------------------------------------------------------------------\n",
      "Document Title: ارباب حلقه‌ها: بازگشت پادشاه\n",
      "Document Content: را که برای آن‌ها نامزد شده بود، از جمله جایزهٔ بهترین فیلم را کسب کرد. همچنین پس از سه‌گانهٔ اصلی جنگ ستارگان، دومین مجموعه فیلمی بود که همه آثارش برندهٔ جایزهٔ اسکار بهترین جلوه‌های تصویری شدند.\n",
      "Score: 0.9672887325286865\n",
      "----------------------------------------------------------------------------------------------------\n"
     ]
    }
   ],
   "source": [
    "results = vectorStore.similarity_search_with_score(\n",
    "    query,\n",
    "    k=3,\n",
    "    filter = {'title': 'ارباب حلقه‌ها: بازگشت پادشاه'},\n",
    ")\n",
    "for result, score in results:\n",
    "    print('Document Title:', result.metadata['title'])\n",
    "    print('Document Content:', result.page_content)\n",
    "    print('Score:', score)\n",
    "    print('-'*100)"
   ]
  },
  {
   "cell_type": "markdown",
   "metadata": {},
   "source": [
    "## Cosine similarity\n",
    "\n",
    "- score range is (0,1)"
   ]
  },
  {
   "cell_type": "code",
   "execution_count": 21,
   "metadata": {},
   "outputs": [],
   "source": [
    "cosine_vectorStore = Chroma.from_documents(\n",
    "    documents = splitted_docs,\n",
    "    embedding=embeddings,\n",
    "    collection_name = \"lord_of_the_rings_cosine\",\n",
    "    persist_directory = \"./collections\",\n",
    "    collection_metadata={\"hnsw:space\": \"cosine\"}\n",
    ")"
   ]
  },
  {
   "cell_type": "code",
   "execution_count": 22,
   "metadata": {},
   "outputs": [
    {
     "name": "stdout",
     "output_type": "stream",
     "text": [
      "Document Title: ارباب حلقه‌ها: بازگشت پادشاه\n",
      "Document Content: ارباب حلقه‌ها: بازگشت پادشاه (انگلیسی: The Lord of the Rings: The Return of the King) یک فیلم ماجراجویی فانتزی حماسی به کارگردانی پیتر جکسون است که در سال ۲۰۰۳ منتشر شد. فیلم‌نامهٔ فیلم را فرن والش، فیلیپا بوینس و جکسون بر پایهٔ جلد سوم ارباب حلقه‌ها\n",
      "Score: 0.5819506645202637\n",
      "----------------------------------------------------------------------------------------------------\n",
      "Document Title: ارباب حلقه‌ها: بازگشت پادشاه\n",
      "Document Content: را که برای آن‌ها نامزد شده بود، از جمله جایزهٔ بهترین فیلم را کسب کرد. همچنین پس از سه‌گانهٔ اصلی جنگ ستارگان، دومین مجموعه فیلمی بود که همه آثارش برندهٔ جایزهٔ اسکار بهترین جلوه‌های تصویری شدند.\n",
      "Score: 0.5909125804901123\n",
      "----------------------------------------------------------------------------------------------------\n",
      "Document Title: ارباب حلقه‌ها: بازگشت پادشاه\n",
      "Document Content: مانند دیگر فیلم‌های این سه‌گانه، بازگشت پادشاه به‌طور گسترده‌ای به عنوان یکی از برترین و تاثیرگذارترین فیلم‌های ساخته شده شناخته می‌شود. این فیلم افتخارات متعددی دریافت کرد. در هفتاد و ششمین دوره جوایز اسکار تمام یازده جایزه‌ای را که برای آن‌ها نامزد شده\n",
      "Score: 0.5984274744987488\n",
      "----------------------------------------------------------------------------------------------------\n"
     ]
    }
   ],
   "source": [
    "results = cosine_vectorStore.similarity_search_with_score(query,\n",
    "                                         k=3,\n",
    "                                         filter = {'title': 'ارباب حلقه‌ها: بازگشت پادشاه'})\n",
    "\n",
    "for res, score in results:\n",
    "    print('Document Title:', res.metadata['title'])\n",
    "    print('Document Content:', res.page_content)\n",
    "    print('Score:', score)\n",
    "    print('-'*100)"
   ]
  },
  {
   "cell_type": "markdown",
   "metadata": {},
   "source": [
    "## 0-1 score"
   ]
  },
  {
   "cell_type": "code",
   "execution_count": 23,
   "metadata": {},
   "outputs": [
    {
     "name": "stdout",
     "output_type": "stream",
     "text": [
      "Relevance Score: 0.42201215442215345\n",
      "Document Title: ارباب حلقه‌ها: بازگشت پادشاه\n",
      "Document Content: بر پایهٔ جلد سوم ارباب حلقه‌ها نوشتهٔ جی. آر. آر. تالکین به نگارش درآورده‌اند و پس از یاران حلقه (۲۰۰۱) و ارباب حلقه‌ها (۲۰۰۲) آخرین قسمت از سه‌گانهٔ ارباب حلقه‌ها به‌شمار می‌رود. بازگشت پادشاه دنبالهٔ داستان دو برج است و در آن فرودو، سم و گالوم راهی کوه\n",
      "----------------------------------------------------------------------------------------------------\n",
      "Relevance Score: 0.3504556564888427\n",
      "Document Title: ارباب حلقه‌ها: بازگشت پادشاه\n",
      "Document Content: ارباب حلقه‌ها: بازگشت پادشاه (انگلیسی: The Lord of the Rings: The Return of the King) یک فیلم ماجراجویی فانتزی حماسی به کارگردانی پیتر جکسون است که در سال ۲۰۰۳ منتشر شد. فیلم‌نامهٔ فیلم را فرن والش، فیلیپا بوینس و جکسون بر پایهٔ جلد سوم ارباب حلقه‌ها\n",
      "----------------------------------------------------------------------------------------------------\n",
      "Relevance Score: 0.3160235778636252\n",
      "Document Title: ارباب حلقه‌ها: بازگشت پادشاه\n",
      "Document Content: را که برای آن‌ها نامزد شده بود، از جمله جایزهٔ بهترین فیلم را کسب کرد. همچنین پس از سه‌گانهٔ اصلی جنگ ستارگان، دومین مجموعه فیلمی بود که همه آثارش برندهٔ جایزهٔ اسکار بهترین جلوه‌های تصویری شدند.\n",
      "----------------------------------------------------------------------------------------------------\n"
     ]
    }
   ],
   "source": [
    "query = 'ارباب حلقه‌های سوم چند جایزه‌ی گلدن گلوب برنده شد؟'\n",
    "\n",
    "results = vectorStore.similarity_search_with_relevance_scores(query,\n",
    "                                                              k = 3,\n",
    "                                                              filter = {'title': 'ارباب حلقه‌ها: بازگشت پادشاه'})\n",
    "\n",
    "for result in results:\n",
    "    doc = result[0]\n",
    "    score = result[1]\n",
    "    print('Relevance Score:', score)\n",
    "    print('Document Title:', doc.metadata['title'])\n",
    "    print('Document Content:', doc.page_content)\n",
    "    print('-'*100)"
   ]
  },
  {
   "cell_type": "code",
   "execution_count": null,
   "metadata": {},
   "outputs": [],
   "source": []
  }
 ],
 "metadata": {
  "kernelspec": {
   "display_name": ".venv",
   "language": "python",
   "name": "python3"
  },
  "language_info": {
   "codemirror_mode": {
    "name": "ipython",
    "version": 3
   },
   "file_extension": ".py",
   "mimetype": "text/x-python",
   "name": "python",
   "nbconvert_exporter": "python",
   "pygments_lexer": "ipython3",
   "version": "3.10.12"
  }
 },
 "nbformat": 4,
 "nbformat_minor": 2
}
