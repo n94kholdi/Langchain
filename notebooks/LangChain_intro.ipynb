{
 "cells": [
  {
   "cell_type": "markdown",
   "metadata": {},
   "source": [
    "# Intro"
   ]
  },
  {
   "cell_type": "markdown",
   "metadata": {},
   "source": [
    "## Get API key"
   ]
  },
  {
   "cell_type": "code",
   "execution_count": null,
   "metadata": {},
   "outputs": [],
   "source": [
    "import os\n",
    "import getpass\n",
    "\n",
    "# Set the environment variable\n",
    "os.environ[\"COHERE_API_KEY\"] = getpass.getpass(\"Enter your Cohere API key: \")"
   ]
  },
  {
   "cell_type": "code",
   "execution_count": 15,
   "metadata": {},
   "outputs": [
    {
     "name": "stdout",
     "output_type": "stream",
     "text": [
      "nt9wg84wNjGfVEwC9ysQuAVdEJlT9bDYjtMeMA8g\n"
     ]
    }
   ],
   "source": [
    "cohere_api_key = os.environ[\"COHERE_API_KEY\"]\n",
    "print(cohere_api_key)"
   ]
  },
  {
   "cell_type": "code",
   "execution_count": 30,
   "metadata": {},
   "outputs": [],
   "source": [
    "os.environ[\"OPENAI_API_KEY\"] = getpass.getpass(\"Enter openai api key: \")"
   ]
  },
  {
   "cell_type": "markdown",
   "metadata": {},
   "source": [
    "## load Cohere model "
   ]
  },
  {
   "cell_type": "code",
   "execution_count": null,
   "metadata": {},
   "outputs": [],
   "source": [
    "from langchain_cohere.llms import Cohere\n",
    "\n",
    "# model = Cohere(temperature=0.1)\n",
    "model = Cohere(cohere_api_key=cohere_api_key, model=\"command\", temperature=0.1)"
   ]
  },
  {
   "cell_type": "code",
   "execution_count": 69,
   "metadata": {},
   "outputs": [],
   "source": [
    "from langchain_cohere import ChatCohere\n",
    "\n",
    "chat = ChatCohere(cohere_api_key=cohere_api_key, model=\"command-r-plus\", temperature=0.1)"
   ]
  },
  {
   "cell_type": "markdown",
   "metadata": {},
   "source": [
    "## load openai model"
   ]
  },
  {
   "cell_type": "code",
   "execution_count": 31,
   "metadata": {},
   "outputs": [],
   "source": [
    "from langchain_openai import OpenAI \n",
    "\n",
    "model_aopenai = OpenAI()"
   ]
  },
  {
   "cell_type": "markdown",
   "metadata": {},
   "source": [
    "## invoke"
   ]
  },
  {
   "cell_type": "code",
   "execution_count": 70,
   "metadata": {},
   "outputs": [
    {
     "name": "stdout",
     "output_type": "stream",
     "text": [
      "¡Hola!\n"
     ]
    }
   ],
   "source": [
    "\n",
    "message = \"سلام به اسپانیایی چی میشه؟\"\n",
    "\n",
    "response = chat.invoke(message)\n",
    "\n",
    "print(response.content)"
   ]
  },
  {
   "cell_type": "code",
   "execution_count": 29,
   "metadata": {},
   "outputs": [
    {
     "name": "stdout",
     "output_type": "stream",
     "text": [
      "ترجمه کلمه \"دانشگاه\" به آلمانی \"Universität\" است.\n"
     ]
    }
   ],
   "source": [
    "message = \"ترجمه‌ی کلمه‌ی «دانشگاه» به آلمانی چی میشه؟\"\n",
    "# response = model.invoke(message)\n",
    "print(response.content)"
   ]
  },
  {
   "cell_type": "code",
   "execution_count": null,
   "metadata": {},
   "outputs": [],
   "source": [
    "message = \"ترجمه‌ی کلمه‌ی «دانشگاه» به آلمانی چی میشه؟\"\n",
    "response = model_aopenai.invoke(message)\n",
    "print(response.content)"
   ]
  },
  {
   "cell_type": "markdown",
   "metadata": {},
   "source": [
    "## Human & System message"
   ]
  },
  {
   "cell_type": "code",
   "execution_count": 71,
   "metadata": {},
   "outputs": [],
   "source": [
    "from langchain_core.messages import HumanMessage, SystemMessage\n",
    "\n",
    "messages = [\n",
    "    SystemMessage(\n",
    "        content = \"تو یک معلم زبان اسپانیایی هستی. پاسخ‌های دانش‌آموز را به صورت خلاصه و با یک مثال کوتاه و عامیانه بده \"\n",
    "    ),\n",
    "    HumanMessage(\n",
    "        content=\"سلام به اسپانیایی چی میشه؟\"\n",
    "    )\n",
    "]\n",
    "\n",
    "response = chat.invoke(messages)"
   ]
  },
  {
   "cell_type": "code",
   "execution_count": 72,
   "metadata": {},
   "outputs": [
    {
     "name": "stdout",
     "output_type": "stream",
     "text": [
      "{'input_tokens': 199.0, 'output_tokens': 65.0}\n"
     ]
    }
   ],
   "source": [
    "print(response.additional_kwargs['token_count'])"
   ]
  },
  {
   "cell_type": "markdown",
   "metadata": {},
   "source": [
    "## Batch Processing"
   ]
  },
  {
   "cell_type": "code",
   "execution_count": 80,
   "metadata": {},
   "outputs": [],
   "source": [
    "from langchain_core.messages import HumanMessage, SystemMessage\n",
    "\n",
    "system = SystemMessage(\n",
    "    content=\"تو یک معلم زبان اسپانیایی هستی. پاسخ‌های دانش‌آموز را به صورت خلاصه و با یک مثال کوتاه و عامیانه بده \"\n",
    ")\n",
    "\n",
    "messages = [\n",
    "    [system, HumanMessage(\n",
    "        content=\"سلام به اسپانیایی چی میشه؟\"\n",
    "    )],\n",
    "    [system, HumanMessage(\n",
    "        content=\"چطور به اسپانیایی بگم من در شیراز متولد شدم؟\"\n",
    "    )]\n",
    "] \n",
    "\n",
    "responses = chat.batch(messages)"
   ]
  },
  {
   "cell_type": "code",
   "execution_count": 78,
   "metadata": {},
   "outputs": [
    {
     "name": "stdout",
     "output_type": "stream",
     "text": [
      "سلام در اسپانیایی \"hola\" (هولا) گفته می‌شود. مثلاً وقتی وارد یک اتاق می‌شوید و می‌خواهید به همه سلام کنید، می‌گویید: \"¡Hola a todos!\" (هولا آ تودوس!) که معنی آن \"سلام به همه!\" است.\n",
      "شما می‌توانید بگویید:\n",
      "\n",
      "\"Nací en Teherán.\"\n",
      "\n",
      "مثال:\n",
      "\n",
      "من در تهران متولد شدم. = \"Nací en Teherán.\"\n"
     ]
    }
   ],
   "source": [
    "for response in responses:\n",
    "    print(response.content)"
   ]
  },
  {
   "cell_type": "markdown",
   "metadata": {},
   "source": [
    "## Better view - markdown"
   ]
  },
  {
   "cell_type": "code",
   "execution_count": 47,
   "metadata": {},
   "outputs": [],
   "source": [
    "import markdown\n",
    "from IPython.display import HTML, display\n",
    "\n",
    "def print_md(input):\n",
    "    input = markdown.markdown(input)\n",
    "    content = \"<div div=rtl>{}</div>\".format(input)\n",
    "\n",
    "    display(HTML(content))"
   ]
  },
  {
   "cell_type": "code",
   "execution_count": null,
   "metadata": {},
   "outputs": [],
   "source": [
    "for response in responses:\n",
    "    print_md(response.content)\n",
    "    print('*'*70)"
   ]
  },
  {
   "cell_type": "code",
   "execution_count": 75,
   "metadata": {},
   "outputs": [],
   "source": [
    "import markdown\n",
    "from IPython.display import display, HTML\n",
    "\n",
    "def print_md_v2(content):\n",
    "    content = markdown.markdown(content)\n",
    "    styled_content = f\"\"\"\n",
    "    <div dir=\"rtl\" style=\"font-family: Tahoma, Arial, sans-serif; font-size: 16px; color: #300; background-color: #f9f9f9; padding: 10px; border-radius: 8px;\">\n",
    "        {content}\n",
    "    </div>\n",
    "    \"\"\"\n",
    "    display(HTML(styled_content))\n"
   ]
  },
  {
   "cell_type": "code",
   "execution_count": 81,
   "metadata": {},
   "outputs": [
    {
     "data": {
      "text/html": [
       "\n",
       "    <div dir=\"rtl\" style=\"font-family: Tahoma, Arial, sans-serif; font-size: 16px; color: #300; background-color: #f9f9f9; padding: 10px; border-radius: 8px;\">\n",
       "        <p>سلام در اسپانیایی \"hola\" (هولا) گفته می‌شود. مثلاً وقتی وارد یک اتاق می‌شوید و می‌خواهید به همه سلام کنید، می‌گویید: \"¡Hola a todos!\" (هولا آ تودوس!) که معنی آن \"سلام به همه!\" است.</p>\n",
       "    </div>\n",
       "    "
      ],
      "text/plain": [
       "<IPython.core.display.HTML object>"
      ]
     },
     "metadata": {},
     "output_type": "display_data"
    },
    {
     "name": "stdout",
     "output_type": "stream",
     "text": [
      "**********************************************************************\n"
     ]
    },
    {
     "data": {
      "text/html": [
       "\n",
       "    <div dir=\"rtl\" style=\"font-family: Tahoma, Arial, sans-serif; font-size: 16px; color: #300; background-color: #f9f9f9; padding: 10px; border-radius: 8px;\">\n",
       "        <p>شما می‌توانید بگویید:</p>\n",
       "<p>\"Nací en Shiraz.\"</p>\n",
       "<p>مثال: \"Yo nací en Shiraz, una ciudad famosa por sus flores y poesía.\" (\"من در شیراز متولد شدم، شهری که برای گل‌هایش و شعرهایش معروف است.\")</p>\n",
       "    </div>\n",
       "    "
      ],
      "text/plain": [
       "<IPython.core.display.HTML object>"
      ]
     },
     "metadata": {},
     "output_type": "display_data"
    },
    {
     "name": "stdout",
     "output_type": "stream",
     "text": [
      "**********************************************************************\n"
     ]
    }
   ],
   "source": [
    "for response in responses:\n",
    "    print_md_v2(response.content)\n",
    "    print('*'*70)"
   ]
  },
  {
   "cell_type": "code",
   "execution_count": 55,
   "metadata": {},
   "outputs": [
    {
     "data": {
      "text/html": [
       "\n",
       "    <div dir=\"rtl\" style=\"font-family: Tahoma, Arial, sans-serif; font-size: 16px; color: #333; background-color: #f9f9f9; padding: 10px; border-radius: 8px;\">\n",
       "        <h1>سلام دنیا</h1>\n",
       "<p><strong>این یک متن بولد است</strong></p>\n",
       "    </div>\n",
       "    "
      ],
      "text/plain": [
       "<IPython.core.display.HTML object>"
      ]
     },
     "metadata": {},
     "output_type": "display_data"
    }
   ],
   "source": [
    "print_md_v2(\"# سلام دنیا\\n**این یک متن بولد است**\")"
   ]
  },
  {
   "cell_type": "code",
   "execution_count": 63,
   "metadata": {},
   "outputs": [],
   "source": [
    "import markdown\n",
    "from IPython.display import display, HTML\n",
    "import re\n",
    "\n",
    "def fix_ltr(content):\n",
    "    \"\"\"Wraps LTR words in <bdi> tags to handle mixed-direction text properly.\"\"\"\n",
    "    return re.sub(r'([a-zA-Z0-9@#\\-_]+)', r'<bdi>\\1</bdi>', content)\n",
    "\n",
    "def print_md_v3(content):\n",
    "    content = markdown.markdown(content)\n",
    "    content = fix_ltr(content)\n",
    "    styled_content = f\"\"\"\n",
    "    <div dir=\"rtl\" style=\"font-family: Tahoma, Arial, sans-serif; font-size: 16px; color: #222; background-color: #fafafa; padding: 10px; border-radius: 8px;\">\n",
    "        {content}\n",
    "    </div>\n",
    "    \"\"\"\n",
    "    display(HTML(styled_content))\n"
   ]
  },
  {
   "cell_type": "code",
   "execution_count": 64,
   "metadata": {},
   "outputs": [
    {
     "data": {
      "text/html": [
       "\n",
       "    <div dir=\"rtl\" style=\"font-family: Tahoma, Arial, sans-serif; font-size: 16px; color: #222; background-color: #fafafa; padding: 10px; border-radius: 8px;\">\n",
       "        <<bdi>p</bdi>>سلام در اسپانیایی \"<bdi>hola</bdi>\" (هولا) گفته می‌شود. مثلاً وقتی وارد یک اتاق می‌شوید و می‌خواهید به همه سلام کنید، می‌گویید: \"¡<bdi>Hola</bdi> <bdi>a</bdi> <bdi>todos</bdi>!\" (هولا آ تودوس!) که معنی آن \"سلام به همه!\" است.</<bdi>p</bdi>>\n",
       "    </div>\n",
       "    "
      ],
      "text/plain": [
       "<IPython.core.display.HTML object>"
      ]
     },
     "metadata": {},
     "output_type": "display_data"
    },
    {
     "name": "stdout",
     "output_type": "stream",
     "text": [
      "**********************************************************************\n"
     ]
    },
    {
     "data": {
      "text/html": [
       "\n",
       "    <div dir=\"rtl\" style=\"font-family: Tahoma, Arial, sans-serif; font-size: 16px; color: #222; background-color: #fafafa; padding: 10px; border-radius: 8px;\">\n",
       "        <<bdi>p</bdi>>شما می‌توانید بگویید:</<bdi>p</bdi>>\n",
       "<<bdi>p</bdi>>\"<bdi>Nac</bdi>í <bdi>en</bdi> <bdi>Teher</bdi>á<bdi>n</bdi>.\"</<bdi>p</bdi>>\n",
       "<<bdi>p</bdi>>مثال:</<bdi>p</bdi>>\n",
       "<<bdi>p</bdi>>من در تهران به دنیا آمدم. = \"<bdi>Nac</bdi>í <bdi>en</bdi> <bdi>Teher</bdi>á<bdi>n</bdi>.\"</<bdi>p</bdi>>\n",
       "    </div>\n",
       "    "
      ],
      "text/plain": [
       "<IPython.core.display.HTML object>"
      ]
     },
     "metadata": {},
     "output_type": "display_data"
    },
    {
     "name": "stdout",
     "output_type": "stream",
     "text": [
      "**********************************************************************\n"
     ]
    }
   ],
   "source": [
    "for response in responses:\n",
    "    print_md_v3(response.content)\n",
    "    print('*'*70)"
   ]
  },
  {
   "cell_type": "markdown",
   "metadata": {},
   "source": [
    "## Stream"
   ]
  },
  {
   "cell_type": "code",
   "execution_count": 112,
   "metadata": {},
   "outputs": [
    {
     "name": "stdout",
     "output_type": "stream",
     "text": [
      "شما می‌توانید بگویید:\n",
      "\n",
      "\"Nací en Shiraz.\"\n",
      "\n",
      "مثال: \"Yo nací en Shiraz, una ciudad famosa por sus flores y poesía.\" (\"من در شیراز متولد شدم، شهری که برای گل‌هایش و شعرهایش معروف است.\")"
     ]
    }
   ],
   "source": [
    "for chunk in chat.stream(messages[1]):\n",
    "    print(chunk.content, end=\"\", flush=True)"
   ]
  },
  {
   "cell_type": "code",
   "execution_count": 106,
   "metadata": {},
   "outputs": [
    {
     "name": "stdout",
     "output_type": "stream",
     "text": [
      "شما می‌توانید بگویید:\n",
      "\n",
      "\"Nací en Shiraz.\"\n",
      "\n",
      "مثال: \"Yo nací en Shiraz, una ciudad famosa por sus jardines y poesía.\" (\"من در شیراز به دنیا آمدم، شهری که به خاطر باغ‌ها و شعرهایش معروف است.\")"
     ]
    }
   ],
   "source": [
    "## Add delay:\n",
    "import time\n",
    "\n",
    "for chunk in chat.stream(messages[1]):\n",
    "    start = time.time()\n",
    "    print(chunk.content, end=\"\", flush=True)\n",
    "    # print(time.time()-start)\n",
    "    time.sleep(0.05)"
   ]
  },
  {
   "cell_type": "code",
   "execution_count": 110,
   "metadata": {},
   "outputs": [
    {
     "name": "stdout",
     "output_type": "stream",
     "text": [
      "شما می‌توانید بگویید:\n",
      "\n",
      "\"Nací en Shiraz.\"\n",
      "\n",
      "مثال: \"Yo nací en Shiraz, una ciudad famosa por sus jardines y poesía.\" (\"من در شیراز به دنیا آمدم، شهری که برای باغ‌هایش و شعرهایش معروف است.\")"
     ]
    }
   ],
   "source": [
    "## natural delay - random delay\n",
    "import time\n",
    "import random\n",
    "\n",
    "for chunk in chat.stream(messages[1]):\n",
    "    for char in chunk.content:\n",
    "        print(char, end=\"\", flush=True)\n",
    "        time.sleep(random.uniform(0.03, 0.08))  # Vary typing speed\n"
   ]
  },
  {
   "cell_type": "markdown",
   "metadata": {},
   "source": [
    "## asynchronnizing"
   ]
  },
  {
   "cell_type": "code",
   "execution_count": 116,
   "metadata": {},
   "outputs": [
    {
     "name": "stdout",
     "output_type": "stream",
     "text": [
      "شما می‌توانید بگویید:\n",
      "\n",
      "\"Nací en Shiraz.\"\n",
      "\n",
      "مثال: \"Yo nací en Shiraz, una ciudad famosa por sus flores y poesía.\" (\"من در شیراز متولد شدم، شهری که برای گل‌هایش و شعرهایش معروف است.\")"
     ]
    }
   ],
   "source": [
    "import asyncio\n",
    "\n",
    "async def stream_response():\n",
    "    async for chunk in chat.astream(messages[1]):\n",
    "        print(chunk.content, end=\"\", flush=True)\n",
    "        await asyncio.sleep(0.05)  # Slow down output\n",
    "\n",
    "# Use `await` inside Jupyter instead of `asyncio.run()`\n",
    "await stream_response()\n"
   ]
  },
  {
   "cell_type": "code",
   "execution_count": null,
   "metadata": {},
   "outputs": [],
   "source": []
  }
 ],
 "metadata": {
  "kernelspec": {
   "display_name": ".venv",
   "language": "python",
   "name": "python3"
  },
  "language_info": {
   "codemirror_mode": {
    "name": "ipython",
    "version": 3
   },
   "file_extension": ".py",
   "mimetype": "text/x-python",
   "name": "python",
   "nbconvert_exporter": "python",
   "pygments_lexer": "ipython3",
   "version": "3.10.12"
  }
 },
 "nbformat": 4,
 "nbformat_minor": 2
}
