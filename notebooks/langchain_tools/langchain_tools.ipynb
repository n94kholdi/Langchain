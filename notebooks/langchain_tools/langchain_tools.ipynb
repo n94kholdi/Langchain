{
 "cells": [
  {
   "cell_type": "markdown",
   "metadata": {},
   "source": [
    "<h1 dir=rtl align=center style=\"line-height:200%;font-family:vazir;color:#0099cc\">\n",
    "<font face=\"vazir\" color=\"#0099cc\">\n",
    "ابزارها در <code>LangChain</code>\n",
    "</font>\n",
    "</h1>"
   ]
  },
  {
   "cell_type": "markdown",
   "metadata": {},
   "source": [
    "## Wikipedia tool"
   ]
  },
  {
   "cell_type": "code",
   "execution_count": 1,
   "metadata": {},
   "outputs": [],
   "source": [
    "from langchain_community.tools import WikipediaQueryRun\n",
    "from langchain_community.utilities import WikipediaAPIWrapper"
   ]
  },
  {
   "cell_type": "code",
   "execution_count": 6,
   "metadata": {},
   "outputs": [],
   "source": [
    "api_wrapper = WikipediaAPIWrapper(top_k_results=1, doc_content_chars_max=300)\n",
    "wikipedia_tool = WikipediaQueryRun(api_wrapper=api_wrapper)"
   ]
  },
  {
   "cell_type": "code",
   "execution_count": 7,
   "metadata": {},
   "outputs": [
    {
     "name": "stdout",
     "output_type": "stream",
     "text": [
      "wikipedia\n",
      "A wrapper around Wikipedia. Useful for when you need to answer general questions about people, places, companies, facts, historical events, or other subjects. Input should be a search query.\n",
      "{'query': {'description': 'query to look up on wikipedia', 'title': 'Query', 'type': 'string'}}\n"
     ]
    }
   ],
   "source": [
    "print(wikipedia_tool.name)\n",
    "print(wikipedia_tool.description)\n",
    "print(wikipedia_tool.args)"
   ]
  },
  {
   "cell_type": "code",
   "execution_count": 8,
   "metadata": {},
   "outputs": [
    {
     "name": "stdout",
     "output_type": "stream",
     "text": [
      "Page: Isfahan\n",
      "Summary: Isfahan or Esfahan (Persian: اصفهان [esfæˈhɒːn] ) is a city in the Central District of Isfahan County, Isfahan province, Iran. It is the capital of the province, the county, and the district. It is located 440 kilometres (270 miles) south of Tehran. The city has a population o\n"
     ]
    }
   ],
   "source": [
    "print(wikipedia_tool.run({\"query\": \"Esfahan\"}))"
   ]
  },
  {
   "cell_type": "markdown",
   "metadata": {},
   "source": [
    "## SerpAPI tool"
   ]
  },
  {
   "cell_type": "code",
   "execution_count": null,
   "metadata": {},
   "outputs": [],
   "source": [
    "import getpass\n",
    "import os\n",
    "\n",
    "os.environ[\"SERPAPI_API_KEY\"] = getpass.getpass()"
   ]
  },
  {
   "cell_type": "code",
   "execution_count": 6,
   "metadata": {},
   "outputs": [
    {
     "data": {
      "text/plain": [
       "'William Shakespeare'"
      ]
     },
     "execution_count": 6,
     "metadata": {},
     "output_type": "execute_result"
    }
   ],
   "source": [
    "from langchain_community.utilities import SerpAPIWrapper\n",
    "\n",
    "search_tool = SerpAPIWrapper(search_engine = 'google')\n",
    "search_tool.run(\"Shakespeare's first name?\")"
   ]
  },
  {
   "cell_type": "code",
   "execution_count": 7,
   "metadata": {},
   "outputs": [
    {
     "name": "stdout",
     "output_type": "stream",
     "text": [
      "Title: [2303.18223] A Survey of Large Language Models, Cited by 2104\n",
      "Title: [2402.06196] Large Language Models: A Survey, Cited by 144\n",
      "Title: RUCAIBox/LLMSurvey\n",
      "Title: [TMLR 2024] Efficient Large Language Models: A Survey\n",
      "Title: Large Language Models: A Comprehensive Survey of its ..., Cited by 105\n",
      "Title: A Comprehensive Survey of Large Language Models (LLMs)\n",
      "Title: A survey on large language model (LLM) security and privacy, Cited by 178\n",
      "Title: LLM Survey Report\n",
      "Title: A survey on large language model based autonomous ..., Cited by 471\n",
      "Title: A Survey on Evaluation of Large Language Models\n"
     ]
    }
   ],
   "source": [
    "search_tool = SerpAPIWrapper(search_engine='google_scholar')\n",
    "response = search_tool.results(\"LLM survay\")\n",
    "for result in response['organic_results']:\n",
    "    print(f'Title: {result[\"title\"]}')"
   ]
  },
  {
   "cell_type": "markdown",
   "metadata": {},
   "source": [
    "## Wolframe Alpha"
   ]
  },
  {
   "cell_type": "code",
   "execution_count": 18,
   "metadata": {},
   "outputs": [
    {
     "name": "stdout",
     "output_type": "stream",
     "text": [
      "Requirement already satisfied: wolframalpha in /home/nayereh/Documents/Courses/LLMs/.venv/lib/python3.10/site-packages (5.1.3)\n",
      "Requirement already satisfied: langchain_community in /home/nayereh/Documents/Courses/LLMs/.venv/lib/python3.10/site-packages (0.3.19)\n",
      "Collecting langchain_community\n",
      "  Downloading langchain_community-0.3.27-py3-none-any.whl.metadata (2.9 kB)\n",
      "Requirement already satisfied: xmltodict in /home/nayereh/Documents/Courses/LLMs/.venv/lib/python3.10/site-packages (from wolframalpha) (0.14.2)\n",
      "Requirement already satisfied: more-itertools in /home/nayereh/Documents/Courses/LLMs/.venv/lib/python3.10/site-packages (from wolframalpha) (10.7.0)\n",
      "Requirement already satisfied: jaraco.context in /home/nayereh/Documents/Courses/LLMs/.venv/lib/python3.10/site-packages (from wolframalpha) (6.0.1)\n",
      "Requirement already satisfied: httpx in /home/nayereh/Documents/Courses/LLMs/.venv/lib/python3.10/site-packages (from wolframalpha) (0.28.1)\n",
      "Requirement already satisfied: multidict in /home/nayereh/Documents/Courses/LLMs/.venv/lib/python3.10/site-packages (from wolframalpha) (6.1.0)\n",
      "Collecting langchain-core<1.0.0,>=0.3.66 (from langchain_community)\n",
      "  Downloading langchain_core-0.3.69-py3-none-any.whl.metadata (5.8 kB)\n",
      "Collecting langchain<1.0.0,>=0.3.26 (from langchain_community)\n",
      "  Downloading langchain-0.3.26-py3-none-any.whl.metadata (7.8 kB)\n",
      "Requirement already satisfied: SQLAlchemy<3,>=1.4 in /home/nayereh/Documents/Courses/LLMs/.venv/lib/python3.10/site-packages (from langchain_community) (2.0.38)\n",
      "Requirement already satisfied: requests<3,>=2 in /home/nayereh/Documents/Courses/LLMs/.venv/lib/python3.10/site-packages (from langchain_community) (2.32.3)\n",
      "Requirement already satisfied: PyYAML>=5.3 in /home/nayereh/Documents/Courses/LLMs/.venv/lib/python3.10/site-packages (from langchain_community) (6.0.2)\n",
      "Requirement already satisfied: aiohttp<4.0.0,>=3.8.3 in /home/nayereh/Documents/Courses/LLMs/.venv/lib/python3.10/site-packages (from langchain_community) (3.11.13)\n",
      "Requirement already satisfied: tenacity!=8.4.0,<10,>=8.1.0 in /home/nayereh/Documents/Courses/LLMs/.venv/lib/python3.10/site-packages (from langchain_community) (8.5.0)\n",
      "Requirement already satisfied: dataclasses-json<0.7,>=0.5.7 in /home/nayereh/Documents/Courses/LLMs/.venv/lib/python3.10/site-packages (from langchain_community) (0.6.7)\n",
      "Requirement already satisfied: pydantic-settings<3.0.0,>=2.4.0 in /home/nayereh/Documents/Courses/LLMs/.venv/lib/python3.10/site-packages (from langchain_community) (2.8.1)\n",
      "Requirement already satisfied: langsmith>=0.1.125 in /home/nayereh/Documents/Courses/LLMs/.venv/lib/python3.10/site-packages (from langchain_community) (0.1.147)\n",
      "Requirement already satisfied: httpx-sse<1.0.0,>=0.4.0 in /home/nayereh/Documents/Courses/LLMs/.venv/lib/python3.10/site-packages (from langchain_community) (0.4.0)\n",
      "Requirement already satisfied: numpy>=1.26.2 in /home/nayereh/Documents/Courses/LLMs/.venv/lib/python3.10/site-packages (from langchain_community) (1.26.4)\n",
      "Requirement already satisfied: aiohappyeyeballs>=2.3.0 in /home/nayereh/Documents/Courses/LLMs/.venv/lib/python3.10/site-packages (from aiohttp<4.0.0,>=3.8.3->langchain_community) (2.5.0)\n",
      "Requirement already satisfied: aiosignal>=1.1.2 in /home/nayereh/Documents/Courses/LLMs/.venv/lib/python3.10/site-packages (from aiohttp<4.0.0,>=3.8.3->langchain_community) (1.3.2)\n",
      "Requirement already satisfied: async-timeout<6.0,>=4.0 in /home/nayereh/Documents/Courses/LLMs/.venv/lib/python3.10/site-packages (from aiohttp<4.0.0,>=3.8.3->langchain_community) (4.0.3)\n",
      "Requirement already satisfied: attrs>=17.3.0 in /home/nayereh/Documents/Courses/LLMs/.venv/lib/python3.10/site-packages (from aiohttp<4.0.0,>=3.8.3->langchain_community) (25.1.0)\n",
      "Requirement already satisfied: frozenlist>=1.1.1 in /home/nayereh/Documents/Courses/LLMs/.venv/lib/python3.10/site-packages (from aiohttp<4.0.0,>=3.8.3->langchain_community) (1.5.0)\n",
      "Requirement already satisfied: propcache>=0.2.0 in /home/nayereh/Documents/Courses/LLMs/.venv/lib/python3.10/site-packages (from aiohttp<4.0.0,>=3.8.3->langchain_community) (0.3.0)\n",
      "Requirement already satisfied: yarl<2.0,>=1.17.0 in /home/nayereh/Documents/Courses/LLMs/.venv/lib/python3.10/site-packages (from aiohttp<4.0.0,>=3.8.3->langchain_community) (1.18.3)\n",
      "Requirement already satisfied: marshmallow<4.0.0,>=3.18.0 in /home/nayereh/Documents/Courses/LLMs/.venv/lib/python3.10/site-packages (from dataclasses-json<0.7,>=0.5.7->langchain_community) (3.26.1)\n",
      "Requirement already satisfied: typing-inspect<1,>=0.4.0 in /home/nayereh/Documents/Courses/LLMs/.venv/lib/python3.10/site-packages (from dataclasses-json<0.7,>=0.5.7->langchain_community) (0.9.0)\n",
      "Collecting langchain-text-splitters<1.0.0,>=0.3.8 (from langchain<1.0.0,>=0.3.26->langchain_community)\n",
      "  Downloading langchain_text_splitters-0.3.8-py3-none-any.whl.metadata (1.9 kB)\n",
      "Requirement already satisfied: pydantic<3.0.0,>=2.7.4 in /home/nayereh/Documents/Courses/LLMs/.venv/lib/python3.10/site-packages (from langchain<1.0.0,>=0.3.26->langchain_community) (2.10.6)\n",
      "Collecting langsmith>=0.1.125 (from langchain_community)\n",
      "  Downloading langsmith-0.4.7-py3-none-any.whl.metadata (15 kB)\n",
      "Requirement already satisfied: jsonpatch<2.0,>=1.33 in /home/nayereh/Documents/Courses/LLMs/.venv/lib/python3.10/site-packages (from langchain-core<1.0.0,>=0.3.66->langchain_community) (1.33)\n",
      "Requirement already satisfied: typing-extensions>=4.7 in /home/nayereh/Documents/Courses/LLMs/.venv/lib/python3.10/site-packages (from langchain-core<1.0.0,>=0.3.66->langchain_community) (4.12.2)\n",
      "Requirement already satisfied: packaging>=23.2 in /home/nayereh/Documents/Courses/LLMs/.venv/lib/python3.10/site-packages (from langchain-core<1.0.0,>=0.3.66->langchain_community) (24.2)\n",
      "Requirement already satisfied: orjson<4.0.0,>=3.9.14 in /home/nayereh/Documents/Courses/LLMs/.venv/lib/python3.10/site-packages (from langsmith>=0.1.125->langchain_community) (3.10.15)\n",
      "Requirement already satisfied: requests-toolbelt<2.0.0,>=1.0.0 in /home/nayereh/Documents/Courses/LLMs/.venv/lib/python3.10/site-packages (from langsmith>=0.1.125->langchain_community) (1.0.0)\n",
      "Requirement already satisfied: zstandard<0.24.0,>=0.23.0 in /home/nayereh/Documents/Courses/LLMs/.venv/lib/python3.10/site-packages (from langsmith>=0.1.125->langchain_community) (0.23.0)\n",
      "Requirement already satisfied: anyio in /home/nayereh/Documents/Courses/LLMs/.venv/lib/python3.10/site-packages (from httpx->wolframalpha) (4.8.0)\n",
      "Requirement already satisfied: certifi in /home/nayereh/Documents/Courses/LLMs/.venv/lib/python3.10/site-packages (from httpx->wolframalpha) (2025.1.31)\n",
      "Requirement already satisfied: httpcore==1.* in /home/nayereh/Documents/Courses/LLMs/.venv/lib/python3.10/site-packages (from httpx->wolframalpha) (1.0.7)\n",
      "Requirement already satisfied: idna in /home/nayereh/Documents/Courses/LLMs/.venv/lib/python3.10/site-packages (from httpx->wolframalpha) (3.10)\n",
      "Requirement already satisfied: h11<0.15,>=0.13 in /home/nayereh/Documents/Courses/LLMs/.venv/lib/python3.10/site-packages (from httpcore==1.*->httpx->wolframalpha) (0.14.0)\n",
      "Requirement already satisfied: python-dotenv>=0.21.0 in /home/nayereh/Documents/Courses/LLMs/.venv/lib/python3.10/site-packages (from pydantic-settings<3.0.0,>=2.4.0->langchain_community) (1.0.1)\n",
      "Requirement already satisfied: charset-normalizer<4,>=2 in /home/nayereh/Documents/Courses/LLMs/.venv/lib/python3.10/site-packages (from requests<3,>=2->langchain_community) (3.4.1)\n",
      "Requirement already satisfied: urllib3<3,>=1.21.1 in /home/nayereh/Documents/Courses/LLMs/.venv/lib/python3.10/site-packages (from requests<3,>=2->langchain_community) (2.3.0)\n",
      "Requirement already satisfied: greenlet!=0.4.17 in /home/nayereh/Documents/Courses/LLMs/.venv/lib/python3.10/site-packages (from SQLAlchemy<3,>=1.4->langchain_community) (3.1.1)\n",
      "Requirement already satisfied: backports.tarfile in /home/nayereh/Documents/Courses/LLMs/.venv/lib/python3.10/site-packages (from jaraco.context->wolframalpha) (1.2.0)\n",
      "Requirement already satisfied: jsonpointer>=1.9 in /home/nayereh/Documents/Courses/LLMs/.venv/lib/python3.10/site-packages (from jsonpatch<2.0,>=1.33->langchain-core<1.0.0,>=0.3.66->langchain_community) (3.0.0)\n",
      "Requirement already satisfied: annotated-types>=0.6.0 in /home/nayereh/Documents/Courses/LLMs/.venv/lib/python3.10/site-packages (from pydantic<3.0.0,>=2.7.4->langchain<1.0.0,>=0.3.26->langchain_community) (0.7.0)\n",
      "Requirement already satisfied: pydantic-core==2.27.2 in /home/nayereh/Documents/Courses/LLMs/.venv/lib/python3.10/site-packages (from pydantic<3.0.0,>=2.7.4->langchain<1.0.0,>=0.3.26->langchain_community) (2.27.2)\n",
      "Requirement already satisfied: mypy-extensions>=0.3.0 in /home/nayereh/Documents/Courses/LLMs/.venv/lib/python3.10/site-packages (from typing-inspect<1,>=0.4.0->dataclasses-json<0.7,>=0.5.7->langchain_community) (1.0.0)\n",
      "Requirement already satisfied: exceptiongroup>=1.0.2 in /home/nayereh/Documents/Courses/LLMs/.venv/lib/python3.10/site-packages (from anyio->httpx->wolframalpha) (1.2.2)\n",
      "Requirement already satisfied: sniffio>=1.1 in /home/nayereh/Documents/Courses/LLMs/.venv/lib/python3.10/site-packages (from anyio->httpx->wolframalpha) (1.3.1)\n",
      "Downloading langchain_community-0.3.27-py3-none-any.whl (2.5 MB)\n",
      "\u001b[2K   \u001b[90m━━━━━━━━━━━━━━━━━━━━━━━━━━━━━━━━━━━━━━━━\u001b[0m \u001b[32m2.5/2.5 MB\u001b[0m \u001b[31m345.3 kB/s\u001b[0m eta \u001b[36m0:00:00\u001b[0ma \u001b[36m0:00:01\u001b[0m\n",
      "\u001b[?25hDownloading langchain-0.3.26-py3-none-any.whl (1.0 MB)\n",
      "\u001b[2K   \u001b[90m━━━━━━━━━━━━━━━━━━━━━━━━━━━━━━━━━━━━━━━━\u001b[0m \u001b[32m1.0/1.0 MB\u001b[0m \u001b[31m537.9 kB/s\u001b[0m eta \u001b[36m0:00:00\u001b[0ma \u001b[36m0:00:01\u001b[0m\n",
      "\u001b[?25hDownloading langchain_core-0.3.69-py3-none-any.whl (441 kB)\n",
      "Downloading langsmith-0.4.7-py3-none-any.whl (367 kB)\n",
      "Downloading langchain_text_splitters-0.3.8-py3-none-any.whl (32 kB)\n",
      "Installing collected packages: langsmith, langchain-core, langchain-text-splitters, langchain, langchain_community\n",
      "  Attempting uninstall: langsmith\n",
      "    Found existing installation: langsmith 0.1.147\n",
      "    Uninstalling langsmith-0.1.147:\n",
      "      Successfully uninstalled langsmith-0.1.147\n",
      "  Attempting uninstall: langchain-core\n",
      "    Found existing installation: langchain-core 0.3.49\n",
      "    Uninstalling langchain-core-0.3.49:\n",
      "      Successfully uninstalled langchain-core-0.3.49\n",
      "  Attempting uninstall: langchain-text-splitters\n",
      "    Found existing installation: langchain-text-splitters 0.3.7\n",
      "    Uninstalling langchain-text-splitters-0.3.7:\n",
      "      Successfully uninstalled langchain-text-splitters-0.3.7\n",
      "  Attempting uninstall: langchain\n",
      "    Found existing installation: langchain 0.3.21\n",
      "    Uninstalling langchain-0.3.21:\n",
      "      Successfully uninstalled langchain-0.3.21\n",
      "  Attempting uninstall: langchain_community\n",
      "    Found existing installation: langchain-community 0.3.19\n",
      "    Uninstalling langchain-community-0.3.19:\n",
      "      Successfully uninstalled langchain-community-0.3.19\n",
      "Successfully installed langchain-0.3.26 langchain-core-0.3.69 langchain-text-splitters-0.3.8 langchain_community-0.3.27 langsmith-0.4.7\n",
      "\n",
      "\u001b[1m[\u001b[0m\u001b[34;49mnotice\u001b[0m\u001b[1;39;49m]\u001b[0m\u001b[39;49m A new release of pip is available: \u001b[0m\u001b[31;49m25.0.1\u001b[0m\u001b[39;49m -> \u001b[0m\u001b[32;49m25.1.1\u001b[0m\n",
      "\u001b[1m[\u001b[0m\u001b[34;49mnotice\u001b[0m\u001b[1;39;49m]\u001b[0m\u001b[39;49m To update, run: \u001b[0m\u001b[32;49mpip install --upgrade pip\u001b[0m\n"
     ]
    }
   ],
   "source": [
    "!pip install --upgrade wolframalpha langchain_community"
   ]
  },
  {
   "cell_type": "code",
   "execution_count": 11,
   "metadata": {},
   "outputs": [
    {
     "name": "stdout",
     "output_type": "stream",
     "text": [
      "Collecting wolframalpha\n",
      "  Downloading wolframalpha-5.1.3-py3-none-any.whl.metadata (2.4 kB)\n",
      "Collecting xmltodict (from wolframalpha)\n",
      "  Downloading xmltodict-0.14.2-py2.py3-none-any.whl.metadata (8.0 kB)\n",
      "Collecting more-itertools (from wolframalpha)\n",
      "  Downloading more_itertools-10.7.0-py3-none-any.whl.metadata (37 kB)\n",
      "Collecting jaraco.context (from wolframalpha)\n",
      "  Downloading jaraco.context-6.0.1-py3-none-any.whl.metadata (4.1 kB)\n",
      "Requirement already satisfied: httpx in /home/nayereh/Documents/Courses/LLMs/.venv/lib/python3.10/site-packages (from wolframalpha) (0.28.1)\n",
      "Requirement already satisfied: multidict in /home/nayereh/Documents/Courses/LLMs/.venv/lib/python3.10/site-packages (from wolframalpha) (6.1.0)\n",
      "Requirement already satisfied: anyio in /home/nayereh/Documents/Courses/LLMs/.venv/lib/python3.10/site-packages (from httpx->wolframalpha) (4.8.0)\n",
      "Requirement already satisfied: certifi in /home/nayereh/Documents/Courses/LLMs/.venv/lib/python3.10/site-packages (from httpx->wolframalpha) (2025.1.31)\n",
      "Requirement already satisfied: httpcore==1.* in /home/nayereh/Documents/Courses/LLMs/.venv/lib/python3.10/site-packages (from httpx->wolframalpha) (1.0.7)\n",
      "Requirement already satisfied: idna in /home/nayereh/Documents/Courses/LLMs/.venv/lib/python3.10/site-packages (from httpx->wolframalpha) (3.10)\n",
      "Requirement already satisfied: h11<0.15,>=0.13 in /home/nayereh/Documents/Courses/LLMs/.venv/lib/python3.10/site-packages (from httpcore==1.*->httpx->wolframalpha) (0.14.0)\n",
      "Collecting backports.tarfile (from jaraco.context->wolframalpha)\n",
      "  Downloading backports.tarfile-1.2.0-py3-none-any.whl.metadata (2.0 kB)\n",
      "Requirement already satisfied: typing-extensions>=4.1.0 in /home/nayereh/Documents/Courses/LLMs/.venv/lib/python3.10/site-packages (from multidict->wolframalpha) (4.12.2)\n",
      "Requirement already satisfied: exceptiongroup>=1.0.2 in /home/nayereh/Documents/Courses/LLMs/.venv/lib/python3.10/site-packages (from anyio->httpx->wolframalpha) (1.2.2)\n",
      "Requirement already satisfied: sniffio>=1.1 in /home/nayereh/Documents/Courses/LLMs/.venv/lib/python3.10/site-packages (from anyio->httpx->wolframalpha) (1.3.1)\n",
      "Downloading wolframalpha-5.1.3-py3-none-any.whl (6.3 kB)\n",
      "Downloading jaraco.context-6.0.1-py3-none-any.whl (6.8 kB)\n",
      "Downloading more_itertools-10.7.0-py3-none-any.whl (65 kB)\n",
      "Downloading xmltodict-0.14.2-py2.py3-none-any.whl (10.0 kB)\n",
      "Downloading backports.tarfile-1.2.0-py3-none-any.whl (30 kB)\n",
      "Installing collected packages: xmltodict, more-itertools, backports.tarfile, jaraco.context, wolframalpha\n",
      "Successfully installed backports.tarfile-1.2.0 jaraco.context-6.0.1 more-itertools-10.7.0 wolframalpha-5.1.3 xmltodict-0.14.2\n",
      "\n",
      "\u001b[1m[\u001b[0m\u001b[34;49mnotice\u001b[0m\u001b[1;39;49m]\u001b[0m\u001b[39;49m A new release of pip is available: \u001b[0m\u001b[31;49m25.0.1\u001b[0m\u001b[39;49m -> \u001b[0m\u001b[32;49m25.1.1\u001b[0m\n",
      "\u001b[1m[\u001b[0m\u001b[34;49mnotice\u001b[0m\u001b[1;39;49m]\u001b[0m\u001b[39;49m To update, run: \u001b[0m\u001b[32;49mpip install --upgrade pip\u001b[0m\n"
     ]
    }
   ],
   "source": [
    "!pip install wolframalpha"
   ]
  },
  {
   "cell_type": "code",
   "execution_count": 12,
   "metadata": {},
   "outputs": [],
   "source": [
    "os.environ[\"WOLFRAM_ALPHA_APPID\"] =  getpass.getpass()\n",
    "\n",
    "from langchain_community.utilities.wolfram_alpha import WolframAlphaAPIWrapper\n",
    "\n",
    "wolfram = WolframAlphaAPIWrapper(wolfram_alpha_appid=\"HH325U7K85\")"
   ]
  },
  {
   "cell_type": "code",
   "execution_count": 2,
   "metadata": {},
   "outputs": [
    {
     "name": "stdout",
     "output_type": "stream",
     "text": [
      "Requirement already satisfied: nest_asyncio in /home/nayereh/Documents/Courses/LLMs/.venv/lib/python3.10/site-packages (1.6.0)\n",
      "\n",
      "\u001b[1m[\u001b[0m\u001b[34;49mnotice\u001b[0m\u001b[1;39;49m]\u001b[0m\u001b[39;49m A new release of pip is available: \u001b[0m\u001b[31;49m25.0.1\u001b[0m\u001b[39;49m -> \u001b[0m\u001b[32;49m25.1.1\u001b[0m\n",
      "\u001b[1m[\u001b[0m\u001b[34;49mnotice\u001b[0m\u001b[1;39;49m]\u001b[0m\u001b[39;49m To update, run: \u001b[0m\u001b[32;49mpip install --upgrade pip\u001b[0m\n"
     ]
    }
   ],
   "source": [
    "!pip install nest_asyncio\n",
    "\n",
    "import nest_asyncio\n",
    "nest_asyncio.apply()"
   ]
  },
  {
   "cell_type": "code",
   "execution_count": 13,
   "metadata": {},
   "outputs": [
    {
     "data": {
      "text/plain": [
       "'Assumption: 2 x + 2 = -3 x + 7 \\nAnswer: x = 1'"
      ]
     },
     "execution_count": 13,
     "metadata": {},
     "output_type": "execute_result"
    }
   ],
   "source": [
    "wolfram.run(\"2x + 2 = -3x + 7\")"
   ]
  },
  {
   "cell_type": "code",
   "execution_count": 14,
   "metadata": {},
   "outputs": [
    {
     "data": {
      "text/plain": [
       "'Assumption: sin(45°) \\nAnswer: 1/sqrt(2)'"
      ]
     },
     "execution_count": 14,
     "metadata": {},
     "output_type": "execute_result"
    }
   ],
   "source": [
    "wolfram.run(\"sin(45)\")"
   ]
  },
  {
   "cell_type": "code",
   "execution_count": 5,
   "metadata": {},
   "outputs": [
    {
     "name": "stdout",
     "output_type": "stream",
     "text": [
      "Input: 2 x + 2 = -3 x + 7\n",
      "Plot: None\n",
      "Alternate form: 5 x - 5 = 0\n",
      "Number line: None\n",
      "Solution: x = 1\n"
     ]
    }
   ],
   "source": [
    "import wolframalpha\n",
    "\n",
    "client = wolframalpha.Client(\"HH325U7K85\")\n",
    "\n",
    "res = client.query(\"2x + 2 = -3x + 7\")\n",
    "\n",
    "for pod in res.pods:\n",
    "    print(f\"{pod.title}: {pod.text}\")\n"
   ]
  },
  {
   "cell_type": "markdown",
   "metadata": {},
   "source": [
    "## Wolfram alpha - request"
   ]
  },
  {
   "cell_type": "code",
   "execution_count": 18,
   "metadata": {},
   "outputs": [
    {
     "name": "stdout",
     "output_type": "stream",
     "text": [
      "Title: Input\n",
      "  -> 2 x×2 = -3 x×7\n",
      "Title: Result\n",
      "  -> 4 x = -21 x\n",
      "Title: Plot\n",
      "  -> \n",
      "Title: Alternate form\n",
      "  -> 25 x = 0\n",
      "Title: Number line\n",
      "  -> \n",
      "Title: Solution\n",
      "  -> x = 0\n"
     ]
    }
   ],
   "source": [
    "import os\n",
    "import requests\n",
    "\n",
    "app_id = os.environ[\"WOLFRAM_ALPHA_APPID\"]\n",
    "query = \"2x + 2 = -3x + 7\" ## This query doesn't work\n",
    "\n",
    "url = f\"https://api.wolframalpha.com/v2/query?input={query}&appid={app_id}&output=JSON\"\n",
    "\n",
    "response = requests.get(url)\n",
    "\n",
    "if response.ok:\n",
    "    data = response.json()\n",
    "    pods = data.get(\"queryresult\", {}).get(\"pods\", [])\n",
    "    for pod in pods:\n",
    "        print(\"Title:\", pod.get(\"title\"))\n",
    "        for sub in pod.get(\"subpods\", []):\n",
    "            print(\"  ->\", sub.get(\"plaintext\"))\n",
    "else:\n",
    "    print(\"Request failed:\", response.status_code, response.text)"
   ]
  },
  {
   "cell_type": "code",
   "execution_count": null,
   "metadata": {},
   "outputs": [],
   "source": []
  }
 ],
 "metadata": {
  "kernelspec": {
   "display_name": ".venv",
   "language": "python",
   "name": "python3"
  },
  "language_info": {
   "codemirror_mode": {
    "name": "ipython",
    "version": 3
   },
   "file_extension": ".py",
   "mimetype": "text/x-python",
   "name": "python",
   "nbconvert_exporter": "python",
   "pygments_lexer": "ipython3",
   "version": "3.10.12"
  }
 },
 "nbformat": 4,
 "nbformat_minor": 2
}
